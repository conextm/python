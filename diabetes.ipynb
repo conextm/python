{
 "cells": [
  {
   "cell_type": "markdown",
   "id": "3daa6207-6047-4512-abd3-7a37376b4c08",
   "metadata": {},
   "source": [
    "# Predicción de Diabetes con regresión logística"
   ]
  },
  {
   "cell_type": "markdown",
   "id": "51349f03-baac-4c9c-8267-6049fbfe9fc2",
   "metadata": {},
   "source": [
    "### Pasos de este estudio\n",
    "1. Carga de datos\n",
    "1. Desarrollo"
   ]
  },
  {
   "cell_type": "markdown",
   "id": "53f167a9-6890-4097-b4a5-e7f22672e6a1",
   "metadata": {},
   "source": [
    "# 1. Carga de datos"
   ]
  },
  {
   "cell_type": "code",
   "execution_count": 1,
   "id": "a1593306-6eb1-4251-9c81-081d79c78511",
   "metadata": {},
   "outputs": [],
   "source": [
    "import pandas as pd\n",
    "import numpy as np\n",
    "import matplotlib.pyplot as plt"
   ]
  },
  {
   "cell_type": "code",
   "execution_count": 2,
   "id": "f3962b87-10dd-43e4-92f5-be80aa2f66b4",
   "metadata": {},
   "outputs": [],
   "source": [
    "# https://www.kaggle.com/datasets/kandij/diabetes-dataset\n",
    "# lectura de datos en Python\n",
    "train = pd.read_csv('./diabetes.csv')"
   ]
  },
  {
   "cell_type": "code",
   "execution_count": 3,
   "id": "417586f1-3f2c-41ff-b924-f092a415f940",
   "metadata": {},
   "outputs": [
    {
     "data": {
      "text/html": [
       "<div>\n",
       "<style scoped>\n",
       "    .dataframe tbody tr th:only-of-type {\n",
       "        vertical-align: middle;\n",
       "    }\n",
       "\n",
       "    .dataframe tbody tr th {\n",
       "        vertical-align: top;\n",
       "    }\n",
       "\n",
       "    .dataframe thead th {\n",
       "        text-align: right;\n",
       "    }\n",
       "</style>\n",
       "<table border=\"1\" class=\"dataframe\">\n",
       "  <thead>\n",
       "    <tr style=\"text-align: right;\">\n",
       "      <th></th>\n",
       "      <th>Pregnancies</th>\n",
       "      <th>Glucose</th>\n",
       "      <th>BloodPressure</th>\n",
       "      <th>SkinThickness</th>\n",
       "      <th>Insulin</th>\n",
       "      <th>BMI</th>\n",
       "      <th>DiabetesPedigreeFunction</th>\n",
       "      <th>Age</th>\n",
       "      <th>Outcome</th>\n",
       "    </tr>\n",
       "  </thead>\n",
       "  <tbody>\n",
       "    <tr>\n",
       "      <th>0</th>\n",
       "      <td>6</td>\n",
       "      <td>148</td>\n",
       "      <td>72</td>\n",
       "      <td>35</td>\n",
       "      <td>0</td>\n",
       "      <td>33.6</td>\n",
       "      <td>0.627</td>\n",
       "      <td>50</td>\n",
       "      <td>1</td>\n",
       "    </tr>\n",
       "    <tr>\n",
       "      <th>1</th>\n",
       "      <td>1</td>\n",
       "      <td>85</td>\n",
       "      <td>66</td>\n",
       "      <td>29</td>\n",
       "      <td>0</td>\n",
       "      <td>26.6</td>\n",
       "      <td>0.351</td>\n",
       "      <td>31</td>\n",
       "      <td>0</td>\n",
       "    </tr>\n",
       "    <tr>\n",
       "      <th>2</th>\n",
       "      <td>8</td>\n",
       "      <td>183</td>\n",
       "      <td>64</td>\n",
       "      <td>0</td>\n",
       "      <td>0</td>\n",
       "      <td>23.3</td>\n",
       "      <td>0.672</td>\n",
       "      <td>32</td>\n",
       "      <td>1</td>\n",
       "    </tr>\n",
       "  </tbody>\n",
       "</table>\n",
       "</div>"
      ],
      "text/plain": [
       "   Pregnancies  Glucose  BloodPressure  SkinThickness  Insulin   BMI  \\\n",
       "0            6      148             72             35        0  33.6   \n",
       "1            1       85             66             29        0  26.6   \n",
       "2            8      183             64              0        0  23.3   \n",
       "\n",
       "   DiabetesPedigreeFunction  Age  Outcome  \n",
       "0                     0.627   50        1  \n",
       "1                     0.351   31        0  \n",
       "2                     0.672   32        1  "
      ]
     },
     "execution_count": 3,
     "metadata": {},
     "output_type": "execute_result"
    }
   ],
   "source": [
    "train.head(3)"
   ]
  },
  {
   "cell_type": "markdown",
   "id": "c1f818d9-edb9-4c49-927f-bf4907161fae",
   "metadata": {},
   "source": [
    "Variables de interes:\n",
    "* BMI: índice de masa corporal. Es una métrica o KPI basada en el peso y la altura de cada persona. Un BMI muy alto puede ser indicativo de tener diabetes\n",
    "* Outcome: si la persona tiene diabetes o no"
   ]
  },
  {
   "cell_type": "markdown",
   "id": "32200dec-75cb-4ae8-8933-c1a827abbcd9",
   "metadata": {},
   "source": [
    "# 2. Desarrollo"
   ]
  },
  {
   "cell_type": "markdown",
   "id": "990a394b-7292-4719-a3f6-1bbeeb9339fc",
   "metadata": {},
   "source": [
    "En esta parte nos interesa explorar los datos y explicar el modelo de regresión logística a este caso de diabetes"
   ]
  },
  {
   "cell_type": "markdown",
   "id": "b7e0be37-3f2b-483d-8b6b-b4daf59aca6b",
   "metadata": {},
   "source": [
    "## 2.1 Exploración de datos"
   ]
  },
  {
   "cell_type": "markdown",
   "id": "35b804fe-172c-4a6a-82b7-7a2b3eb841b5",
   "metadata": {},
   "source": [
    "Miramos una tabla y una gráfica de los datos que nos interesan"
   ]
  },
  {
   "cell_type": "code",
   "execution_count": 4,
   "id": "db7c7bd1-bc62-4cae-b128-6e86435cc846",
   "metadata": {},
   "outputs": [
    {
     "data": {
      "text/html": [
       "<div>\n",
       "<style scoped>\n",
       "    .dataframe tbody tr th:only-of-type {\n",
       "        vertical-align: middle;\n",
       "    }\n",
       "\n",
       "    .dataframe tbody tr th {\n",
       "        vertical-align: top;\n",
       "    }\n",
       "\n",
       "    .dataframe thead th {\n",
       "        text-align: right;\n",
       "    }\n",
       "</style>\n",
       "<table border=\"1\" class=\"dataframe\">\n",
       "  <thead>\n",
       "    <tr style=\"text-align: right;\">\n",
       "      <th></th>\n",
       "      <th>BMI</th>\n",
       "      <th>Outcome</th>\n",
       "    </tr>\n",
       "  </thead>\n",
       "  <tbody>\n",
       "    <tr>\n",
       "      <th>0</th>\n",
       "      <td>33.6</td>\n",
       "      <td>1</td>\n",
       "    </tr>\n",
       "    <tr>\n",
       "      <th>1</th>\n",
       "      <td>26.6</td>\n",
       "      <td>0</td>\n",
       "    </tr>\n",
       "    <tr>\n",
       "      <th>2</th>\n",
       "      <td>23.3</td>\n",
       "      <td>1</td>\n",
       "    </tr>\n",
       "    <tr>\n",
       "      <th>3</th>\n",
       "      <td>28.1</td>\n",
       "      <td>0</td>\n",
       "    </tr>\n",
       "    <tr>\n",
       "      <th>4</th>\n",
       "      <td>43.1</td>\n",
       "      <td>1</td>\n",
       "    </tr>\n",
       "  </tbody>\n",
       "</table>\n",
       "</div>"
      ],
      "text/plain": [
       "    BMI  Outcome\n",
       "0  33.6        1\n",
       "1  26.6        0\n",
       "2  23.3        1\n",
       "3  28.1        0\n",
       "4  43.1        1"
      ]
     },
     "execution_count": 4,
     "metadata": {},
     "output_type": "execute_result"
    }
   ],
   "source": [
    "train[['BMI','Outcome']].head()"
   ]
  },
  {
   "cell_type": "code",
   "execution_count": 5,
   "id": "1eaead77-96b8-41f3-932e-9d774073fa9f",
   "metadata": {},
   "outputs": [
    {
     "data": {
      "text/plain": [
       "<AxesSubplot:xlabel='BMI', ylabel='Outcome'>"
      ]
     },
     "execution_count": 5,
     "metadata": {},
     "output_type": "execute_result"
    },
    {
     "data": {
      "image/png": "[encoded data removed]",
      "text/plain": [
       "<Figure size 432x288 with 1 Axes>"
      ]
     },
     "metadata": {
      "needs_background": "light"
     },
     "output_type": "display_data"
    }
   ],
   "source": [
    "train[['BMI','Outcome']].plot.scatter(x='BMI',y='Outcome')"
   ]
  },
  {
   "cell_type": "markdown",
   "id": "a8cb5b0e-a417-4da8-bf23-b6395266b241",
   "metadata": {},
   "source": [
    "## 2.2 Función logística"
   ]
  },
  {
   "cell_type": "markdown",
   "id": "6c162e61-28ac-4cb3-b75f-da7de8431c8c",
   "metadata": {
    "jp-MarkdownHeadingCollapsed": true,
    "tags": []
   },
   "source": [
    "Vamos a pintar una función logistica sobre estos datos\n",
    "\n",
    "$$ f_{w,b}\\left(\\vec{x}^{(i)}\\right)=\\frac{1}{1+\\exp-\\left(w\\vec{x}+b\\right)}$$\n",
    "Vamos a variar $w,b$ a ver que pasa en los datos"
   ]
  },
  {
   "cell_type": "code",
   "execution_count": 16,
   "id": "efe833d1-f92b-4fda-9e5d-c9883d0255f9",
   "metadata": {},
   "outputs": [],
   "source": [
    "# pruebas de parametro\n",
    "w = 0.09\n",
    "b = -3.6"
   ]
  },
  {
   "cell_type": "code",
   "execution_count": 17,
   "id": "5590c355-7b71-4810-9ef5-615a71c33461",
   "metadata": {},
   "outputs": [],
   "source": [
    "# despues de hacer el modelos (se explica más adelante)\n",
    "# intercepto (b): [-3.68596089]\n",
    "# pendiente (w): [[0.09351691]]"
   ]
  },
  {
   "cell_type": "code",
   "execution_count": 18,
   "id": "f87071fe-fca8-438f-ad01-ce60bf3bd987",
   "metadata": {},
   "outputs": [
    {
     "data": {
      "image/png": "[encoded data removed]",
      "text/plain": [
       "<Figure size 432x288 with 1 Axes>"
      ]
     },
     "metadata": {
      "needs_background": "light"
     },
     "output_type": "display_data"
    }
   ],
   "source": [
    "# puntos de la recta\n",
    "x = np.linspace(0,train['BMI'].max(),100)\n",
    "y = 1/(1+np.exp(-(w*x+b)))\n",
    "\n",
    "# grafica de la recta\n",
    "train.plot.scatter(x='BMI',y='Outcome')\n",
    "plt.plot(x, y, '-r')\n",
    "plt.ylim(0,train['Outcome'].max()*1.1)\n",
    "# plt.grid()\n",
    "plt.show()\n"
   ]
  },
  {
   "cell_type": "markdown",
   "id": "b41d10f4-738c-415b-99bb-754a73b7a71d",
   "metadata": {},
   "source": [
    "## 2.3 Optimización de parámetros"
   ]
  },
  {
   "cell_type": "markdown",
   "id": "f0e70d0b-8e52-40c5-b992-4b57f871feaf",
   "metadata": {},
   "source": [
    "Si escogemos esos parametros $w,b$ para el modelo, ¿Qué tan buenos son?\n",
    "\n",
    "Podemos utilizar la siguiente estrategia:\n",
    "* calcular el valor de la función logística para cada dato\n",
    "* calcular la función de pérdida (se denota con L o loss)\n",
    "* calcular el promedio de la pérdida para obtener el costo (se denota con Jo cost)\n",
    "\n",
    "Queremos los valores $w,b$ que resulten en un menor costo\n",
    "\n",
    "Las ecuaciones para las funciones son\n",
    "\n",
    "$$ L\\left(f_{w,b}\\left(\\vec{x}^{(i)}\\right),y^{(i)}\\right)=-y^{(i)}\\log\\left(f_{w,b}\\left(\\vec{x}^{(i)}\\right)\\right)-\\left(1-y^{(i)}\\right)\\log\\left(1-f_{w,b}\\left(\\vec{x}^{(i)}\\right)\\right) $$\n",
    "\n",
    "$$ J\\left(w,b\\right)=\\frac{1}{m}\\sum_{i=1}^{m}\\left[L\\left(f_{w,b}\\left(\\vec{x}^{(i)}\\right),y^{(i)}\\right)\\right] $$\n"
   ]
  },
  {
   "cell_type": "code",
   "execution_count": 19,
   "id": "ada590b8-7b8d-41eb-a0fd-fab322c521cf",
   "metadata": {
    "tags": []
   },
   "outputs": [
    {
     "data": {
      "text/plain": [
       "0.5995794663996219"
      ]
     },
     "execution_count": 19,
     "metadata": {},
     "output_type": "execute_result"
    }
   ],
   "source": [
    "# calculo de las predicciones\n",
    "train['sigmoid'] = 1/(1+np.exp(-(train['BMI']*w+b)))\n",
    "\n",
    "# calculo de la funcion de error\n",
    "train['loss_xi'] = -train['Outcome']*np.log(train['sigmoid'])-(1-train['Outcome'])*np.log(1-train['sigmoid'])\n",
    "cost_j = train['loss_xi'].mean()\n",
    "cost_j"
   ]
  },
  {
   "cell_type": "markdown",
   "id": "94ea73b6-5050-48c5-b2e1-5eef72f10e62",
   "metadata": {},
   "source": [
    "Esto lo hemos hecho con los parametros que hemos obtenido a ojo por ciento. Ahora vamos a ser más refinados y calcularlo para muchos parametros a la vez y luego de ahi mirar el que tenga menor costo.\n",
    "\n",
    "Para eso hacemos lo siguiente:\n",
    "* Construimos un dataframe con valores para $w,b$ que varían sobre una cuadricula o grid\n",
    "* Creamos una función de python que calcule el costo $J$ dados parametros $w,b$\n",
    "* Aplicamos la función sobre el dataframe con los valores $w,b$ en la cuadricula\n",
    "* Podemos ordenar la tabla resultante para obtener los valores $w,b$ con el menor costo\n",
    "* Luego hacemos gráficas para verificar el resultado"
   ]
  },
  {
   "cell_type": "code",
   "execution_count": 8023,
   "id": "a0ef685a-dd2f-47ec-bb2f-97bed2e04ae5",
   "metadata": {},
   "outputs": [],
   "source": [
    "# hacemos dataframe para calcular el error en funcion de los parametros w, b"
   ]
  },
  {
   "cell_type": "code",
   "execution_count": 20,
   "id": "d9000793-5dcd-4643-87d5-bba2e0a70481",
   "metadata": {
    "tags": []
   },
   "outputs": [],
   "source": [
    "array = np.mgrid[0.05:0.15:0.01, -4:-3:0.01].reshape(2,-1).T\n",
    "df = pd.DataFrame(data = array, \n",
    "                  columns = ['w','b'])\n",
    "\n",
    "# round para solventar problema con muchos decimales\n",
    "df['w'] = np.round(df['w'], 6)\n",
    "df['b'] = np.round(df['b'], 6)"
   ]
  },
  {
   "cell_type": "code",
   "execution_count": 21,
   "id": "7f081bef-45a7-479f-8347-15efd6fc6f5b",
   "metadata": {},
   "outputs": [
    {
     "data": {
      "text/html": [
       "<div>\n",
       "<style scoped>\n",
       "    .dataframe tbody tr th:only-of-type {\n",
       "        vertical-align: middle;\n",
       "    }\n",
       "\n",
       "    .dataframe tbody tr th {\n",
       "        vertical-align: top;\n",
       "    }\n",
       "\n",
       "    .dataframe thead th {\n",
       "        text-align: right;\n",
       "    }\n",
       "</style>\n",
       "<table border=\"1\" class=\"dataframe\">\n",
       "  <thead>\n",
       "    <tr style=\"text-align: right;\">\n",
       "      <th></th>\n",
       "      <th>w</th>\n",
       "      <th>b</th>\n",
       "    </tr>\n",
       "  </thead>\n",
       "  <tbody>\n",
       "    <tr>\n",
       "      <th>0</th>\n",
       "      <td>0.05</td>\n",
       "      <td>-4.00</td>\n",
       "    </tr>\n",
       "    <tr>\n",
       "      <th>1</th>\n",
       "      <td>0.05</td>\n",
       "      <td>-3.99</td>\n",
       "    </tr>\n",
       "    <tr>\n",
       "      <th>2</th>\n",
       "      <td>0.05</td>\n",
       "      <td>-3.98</td>\n",
       "    </tr>\n",
       "    <tr>\n",
       "      <th>3</th>\n",
       "      <td>0.05</td>\n",
       "      <td>-3.97</td>\n",
       "    </tr>\n",
       "    <tr>\n",
       "      <th>4</th>\n",
       "      <td>0.05</td>\n",
       "      <td>-3.96</td>\n",
       "    </tr>\n",
       "    <tr>\n",
       "      <th>...</th>\n",
       "      <td>...</td>\n",
       "      <td>...</td>\n",
       "    </tr>\n",
       "    <tr>\n",
       "      <th>995</th>\n",
       "      <td>0.14</td>\n",
       "      <td>-3.05</td>\n",
       "    </tr>\n",
       "    <tr>\n",
       "      <th>996</th>\n",
       "      <td>0.14</td>\n",
       "      <td>-3.04</td>\n",
       "    </tr>\n",
       "    <tr>\n",
       "      <th>997</th>\n",
       "      <td>0.14</td>\n",
       "      <td>-3.03</td>\n",
       "    </tr>\n",
       "    <tr>\n",
       "      <th>998</th>\n",
       "      <td>0.14</td>\n",
       "      <td>-3.02</td>\n",
       "    </tr>\n",
       "    <tr>\n",
       "      <th>999</th>\n",
       "      <td>0.14</td>\n",
       "      <td>-3.01</td>\n",
       "    </tr>\n",
       "  </tbody>\n",
       "</table>\n",
       "<p>1000 rows × 2 columns</p>\n",
       "</div>"
      ],
      "text/plain": [
       "        w     b\n",
       "0    0.05 -4.00\n",
       "1    0.05 -3.99\n",
       "2    0.05 -3.98\n",
       "3    0.05 -3.97\n",
       "4    0.05 -3.96\n",
       "..    ...   ...\n",
       "995  0.14 -3.05\n",
       "996  0.14 -3.04\n",
       "997  0.14 -3.03\n",
       "998  0.14 -3.02\n",
       "999  0.14 -3.01\n",
       "\n",
       "[1000 rows x 2 columns]"
      ]
     },
     "execution_count": 21,
     "metadata": {},
     "output_type": "execute_result"
    }
   ],
   "source": [
    "df"
   ]
  },
  {
   "cell_type": "code",
   "execution_count": 22,
   "id": "04441243-2769-4b13-a28e-4c418e950a1a",
   "metadata": {},
   "outputs": [],
   "source": [
    "def sum_error_df(df):\n",
    "    train['sigmoid'] = 1/(1+np.exp(-(train['BMI']*df['w']+df['b'])))\n",
    "    train['loss_xi'] = -train['Outcome']*np.log(train['sigmoid'])-(1-train['Outcome'])*np.log(1-train['sigmoid'])\n",
    "    j_cost = train['loss_xi'].mean()\n",
    "    return(j_cost)"
   ]
  },
  {
   "cell_type": "code",
   "execution_count": 23,
   "id": "b88eccb6-1ed9-439b-8cb4-4ae51445fb03",
   "metadata": {},
   "outputs": [],
   "source": [
    "df['error'] = df.apply(sum_error_df, axis=1)"
   ]
  },
  {
   "cell_type": "code",
   "execution_count": 24,
   "id": "49d8cd15-03eb-4938-a033-b6ff148a214e",
   "metadata": {},
   "outputs": [
    {
     "data": {
      "text/html": [
       "<div>\n",
       "<style scoped>\n",
       "    .dataframe tbody tr th:only-of-type {\n",
       "        vertical-align: middle;\n",
       "    }\n",
       "\n",
       "    .dataframe tbody tr th {\n",
       "        vertical-align: top;\n",
       "    }\n",
       "\n",
       "    .dataframe thead th {\n",
       "        text-align: right;\n",
       "    }\n",
       "</style>\n",
       "<table border=\"1\" class=\"dataframe\">\n",
       "  <thead>\n",
       "    <tr style=\"text-align: right;\">\n",
       "      <th></th>\n",
       "      <th>w</th>\n",
       "      <th>b</th>\n",
       "      <th>error</th>\n",
       "    </tr>\n",
       "  </thead>\n",
       "  <tbody>\n",
       "    <tr>\n",
       "      <th>443</th>\n",
       "      <td>0.09</td>\n",
       "      <td>-3.57</td>\n",
       "      <td>0.599480</td>\n",
       "    </tr>\n",
       "    <tr>\n",
       "      <th>444</th>\n",
       "      <td>0.09</td>\n",
       "      <td>-3.56</td>\n",
       "      <td>0.599488</td>\n",
       "    </tr>\n",
       "    <tr>\n",
       "      <th>442</th>\n",
       "      <td>0.09</td>\n",
       "      <td>-3.58</td>\n",
       "      <td>0.599492</td>\n",
       "    </tr>\n",
       "    <tr>\n",
       "      <th>445</th>\n",
       "      <td>0.09</td>\n",
       "      <td>-3.55</td>\n",
       "      <td>0.599517</td>\n",
       "    </tr>\n",
       "    <tr>\n",
       "      <th>441</th>\n",
       "      <td>0.09</td>\n",
       "      <td>-3.59</td>\n",
       "      <td>0.599526</td>\n",
       "    </tr>\n",
       "  </tbody>\n",
       "</table>\n",
       "</div>"
      ],
      "text/plain": [
       "        w     b     error\n",
       "443  0.09 -3.57  0.599480\n",
       "444  0.09 -3.56  0.599488\n",
       "442  0.09 -3.58  0.599492\n",
       "445  0.09 -3.55  0.599517\n",
       "441  0.09 -3.59  0.599526"
      ]
     },
     "execution_count": 24,
     "metadata": {},
     "output_type": "execute_result"
    }
   ],
   "source": [
    "df.sort_values(by=['error']).head()"
   ]
  },
  {
   "cell_type": "code",
   "execution_count": 25,
   "id": "e0e6c64d-f87a-4c09-a955-6477912bf9b8",
   "metadata": {},
   "outputs": [],
   "source": [
    "df_3d = df.pivot(index='w', columns='b', values='error')"
   ]
  },
  {
   "cell_type": "code",
   "execution_count": 26,
   "id": "2229e4ce-ea85-4f96-9f71-9ca93334d01a",
   "metadata": {},
   "outputs": [
    {
     "data": {
      "text/html": [
       "<div>\n",
       "<style scoped>\n",
       "    .dataframe tbody tr th:only-of-type {\n",
       "        vertical-align: middle;\n",
       "    }\n",
       "\n",
       "    .dataframe tbody tr th {\n",
       "        vertical-align: top;\n",
       "    }\n",
       "\n",
       "    .dataframe thead th {\n",
       "        text-align: right;\n",
       "    }\n",
       "</style>\n",
       "<table border=\"1\" class=\"dataframe\">\n",
       "  <thead>\n",
       "    <tr style=\"text-align: right;\">\n",
       "      <th>b</th>\n",
       "      <th>-4.00</th>\n",
       "      <th>-3.99</th>\n",
       "      <th>-3.98</th>\n",
       "      <th>-3.97</th>\n",
       "      <th>-3.96</th>\n",
       "      <th>-3.95</th>\n",
       "      <th>-3.94</th>\n",
       "      <th>-3.93</th>\n",
       "      <th>-3.92</th>\n",
       "      <th>-3.91</th>\n",
       "      <th>...</th>\n",
       "      <th>-3.10</th>\n",
       "      <th>-3.09</th>\n",
       "      <th>-3.08</th>\n",
       "      <th>-3.07</th>\n",
       "      <th>-3.06</th>\n",
       "      <th>-3.05</th>\n",
       "      <th>-3.04</th>\n",
       "      <th>-3.03</th>\n",
       "      <th>-3.02</th>\n",
       "      <th>-3.01</th>\n",
       "    </tr>\n",
       "    <tr>\n",
       "      <th>w</th>\n",
       "      <th></th>\n",
       "      <th></th>\n",
       "      <th></th>\n",
       "      <th></th>\n",
       "      <th></th>\n",
       "      <th></th>\n",
       "      <th></th>\n",
       "      <th></th>\n",
       "      <th></th>\n",
       "      <th></th>\n",
       "      <th></th>\n",
       "      <th></th>\n",
       "      <th></th>\n",
       "      <th></th>\n",
       "      <th></th>\n",
       "      <th></th>\n",
       "      <th></th>\n",
       "      <th></th>\n",
       "      <th></th>\n",
       "      <th></th>\n",
       "      <th></th>\n",
       "    </tr>\n",
       "  </thead>\n",
       "  <tbody>\n",
       "    <tr>\n",
       "      <th>0.05</th>\n",
       "      <td>0.875352</td>\n",
       "      <td>0.872746</td>\n",
       "      <td>0.870148</td>\n",
       "      <td>0.867558</td>\n",
       "      <td>0.864975</td>\n",
       "      <td>0.862401</td>\n",
       "      <td>0.859836</td>\n",
       "      <td>0.857278</td>\n",
       "      <td>0.854729</td>\n",
       "      <td>0.852189</td>\n",
       "      <td>...</td>\n",
       "      <td>0.681225</td>\n",
       "      <td>0.679636</td>\n",
       "      <td>0.678062</td>\n",
       "      <td>0.676503</td>\n",
       "      <td>0.674959</td>\n",
       "      <td>0.673431</td>\n",
       "      <td>0.671918</td>\n",
       "      <td>0.670420</td>\n",
       "      <td>0.668939</td>\n",
       "      <td>0.667473</td>\n",
       "    </tr>\n",
       "    <tr>\n",
       "      <th>0.06</th>\n",
       "      <td>0.788631</td>\n",
       "      <td>0.786338</td>\n",
       "      <td>0.784055</td>\n",
       "      <td>0.781783</td>\n",
       "      <td>0.779521</td>\n",
       "      <td>0.777270</td>\n",
       "      <td>0.775029</td>\n",
       "      <td>0.772800</td>\n",
       "      <td>0.770580</td>\n",
       "      <td>0.768372</td>\n",
       "      <td>...</td>\n",
       "      <td>0.633117</td>\n",
       "      <td>0.632082</td>\n",
       "      <td>0.631066</td>\n",
       "      <td>0.630067</td>\n",
       "      <td>0.629086</td>\n",
       "      <td>0.628124</td>\n",
       "      <td>0.627180</td>\n",
       "      <td>0.626254</td>\n",
       "      <td>0.625346</td>\n",
       "      <td>0.624457</td>\n",
       "    </tr>\n",
       "    <tr>\n",
       "      <th>0.07</th>\n",
       "      <td>0.714738</td>\n",
       "      <td>0.712845</td>\n",
       "      <td>0.710964</td>\n",
       "      <td>0.709097</td>\n",
       "      <td>0.707243</td>\n",
       "      <td>0.705403</td>\n",
       "      <td>0.703575</td>\n",
       "      <td>0.701761</td>\n",
       "      <td>0.699960</td>\n",
       "      <td>0.698173</td>\n",
       "      <td>...</td>\n",
       "      <td>0.606011</td>\n",
       "      <td>0.605615</td>\n",
       "      <td>0.605240</td>\n",
       "      <td>0.604886</td>\n",
       "      <td>0.604551</td>\n",
       "      <td>0.604238</td>\n",
       "      <td>0.603944</td>\n",
       "      <td>0.603672</td>\n",
       "      <td>0.603420</td>\n",
       "      <td>0.603188</td>\n",
       "    </tr>\n",
       "    <tr>\n",
       "      <th>0.08</th>\n",
       "      <td>0.656845</td>\n",
       "      <td>0.655442</td>\n",
       "      <td>0.654055</td>\n",
       "      <td>0.652683</td>\n",
       "      <td>0.651327</td>\n",
       "      <td>0.649988</td>\n",
       "      <td>0.648664</td>\n",
       "      <td>0.647356</td>\n",
       "      <td>0.646064</td>\n",
       "      <td>0.644788</td>\n",
       "      <td>...</td>\n",
       "      <td>0.602264</td>\n",
       "      <td>0.602568</td>\n",
       "      <td>0.602895</td>\n",
       "      <td>0.603243</td>\n",
       "      <td>0.603614</td>\n",
       "      <td>0.604006</td>\n",
       "      <td>0.604421</td>\n",
       "      <td>0.604857</td>\n",
       "      <td>0.605316</td>\n",
       "      <td>0.605797</td>\n",
       "    </tr>\n",
       "    <tr>\n",
       "      <th>0.09</th>\n",
       "      <td>0.617971</td>\n",
       "      <td>0.617142</td>\n",
       "      <td>0.616332</td>\n",
       "      <td>0.615539</td>\n",
       "      <td>0.614765</td>\n",
       "      <td>0.614009</td>\n",
       "      <td>0.613271</td>\n",
       "      <td>0.612551</td>\n",
       "      <td>0.611850</td>\n",
       "      <td>0.611168</td>\n",
       "      <td>...</td>\n",
       "      <td>0.623113</td>\n",
       "      <td>0.624146</td>\n",
       "      <td>0.625202</td>\n",
       "      <td>0.626280</td>\n",
       "      <td>0.627381</td>\n",
       "      <td>0.628504</td>\n",
       "      <td>0.629650</td>\n",
       "      <td>0.630819</td>\n",
       "      <td>0.632010</td>\n",
       "      <td>0.633224</td>\n",
       "    </tr>\n",
       "  </tbody>\n",
       "</table>\n",
       "<p>5 rows × 100 columns</p>\n",
       "</div>"
      ],
      "text/plain": [
       "b        -4.00     -3.99     -3.98     -3.97     -3.96     -3.95     -3.94  \\\n",
       "w                                                                            \n",
       "0.05  0.875352  0.872746  0.870148  0.867558  0.864975  0.862401  0.859836   \n",
       "0.06  0.788631  0.786338  0.784055  0.781783  0.779521  0.777270  0.775029   \n",
       "0.07  0.714738  0.712845  0.710964  0.709097  0.707243  0.705403  0.703575   \n",
       "0.08  0.656845  0.655442  0.654055  0.652683  0.651327  0.649988  0.648664   \n",
       "0.09  0.617971  0.617142  0.616332  0.615539  0.614765  0.614009  0.613271   \n",
       "\n",
       "b        -3.93     -3.92     -3.91  ...     -3.10     -3.09     -3.08  \\\n",
       "w                                   ...                                 \n",
       "0.05  0.857278  0.854729  0.852189  ...  0.681225  0.679636  0.678062   \n",
       "0.06  0.772800  0.770580  0.768372  ...  0.633117  0.632082  0.631066   \n",
       "0.07  0.701761  0.699960  0.698173  ...  0.606011  0.605615  0.605240   \n",
       "0.08  0.647356  0.646064  0.644788  ...  0.602264  0.602568  0.602895   \n",
       "0.09  0.612551  0.611850  0.611168  ...  0.623113  0.624146  0.625202   \n",
       "\n",
       "b        -3.07     -3.06     -3.05     -3.04     -3.03     -3.02     -3.01  \n",
       "w                                                                           \n",
       "0.05  0.676503  0.674959  0.673431  0.671918  0.670420  0.668939  0.667473  \n",
       "0.06  0.630067  0.629086  0.628124  0.627180  0.626254  0.625346  0.624457  \n",
       "0.07  0.604886  0.604551  0.604238  0.603944  0.603672  0.603420  0.603188  \n",
       "0.08  0.603243  0.603614  0.604006  0.604421  0.604857  0.605316  0.605797  \n",
       "0.09  0.626280  0.627381  0.628504  0.629650  0.630819  0.632010  0.633224  \n",
       "\n",
       "[5 rows x 100 columns]"
      ]
     },
     "execution_count": 26,
     "metadata": {},
     "output_type": "execute_result"
    }
   ],
   "source": [
    "df_3d.head()"
   ]
  },
  {
   "cell_type": "code",
   "execution_count": 27,
   "id": "64c6a2c1-2636-4fd1-a09f-09fad76f979b",
   "metadata": {},
   "outputs": [],
   "source": [
    "import matplotlib as mpl\n",
    "import matplotlib.pyplot as plt\n",
    "from mpl_toolkits.mplot3d import Axes3D"
   ]
  },
  {
   "cell_type": "code",
   "execution_count": 28,
   "id": "acba388a-44db-4c7d-bdfa-14c844d5940c",
   "metadata": {},
   "outputs": [
    {
     "data": {
      "text/plain": [
       "<mpl_toolkits.mplot3d.art3d.Poly3DCollection at 0x2cc80961220>"
      ]
     },
     "execution_count": 28,
     "metadata": {},
     "output_type": "execute_result"
    },
    {
     "data": {
      "image/png": "[encoded data removed]",
      "text/plain": [
       "<Figure size 432x288 with 1 Axes>"
      ]
     },
     "metadata": {
      "needs_background": "light"
     },
     "output_type": "display_data"
    }
   ],
   "source": [
    "x = df_3d.columns\n",
    "y = df_3d.index\n",
    "X,Y = np.meshgrid(x,y)\n",
    "Z = df_3d\n",
    "\n",
    "fig = plt.figure()\n",
    "ax = fig.add_subplot(111, projection='3d')\n",
    "ax.plot_surface(X, Y, Z)"
   ]
  },
  {
   "cell_type": "code",
   "execution_count": 29,
   "id": "974b8bcc-91a8-446e-b3a4-a049f756b7c4",
   "metadata": {},
   "outputs": [
    {
     "data": {
      "text/plain": [
       "<matplotlib.contour.QuadContourSet at 0x2cc80a66e50>"
      ]
     },
     "execution_count": 29,
     "metadata": {},
     "output_type": "execute_result"
    },
    {
     "data": {
      "image/png": "[encoded data removed]",
      "text/plain": [
       "<Figure size 432x288 with 1 Axes>"
      ]
     },
     "metadata": {
      "needs_background": "light"
     },
     "output_type": "display_data"
    }
   ],
   "source": [
    "x = df_3d.columns\n",
    "y = df_3d.index\n",
    "X,Y = np.meshgrid(x,y)\n",
    "Z = df_3d\n",
    "plt.contourf(Y, X, Z, alpha=0.7, cmap=plt.cm.jet)"
   ]
  },
  {
   "cell_type": "markdown",
   "id": "f647b4a7-3c02-44d2-b657-044fb4c0693c",
   "metadata": {},
   "source": [
    "## Bonus: Optimizando los parámetros"
   ]
  },
  {
   "cell_type": "markdown",
   "id": "f273095c-9450-4bf5-87b3-4cd6e5bd44ae",
   "metadata": {},
   "source": [
    "Esta sección es opcional.\n",
    "\n",
    "Vamos a utilizar el método del gradiente descendente para calcular los valores optimos de $w,b$.\n",
    "\n",
    "Para esto tenemos que calcular el gradiente para $w,b$ con respecto de la función J (esta es la que hemos gráficado), sus funciones son\n",
    "\n",
    "$$ \\frac{\\partial}{\\partial w}J\\left(w,b\\right)=\\frac{1}{m}\\sum_{i=1}^{m}\\left(f_{w,b}\\left(\\vec{x}^{(i)}\\right)-y^{(i)}\\right)x^{(i)} $$\n",
    "\n",
    "$$ \\frac{\\partial}{\\partial b}J\\left(w,b\\right)=\\frac{1}{m}\\sum_{i=1}^{m}\\left(f_{w,b}\\left(\\vec{x}^{(i)}\\right)-y^{(i)}\\right)$$"
   ]
  },
  {
   "cell_type": "markdown",
   "id": "9e3c5061-2ecf-46cb-94bd-35715c56e871",
   "metadata": {},
   "source": [
    "Las funciones respectivas en python serían"
   ]
  },
  {
   "cell_type": "code",
   "execution_count": 30,
   "id": "79fedcdf-c1d7-4177-b38d-7dad87e76ce8",
   "metadata": {},
   "outputs": [],
   "source": [
    "def delta_j_w(w, b):\n",
    "    train['sigmoid'] = 1/(1+np.exp(-(train['BMI']*w+b)))\n",
    "    train['partial_loss'] = (train['sigmoid']-train['Outcome'])*train['BMI']\n",
    "    derivative = train['partial_loss'].mean()\n",
    "    return(derivative) \n",
    "\n",
    "def delta_j_b(w, b):\n",
    "    train['sigmoid'] = 1/(1+np.exp(-(train['BMI']*w+b)))\n",
    "    train['partial_loss'] = (train['sigmoid']-train['Outcome'])\n",
    "    derivative = train['partial_loss'].mean()\n",
    "    return(derivative) "
   ]
  },
  {
   "cell_type": "markdown",
   "id": "440b6a57-5102-4b32-93e4-57e354d3dc3a",
   "metadata": {},
   "source": [
    "Damos valores iniciales a $w,b$"
   ]
  },
  {
   "cell_type": "code",
   "execution_count": 31,
   "id": "63897c42-5133-48dd-be0e-9c4de3b10541",
   "metadata": {},
   "outputs": [],
   "source": [
    "w_0 = 0.09\n",
    "b_0 = -3.57"
   ]
  },
  {
   "cell_type": "markdown",
   "id": "65963269-5503-40cd-b874-f57d88969fc7",
   "metadata": {},
   "source": [
    "Empezamos a iterar hasta obtener valores que no varíen tanto"
   ]
  },
  {
   "cell_type": "code",
   "execution_count": 455,
   "id": "182ee81e-59e8-440d-be3d-9712beb7be01",
   "metadata": {},
   "outputs": [
    {
     "name": "stdout",
     "output_type": "stream",
     "text": [
      "0.09103970927501584 -3.6005257561587496\n"
     ]
    }
   ],
   "source": [
    "alpha_w = 0.001\n",
    "alpha_b = 0.1\n",
    "\n",
    "w_new = w_0 - alpha_w * delta_j_w(w_0, b_0)\n",
    "b_new = b_0 - alpha_b * delta_j_b(w_0, b_0)\n",
    "\n",
    "w_0 = w_new\n",
    "b_0 = b_new\n",
    "\n",
    "print(w_0, b_0)"
   ]
  },
  {
   "cell_type": "code",
   "execution_count": 223,
   "id": "031d1170-c4ec-4f82-baca-22bc1a45e52b",
   "metadata": {},
   "outputs": [],
   "source": [
    "# valores optimos de sklearn (más abajo la explicación)\n",
    "# w = 0.09351691\n",
    "# b = -3.68596089"
   ]
  },
  {
   "cell_type": "markdown",
   "id": "d8b9269c-3693-4a65-a4af-e575cff6746e",
   "metadata": {},
   "source": [
    "Ahora vamos a hacer lo mismo pero mucho más rápido con sklear"
   ]
  },
  {
   "cell_type": "code",
   "execution_count": 456,
   "id": "0d6d699a-bb80-44b8-8955-11bad5b26498",
   "metadata": {},
   "outputs": [
    {
     "name": "stdout",
     "output_type": "stream",
     "text": [
      "intercepto (b): [-3.68596089]\n",
      "pendiente (w): [[0.09351691]]\n"
     ]
    }
   ],
   "source": [
    "from sklearn.linear_model import LogisticRegression\n",
    "\n",
    "# definiendo input y output\n",
    "X_train = np.array(train['BMI']).reshape((-1, 1))\n",
    "Y_train = np.array(train['Outcome'])\n",
    "\n",
    "# creando modelo\n",
    "model = LogisticRegression()\n",
    "model.fit(X_train, Y_train)\n",
    "\n",
    "# imprimiendo parametros\n",
    "print(f\"intercepto (b): {model.intercept_}\")\n",
    "print(f\"pendiente (w): {model.coef_}\")"
   ]
  },
  {
   "cell_type": "code",
   "execution_count": null,
   "id": "e4863ff6-d5a9-4ebb-a834-f775f7103b91",
   "metadata": {},
   "outputs": [],
   "source": []
  }
 ],
 "metadata": {
  "kernelspec": {
   "display_name": "Python 3 (ipykernel)",
   "language": "python",
   "name": "python3"
  },
  "language_info": {
   "codemirror_mode": {
    "name": "ipython",
    "version": 3
   },
   "file_extension": ".py",
   "mimetype": "text/x-python",
   "name": "python",
   "nbconvert_exporter": "python",
   "pygments_lexer": "ipython3",
   "version": "3.9.12"
  }
 },
 "nbformat": 4,
 "nbformat_minor": 5
}
