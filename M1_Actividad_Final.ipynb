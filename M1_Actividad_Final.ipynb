{
  "cells": [
    {
      "cell_type": "markdown",
      "metadata": {
        "id": "view-in-github",
        "colab_type": "text"
      },
      "source": [
        "<a href=\"https://colab.research.google.com/github/conextm/python/blob/main/M1_Actividad_Final.ipynb\" target=\"_parent\"><img src=\"https://colab.research.google.com/assets/colab-badge.svg\" alt=\"Open In Colab\"/></a>"
      ]
    },
    {
      "cell_type": "markdown",
      "metadata": {
        "id": "Ob1VlRjnJQKG"
      },
      "source": [
        "Contexto A\n",
        "\n",
        "partir del trabajo que su equipo ha desarrollado en la Contraloría General de la República en relación con el Ministerio de Salud, la dirección de analítica de datos le ha solicitado que continúe con el proceso exploratorio en el marco del Informe de Avance Fiscal. Como parte de algunas revisiones selectas de entidades públicas, en esta ocasión, le han suministrado datos de la Alcaldía Mayor de Bogotá. Como mínimo, usted puede replicar el análisis desarrollado para el Ministerio de Salud con los datos de la Alcaldía de Bogotá. Con estos, la idea es entender mejor la forma en que la Alcaldía celebra sus contratos, de manera que se pueda publicar un informe que motive conversaciones al respecto. Recuerde que no hay restricciones respecto a los análisis que puede generar. Si considera que requiere generar gráficos o estadísticos que sean de interés, y está en la capacidad de hacerlos, es libre de presentarlos. Si aún no está en capacidad de hacerlos, puede proponerlos, resaltando cuáles son las preguntas que quiere responder con ellos. Lo que le convierte en un analista de datos es que dialogue con la información, le hace preguntas y reflexiona sobre ella; generar y ejecutar programas es solo la forma de hacerlo y los siguientes tres módulos de este curso son el espacio para desarrollar esas habilidades\n",
        "\n"
      ]
    },
    {
      "cell_type": "markdown",
      "metadata": {
        "id": "hJLnc5RifFkU"
      },
      "source": [
        "## Diccionario de datos\n",
        "\n",
        "|Variable|Descripción\n",
        "|---|---|\n",
        "|Nombre Entidad|Nombre de la Entidad que realiza la contratación.|\n",
        "|Nit Entidad|NIT de la Entidad que realiza la contratación.|\n",
        "|Departamento|Departamento de la Entidad que realiza la contratación.|\n",
        "|Localización|Ubicación de la Entidad que realiza la contratación.|\n",
        "|Orden|Define si la Entidad es de Orden Territorial o Nacional.|\n",
        "|Sector|Sector de la Entidad.|\n",
        "|Proceso de Compra|Código del proceso precontractual que asigna la plataforma SECOP II.|\n",
        "|ID Contrato|Código del contrato asignado por la plataforma SECOP II.|\n",
        "|Referencia del Contrato|Código del contrato asignado por la Entidad (Este código se puede repetir entre entidades, pero en teoría no se debería repetir dentro de la misma entidad).|\n",
        "|Estado Contrato|Etapa en la que se encuentra el contrato o estado en el que cerró.|\n",
        "|Codigo de Categoria Principal|Código del bienes y servicios de las Naciones Unidas que agrupa y clasifica el objeto a contratar.|\n",
        "|Descripcion del Proceso|Descripción de la entidad sobre el objeto, bien o servicio a contratar.|\n",
        "|Tipo de Contrato|Tipo contrato realizado.|\n",
        "|Modalidad de Contratacion|Modalidad de contratación por la cual se realiza el proceso.|\n",
        "|Justificacion Modalidad de Contratacion|Justificación de la modalidad de contratación.|\n",
        "|Fecha de Firma|Fecha en la que se firma el contrato (formato MM/DD/AAAA).|\n",
        "|Año Firma|Año de la firma del contrato.|\n",
        "|TipoDocProveedor|Tipo de documento del proveedor, puede ser NIT, CC, entre otros.|\n",
        "|Documento Proveedor|Número de documento del proveedor.|\n",
        "|Proveedor Adjudicado|Nombre del proveedor.|\n",
        "|Es Grupo|Muestra si el proveedor es un grupo temporal de varios proveedores. Incluye, uniones temporales, consorcios, entre otros.|\n",
        "|Es Pyme|Indica si el proveedor es MiPymes.|\n",
        "|Valor del Contrato|Valor final del contrato.|\n",
        "|Nombre Representante Legal|Nombre del representante legal del proveedor. En caso de ser una persona natural, debería ser la misma información que el nombre del proveedor.|\n",
        "|Tipo de Identificación Representante Legal|Tipo de documento que identifica al representante legal.|\n",
        "|Identificación Representante Legal|Identificación del representante legal.|\n",
        "|Género Representante Legal|Género del representante legal.|\n"
      ]
    },
    {
      "cell_type": "markdown",
      "metadata": {
        "id": "vHhwaR5gT4ad"
      },
      "source": [
        "\n",
        "### Preparación"
      ]
    },
    {
      "cell_type": "code",
      "execution_count": null,
      "metadata": {
        "id": "4Q66XETkI45u"
      },
      "outputs": [],
      "source": [
        "from google.colab import drive # conectar con google drive\n",
        "from google.colab import files # cargar archivos\n",
        "import pandas as pd # manejo de data frames\n",
        "import seaborn as sns # visualización\n",
        "import matplotlib.pyplot as plt\n",
        "import numpy as np #\n",
        "import io\n",
        "import scipy.stats # distribuciones estadísticas\n"
      ]
    },
    {
      "cell_type": "code",
      "execution_count": null,
      "metadata": {
        "colab": {
          "base_uri": "https://localhost:8080/",
          "height": 71
        },
        "id": "77xhHwlOdQWy",
        "outputId": "889934bc-3800-4860-fa1e-4c00debb875e"
      },
      "outputs": [
        {
          "output_type": "display_data",
          "data": {
            "text/plain": [
              "<IPython.core.display.HTML object>"
            ],
            "text/html": [
              "\n",
              "     <input type=\"file\" id=\"files-ee0b4382-165e-43ea-b894-44a34ba4c4c7\" name=\"files[]\" multiple disabled\n",
              "        style=\"border:none\" />\n",
              "     <output id=\"result-ee0b4382-165e-43ea-b894-44a34ba4c4c7\">\n",
              "      Upload widget is only available when the cell has been executed in the\n",
              "      current browser session. Please rerun this cell to enable.\n",
              "      </output>\n",
              "      <script>// Copyright 2017 Google LLC\n",
              "//\n",
              "// Licensed under the Apache License, Version 2.0 (the \"License\");\n",
              "// you may not use this file except in compliance with the License.\n",
              "// You may obtain a copy of the License at\n",
              "//\n",
              "//      http://www.apache.org/licenses/LICENSE-2.0\n",
              "//\n",
              "// Unless required by applicable law or agreed to in writing, software\n",
              "// distributed under the License is distributed on an \"AS IS\" BASIS,\n",
              "// WITHOUT WARRANTIES OR CONDITIONS OF ANY KIND, either express or implied.\n",
              "// See the License for the specific language governing permissions and\n",
              "// limitations under the License.\n",
              "\n",
              "/**\n",
              " * @fileoverview Helpers for google.colab Python module.\n",
              " */\n",
              "(function(scope) {\n",
              "function span(text, styleAttributes = {}) {\n",
              "  const element = document.createElement('span');\n",
              "  element.textContent = text;\n",
              "  for (const key of Object.keys(styleAttributes)) {\n",
              "    element.style[key] = styleAttributes[key];\n",
              "  }\n",
              "  return element;\n",
              "}\n",
              "\n",
              "// Max number of bytes which will be uploaded at a time.\n",
              "const MAX_PAYLOAD_SIZE = 100 * 1024;\n",
              "\n",
              "function _uploadFiles(inputId, outputId) {\n",
              "  const steps = uploadFilesStep(inputId, outputId);\n",
              "  const outputElement = document.getElementById(outputId);\n",
              "  // Cache steps on the outputElement to make it available for the next call\n",
              "  // to uploadFilesContinue from Python.\n",
              "  outputElement.steps = steps;\n",
              "\n",
              "  return _uploadFilesContinue(outputId);\n",
              "}\n",
              "\n",
              "// This is roughly an async generator (not supported in the browser yet),\n",
              "// where there are multiple asynchronous steps and the Python side is going\n",
              "// to poll for completion of each step.\n",
              "// This uses a Promise to block the python side on completion of each step,\n",
              "// then passes the result of the previous step as the input to the next step.\n",
              "function _uploadFilesContinue(outputId) {\n",
              "  const outputElement = document.getElementById(outputId);\n",
              "  const steps = outputElement.steps;\n",
              "\n",
              "  const next = steps.next(outputElement.lastPromiseValue);\n",
              "  return Promise.resolve(next.value.promise).then((value) => {\n",
              "    // Cache the last promise value to make it available to the next\n",
              "    // step of the generator.\n",
              "    outputElement.lastPromiseValue = value;\n",
              "    return next.value.response;\n",
              "  });\n",
              "}\n",
              "\n",
              "/**\n",
              " * Generator function which is called between each async step of the upload\n",
              " * process.\n",
              " * @param {string} inputId Element ID of the input file picker element.\n",
              " * @param {string} outputId Element ID of the output display.\n",
              " * @return {!Iterable<!Object>} Iterable of next steps.\n",
              " */\n",
              "function* uploadFilesStep(inputId, outputId) {\n",
              "  const inputElement = document.getElementById(inputId);\n",
              "  inputElement.disabled = false;\n",
              "\n",
              "  const outputElement = document.getElementById(outputId);\n",
              "  outputElement.innerHTML = '';\n",
              "\n",
              "  const pickedPromise = new Promise((resolve) => {\n",
              "    inputElement.addEventListener('change', (e) => {\n",
              "      resolve(e.target.files);\n",
              "    });\n",
              "  });\n",
              "\n",
              "  const cancel = document.createElement('button');\n",
              "  inputElement.parentElement.appendChild(cancel);\n",
              "  cancel.textContent = 'Cancel upload';\n",
              "  const cancelPromise = new Promise((resolve) => {\n",
              "    cancel.onclick = () => {\n",
              "      resolve(null);\n",
              "    };\n",
              "  });\n",
              "\n",
              "  // Wait for the user to pick the files.\n",
              "  const files = yield {\n",
              "    promise: Promise.race([pickedPromise, cancelPromise]),\n",
              "    response: {\n",
              "      action: 'starting',\n",
              "    }\n",
              "  };\n",
              "\n",
              "  cancel.remove();\n",
              "\n",
              "  // Disable the input element since further picks are not allowed.\n",
              "  inputElement.disabled = true;\n",
              "\n",
              "  if (!files) {\n",
              "    return {\n",
              "      response: {\n",
              "        action: 'complete',\n",
              "      }\n",
              "    };\n",
              "  }\n",
              "\n",
              "  for (const file of files) {\n",
              "    const li = document.createElement('li');\n",
              "    li.append(span(file.name, {fontWeight: 'bold'}));\n",
              "    li.append(span(\n",
              "        `(${file.type || 'n/a'}) - ${file.size} bytes, ` +\n",
              "        `last modified: ${\n",
              "            file.lastModifiedDate ? file.lastModifiedDate.toLocaleDateString() :\n",
              "                                    'n/a'} - `));\n",
              "    const percent = span('0% done');\n",
              "    li.appendChild(percent);\n",
              "\n",
              "    outputElement.appendChild(li);\n",
              "\n",
              "    const fileDataPromise = new Promise((resolve) => {\n",
              "      const reader = new FileReader();\n",
              "      reader.onload = (e) => {\n",
              "        resolve(e.target.result);\n",
              "      };\n",
              "      reader.readAsArrayBuffer(file);\n",
              "    });\n",
              "    // Wait for the data to be ready.\n",
              "    let fileData = yield {\n",
              "      promise: fileDataPromise,\n",
              "      response: {\n",
              "        action: 'continue',\n",
              "      }\n",
              "    };\n",
              "\n",
              "    // Use a chunked sending to avoid message size limits. See b/62115660.\n",
              "    let position = 0;\n",
              "    do {\n",
              "      const length = Math.min(fileData.byteLength - position, MAX_PAYLOAD_SIZE);\n",
              "      const chunk = new Uint8Array(fileData, position, length);\n",
              "      position += length;\n",
              "\n",
              "      const base64 = btoa(String.fromCharCode.apply(null, chunk));\n",
              "      yield {\n",
              "        response: {\n",
              "          action: 'append',\n",
              "          file: file.name,\n",
              "          data: base64,\n",
              "        },\n",
              "      };\n",
              "\n",
              "      let percentDone = fileData.byteLength === 0 ?\n",
              "          100 :\n",
              "          Math.round((position / fileData.byteLength) * 100);\n",
              "      percent.textContent = `${percentDone}% done`;\n",
              "\n",
              "    } while (position < fileData.byteLength);\n",
              "  }\n",
              "\n",
              "  // All done.\n",
              "  yield {\n",
              "    response: {\n",
              "      action: 'complete',\n",
              "    }\n",
              "  };\n",
              "}\n",
              "\n",
              "scope.google = scope.google || {};\n",
              "scope.google.colab = scope.google.colab || {};\n",
              "scope.google.colab._files = {\n",
              "  _uploadFiles,\n",
              "  _uploadFilesContinue,\n",
              "};\n",
              "})(self);\n",
              "</script> "
            ]
          },
          "metadata": {}
        },
        {
          "output_type": "stream",
          "name": "stdout",
          "text": [
            "Saving AlcaldiaBogota_2017_2019.xlsx to AlcaldiaBogota_2017_2019 (5).xlsx\n"
          ]
        }
      ],
      "source": [
        "### Carga de datos\n",
        "uploaded = files.upload()"
      ]
    },
    {
      "cell_type": "code",
      "execution_count": null,
      "metadata": {
        "id": "KV1JgqNhLZtn"
      },
      "outputs": [],
      "source": [
        "# La base la nombramos df\n",
        "df = pd.read_excel(io.BytesIO(uploaded['AlcaldiaBogota_2017_2019 (5).xlsx']))"
      ]
    },
    {
      "cell_type": "code",
      "execution_count": null,
      "metadata": {
        "colab": {
          "base_uri": "https://localhost:8080/",
          "height": 1000
        },
        "id": "eZYqjXwsM6Nd",
        "outputId": "a032e1e1-f20a-4545-9398-589be23c74e7"
      },
      "outputs": [
        {
          "output_type": "display_data",
          "data": {
            "text/plain": [
              "                                         Nombre Entidad  Nit Entidad  \\\n",
              "0     SECRETARIA DISTRITAL DE DESARROLLO ECONOMICO  ...   8999990619   \n",
              "1     SECRETARÍA GENERAL DE LA ALCALDÍA MAYOR DE BOGOTÁ    899999061   \n",
              "2     SECRETARÍA GENERAL DE LA ALCALDÍA MAYOR DE BOGOTÁ    899999061   \n",
              "3     SECRETARIA DISTRITAL DE DESARROLLO ECONOMICO  ...   8999990619   \n",
              "4     SECRETARIA DISTRITAL DE DESARROLLO ECONOMICO  ...   8999990619   \n",
              "...                                                 ...          ...   \n",
              "1354  SECRETARÍA GENERAL DE LA ALCALDÍA MAYOR DE BOGOTÁ    899999061   \n",
              "1355  SECRETARIA DISTRITAL DE DESARROLLO ECONOMICO  ...   8999990619   \n",
              "1356  SECRETARÍA GENERAL DE LA ALCALDÍA MAYOR DE BOGOTÁ    899999061   \n",
              "1357  SECRETARÍA GENERAL DE LA ALCALDÍA MAYOR DE BOGOTÁ    899999061   \n",
              "1358  SECRETARIA DISTRITAL DE DESARROLLO ECONOMICO  ...   8999990619   \n",
              "\n",
              "                    Departamento              Localización        Orden  \\\n",
              "0     Distrito Capital de Bogotá  Colombia, Bogotá, Bogotá  Territorial   \n",
              "1     Distrito Capital de Bogotá  Colombia, Bogotá, Bogotá  Territorial   \n",
              "2     Distrito Capital de Bogotá  Colombia, Bogotá, Bogotá  Territorial   \n",
              "3     Distrito Capital de Bogotá  Colombia, Bogotá, Bogotá  Territorial   \n",
              "4     Distrito Capital de Bogotá  Colombia, Bogotá, Bogotá  Territorial   \n",
              "...                          ...                       ...          ...   \n",
              "1354  Distrito Capital de Bogotá  Colombia, Bogotá, Bogotá  Territorial   \n",
              "1355  Distrito Capital de Bogotá  Colombia, Bogotá, Bogotá  Territorial   \n",
              "1356  Distrito Capital de Bogotá  Colombia, Bogotá, Bogotá  Territorial   \n",
              "1357  Distrito Capital de Bogotá  Colombia, Bogotá, Bogotá  Territorial   \n",
              "1358  Distrito Capital de Bogotá  Colombia, Bogotá, Bogotá  Territorial   \n",
              "\n",
              "                Sector Proceso de Compra         ID Contrato  \\\n",
              "0            Industria   CO1.BDOS.183816   CO1.PCCNTR.199403   \n",
              "1     Servicio Público   CO1.BDOS.218629   CO1.PCCNTR.206713   \n",
              "2     Servicio Público   CO1.BDOS.218221   CO1.PCCNTR.206103   \n",
              "3            Industria   CO1.BDOS.220005   CO1.PCCNTR.207420   \n",
              "4            Industria   CO1.BDOS.199726   CO1.PCCNTR.203214   \n",
              "...                ...               ...                 ...   \n",
              "1354  Servicio Público   CO1.BDOS.961218  CO1.PCCNTR.1207340   \n",
              "1355         Industria   CO1.BDOS.962310  CO1.PCCNTR.1207406   \n",
              "1356  Servicio Público   CO1.BDOS.970418  CO1.PCCNTR.1220110   \n",
              "1357  Servicio Público   CO1.BDOS.971123  CO1.PCCNTR.1219405   \n",
              "1358         Industria   CO1.BDOS.964905  CO1.PCCNTR.1211928   \n",
              "\n",
              "     Referencia del Contrato Estado Contrato  ...      TipoDocProveedor  \\\n",
              "0                270 DE 2017      Modificado  ...           No Definido   \n",
              "1          CO1.PCCNTR.206713          Activo  ...  Cédula de Ciudadanía   \n",
              "2           4233000-724-2017          Activo  ...  Cédula de Ciudadanía   \n",
              "3                291 de 2017         Cerrado  ...           No Definido   \n",
              "4                        302       terminado  ...           No Definido   \n",
              "...                      ...             ...  ...                   ...   \n",
              "1354       4232000-1042-2019          Activo  ...           No Definido   \n",
              "1355                403-2019       terminado  ...           No Definido   \n",
              "1356       4204000-1096-2019          Activo  ...           No Definido   \n",
              "1357       4204000-1097-2019          Activo  ...           No Definido   \n",
              "1358                405-2019      Suspendido  ...           No Definido   \n",
              "\n",
              "     Documento Proveedor                     Proveedor Adjudicado Es Grupo  \\\n",
              "0            No Definido                            Consorcio MPC       Si   \n",
              "1               79156673         HECTOR JAVIER BARROTES CONTRERAS       No   \n",
              "2               13740086           Pedro Alfonso Sarmiento Bernal       No   \n",
              "3              830137690  BOGOTA Y CUNDINAMARCA CONVENTION BUREAU       No   \n",
              "4              900497610                     FAMA Consultores SAS       No   \n",
              "...                  ...                                      ...      ...   \n",
              "1354           900758826                    DISTRIBUCIONES BOGOTÀ       No   \n",
              "1355           900260048                                ITSEC SAS       No   \n",
              "1356           830505521                                  STS SAS       No   \n",
              "1357           830044977                             XSYSTEM LTDA       No   \n",
              "1358           900776369                         BIOPROYECTAR SAS       No   \n",
              "\n",
              "     Es Pyme Valor del Contrato        Nombre Representante Legal  \\\n",
              "0         No         1939960439                   Sin Descripcion   \n",
              "1         No           27335835  Hector Javier Barrotes Contreras   \n",
              "2         No           17573037    Pedro Alfonso Sarmiento Bernal   \n",
              "3         Si           13297334    SANDRA PATRICIA GARCIA GIRALDO   \n",
              "4         Si           86539299    WINSTON ALBERTO MONTES ALVAREZ   \n",
              "...      ...                ...                               ...   \n",
              "1354      Si           28599897        JAIME EDUARDO DIAZ BARRERA   \n",
              "1355      Si           74021000    Diana Marcela Avendaño Tejedor   \n",
              "1356      Si          152000000          Mauricio Amaya Amezquita   \n",
              "1357      No          131588000             Weimar Garcia Cuellar   \n",
              "1358      Si          252485217    Mario Fernando Contreras Ortiz   \n",
              "\n",
              "     Tipo de Identificación Representante Legal  \\\n",
              "0                               Sin Descripcion   \n",
              "1                               Sin Descripcion   \n",
              "2                               Sin Descripcion   \n",
              "3                               Sin Descripcion   \n",
              "4                               Sin Descripcion   \n",
              "...                                         ...   \n",
              "1354                            Sin Descripcion   \n",
              "1355                            Sin Descripcion   \n",
              "1356                            Sin Descripcion   \n",
              "1357                            Sin Descripcion   \n",
              "1358                            Sin Descripcion   \n",
              "\n",
              "     Identificación Representante Legal Género Representante Legal  \n",
              "0                       Sin Descripcion                No Definido  \n",
              "1                              79156673                No Definido  \n",
              "2                              13740086                No Definido  \n",
              "3                              43277983                No Definido  \n",
              "4                              15043065                No Definido  \n",
              "...                                 ...                        ...  \n",
              "1354                           80058064                No Definido  \n",
              "1355                           52789505                No Definido  \n",
              "1356                    Sin Descripcion                No Definido  \n",
              "1357                           79687935                No Definido  \n",
              "1358                           80720118                No Definido  \n",
              "\n",
              "[1359 rows x 27 columns]"
            ],
            "text/html": [
              "\n",
              "\n",
              "  <div id=\"df-a636c35b-af56-4536-aeac-9e026b1ae776\">\n",
              "    <div class=\"colab-df-container\">\n",
              "      <div>\n",
              "<style scoped>\n",
              "    .dataframe tbody tr th:only-of-type {\n",
              "        vertical-align: middle;\n",
              "    }\n",
              "\n",
              "    .dataframe tbody tr th {\n",
              "        vertical-align: top;\n",
              "    }\n",
              "\n",
              "    .dataframe thead th {\n",
              "        text-align: right;\n",
              "    }\n",
              "</style>\n",
              "<table border=\"1\" class=\"dataframe\">\n",
              "  <thead>\n",
              "    <tr style=\"text-align: right;\">\n",
              "      <th></th>\n",
              "      <th>Nombre Entidad</th>\n",
              "      <th>Nit Entidad</th>\n",
              "      <th>Departamento</th>\n",
              "      <th>Localización</th>\n",
              "      <th>Orden</th>\n",
              "      <th>Sector</th>\n",
              "      <th>Proceso de Compra</th>\n",
              "      <th>ID Contrato</th>\n",
              "      <th>Referencia del Contrato</th>\n",
              "      <th>Estado Contrato</th>\n",
              "      <th>...</th>\n",
              "      <th>TipoDocProveedor</th>\n",
              "      <th>Documento Proveedor</th>\n",
              "      <th>Proveedor Adjudicado</th>\n",
              "      <th>Es Grupo</th>\n",
              "      <th>Es Pyme</th>\n",
              "      <th>Valor del Contrato</th>\n",
              "      <th>Nombre Representante Legal</th>\n",
              "      <th>Tipo de Identificación Representante Legal</th>\n",
              "      <th>Identificación Representante Legal</th>\n",
              "      <th>Género Representante Legal</th>\n",
              "    </tr>\n",
              "  </thead>\n",
              "  <tbody>\n",
              "    <tr>\n",
              "      <th>0</th>\n",
              "      <td>SECRETARIA DISTRITAL DE DESARROLLO ECONOMICO  ...</td>\n",
              "      <td>8999990619</td>\n",
              "      <td>Distrito Capital de Bogotá</td>\n",
              "      <td>Colombia, Bogotá, Bogotá</td>\n",
              "      <td>Territorial</td>\n",
              "      <td>Industria</td>\n",
              "      <td>CO1.BDOS.183816</td>\n",
              "      <td>CO1.PCCNTR.199403</td>\n",
              "      <td>270 DE 2017</td>\n",
              "      <td>Modificado</td>\n",
              "      <td>...</td>\n",
              "      <td>No Definido</td>\n",
              "      <td>No Definido</td>\n",
              "      <td>Consorcio MPC</td>\n",
              "      <td>Si</td>\n",
              "      <td>No</td>\n",
              "      <td>1939960439</td>\n",
              "      <td>Sin Descripcion</td>\n",
              "      <td>Sin Descripcion</td>\n",
              "      <td>Sin Descripcion</td>\n",
              "      <td>No Definido</td>\n",
              "    </tr>\n",
              "    <tr>\n",
              "      <th>1</th>\n",
              "      <td>SECRETARÍA GENERAL DE LA ALCALDÍA MAYOR DE BOGOTÁ</td>\n",
              "      <td>899999061</td>\n",
              "      <td>Distrito Capital de Bogotá</td>\n",
              "      <td>Colombia, Bogotá, Bogotá</td>\n",
              "      <td>Territorial</td>\n",
              "      <td>Servicio Público</td>\n",
              "      <td>CO1.BDOS.218629</td>\n",
              "      <td>CO1.PCCNTR.206713</td>\n",
              "      <td>CO1.PCCNTR.206713</td>\n",
              "      <td>Activo</td>\n",
              "      <td>...</td>\n",
              "      <td>Cédula de Ciudadanía</td>\n",
              "      <td>79156673</td>\n",
              "      <td>HECTOR JAVIER BARROTES CONTRERAS</td>\n",
              "      <td>No</td>\n",
              "      <td>No</td>\n",
              "      <td>27335835</td>\n",
              "      <td>Hector Javier Barrotes Contreras</td>\n",
              "      <td>Sin Descripcion</td>\n",
              "      <td>79156673</td>\n",
              "      <td>No Definido</td>\n",
              "    </tr>\n",
              "    <tr>\n",
              "      <th>2</th>\n",
              "      <td>SECRETARÍA GENERAL DE LA ALCALDÍA MAYOR DE BOGOTÁ</td>\n",
              "      <td>899999061</td>\n",
              "      <td>Distrito Capital de Bogotá</td>\n",
              "      <td>Colombia, Bogotá, Bogotá</td>\n",
              "      <td>Territorial</td>\n",
              "      <td>Servicio Público</td>\n",
              "      <td>CO1.BDOS.218221</td>\n",
              "      <td>CO1.PCCNTR.206103</td>\n",
              "      <td>4233000-724-2017</td>\n",
              "      <td>Activo</td>\n",
              "      <td>...</td>\n",
              "      <td>Cédula de Ciudadanía</td>\n",
              "      <td>13740086</td>\n",
              "      <td>Pedro Alfonso Sarmiento Bernal</td>\n",
              "      <td>No</td>\n",
              "      <td>No</td>\n",
              "      <td>17573037</td>\n",
              "      <td>Pedro Alfonso Sarmiento Bernal</td>\n",
              "      <td>Sin Descripcion</td>\n",
              "      <td>13740086</td>\n",
              "      <td>No Definido</td>\n",
              "    </tr>\n",
              "    <tr>\n",
              "      <th>3</th>\n",
              "      <td>SECRETARIA DISTRITAL DE DESARROLLO ECONOMICO  ...</td>\n",
              "      <td>8999990619</td>\n",
              "      <td>Distrito Capital de Bogotá</td>\n",
              "      <td>Colombia, Bogotá, Bogotá</td>\n",
              "      <td>Territorial</td>\n",
              "      <td>Industria</td>\n",
              "      <td>CO1.BDOS.220005</td>\n",
              "      <td>CO1.PCCNTR.207420</td>\n",
              "      <td>291 de 2017</td>\n",
              "      <td>Cerrado</td>\n",
              "      <td>...</td>\n",
              "      <td>No Definido</td>\n",
              "      <td>830137690</td>\n",
              "      <td>BOGOTA Y CUNDINAMARCA CONVENTION BUREAU</td>\n",
              "      <td>No</td>\n",
              "      <td>Si</td>\n",
              "      <td>13297334</td>\n",
              "      <td>SANDRA PATRICIA GARCIA GIRALDO</td>\n",
              "      <td>Sin Descripcion</td>\n",
              "      <td>43277983</td>\n",
              "      <td>No Definido</td>\n",
              "    </tr>\n",
              "    <tr>\n",
              "      <th>4</th>\n",
              "      <td>SECRETARIA DISTRITAL DE DESARROLLO ECONOMICO  ...</td>\n",
              "      <td>8999990619</td>\n",
              "      <td>Distrito Capital de Bogotá</td>\n",
              "      <td>Colombia, Bogotá, Bogotá</td>\n",
              "      <td>Territorial</td>\n",
              "      <td>Industria</td>\n",
              "      <td>CO1.BDOS.199726</td>\n",
              "      <td>CO1.PCCNTR.203214</td>\n",
              "      <td>302</td>\n",
              "      <td>terminado</td>\n",
              "      <td>...</td>\n",
              "      <td>No Definido</td>\n",
              "      <td>900497610</td>\n",
              "      <td>FAMA Consultores SAS</td>\n",
              "      <td>No</td>\n",
              "      <td>Si</td>\n",
              "      <td>86539299</td>\n",
              "      <td>WINSTON ALBERTO MONTES ALVAREZ</td>\n",
              "      <td>Sin Descripcion</td>\n",
              "      <td>15043065</td>\n",
              "      <td>No Definido</td>\n",
              "    </tr>\n",
              "    <tr>\n",
              "      <th>...</th>\n",
              "      <td>...</td>\n",
              "      <td>...</td>\n",
              "      <td>...</td>\n",
              "      <td>...</td>\n",
              "      <td>...</td>\n",
              "      <td>...</td>\n",
              "      <td>...</td>\n",
              "      <td>...</td>\n",
              "      <td>...</td>\n",
              "      <td>...</td>\n",
              "      <td>...</td>\n",
              "      <td>...</td>\n",
              "      <td>...</td>\n",
              "      <td>...</td>\n",
              "      <td>...</td>\n",
              "      <td>...</td>\n",
              "      <td>...</td>\n",
              "      <td>...</td>\n",
              "      <td>...</td>\n",
              "      <td>...</td>\n",
              "      <td>...</td>\n",
              "    </tr>\n",
              "    <tr>\n",
              "      <th>1354</th>\n",
              "      <td>SECRETARÍA GENERAL DE LA ALCALDÍA MAYOR DE BOGOTÁ</td>\n",
              "      <td>899999061</td>\n",
              "      <td>Distrito Capital de Bogotá</td>\n",
              "      <td>Colombia, Bogotá, Bogotá</td>\n",
              "      <td>Territorial</td>\n",
              "      <td>Servicio Público</td>\n",
              "      <td>CO1.BDOS.961218</td>\n",
              "      <td>CO1.PCCNTR.1207340</td>\n",
              "      <td>4232000-1042-2019</td>\n",
              "      <td>Activo</td>\n",
              "      <td>...</td>\n",
              "      <td>No Definido</td>\n",
              "      <td>900758826</td>\n",
              "      <td>DISTRIBUCIONES BOGOTÀ</td>\n",
              "      <td>No</td>\n",
              "      <td>Si</td>\n",
              "      <td>28599897</td>\n",
              "      <td>JAIME EDUARDO DIAZ BARRERA</td>\n",
              "      <td>Sin Descripcion</td>\n",
              "      <td>80058064</td>\n",
              "      <td>No Definido</td>\n",
              "    </tr>\n",
              "    <tr>\n",
              "      <th>1355</th>\n",
              "      <td>SECRETARIA DISTRITAL DE DESARROLLO ECONOMICO  ...</td>\n",
              "      <td>8999990619</td>\n",
              "      <td>Distrito Capital de Bogotá</td>\n",
              "      <td>Colombia, Bogotá, Bogotá</td>\n",
              "      <td>Territorial</td>\n",
              "      <td>Industria</td>\n",
              "      <td>CO1.BDOS.962310</td>\n",
              "      <td>CO1.PCCNTR.1207406</td>\n",
              "      <td>403-2019</td>\n",
              "      <td>terminado</td>\n",
              "      <td>...</td>\n",
              "      <td>No Definido</td>\n",
              "      <td>900260048</td>\n",
              "      <td>ITSEC SAS</td>\n",
              "      <td>No</td>\n",
              "      <td>Si</td>\n",
              "      <td>74021000</td>\n",
              "      <td>Diana Marcela Avendaño Tejedor</td>\n",
              "      <td>Sin Descripcion</td>\n",
              "      <td>52789505</td>\n",
              "      <td>No Definido</td>\n",
              "    </tr>\n",
              "    <tr>\n",
              "      <th>1356</th>\n",
              "      <td>SECRETARÍA GENERAL DE LA ALCALDÍA MAYOR DE BOGOTÁ</td>\n",
              "      <td>899999061</td>\n",
              "      <td>Distrito Capital de Bogotá</td>\n",
              "      <td>Colombia, Bogotá, Bogotá</td>\n",
              "      <td>Territorial</td>\n",
              "      <td>Servicio Público</td>\n",
              "      <td>CO1.BDOS.970418</td>\n",
              "      <td>CO1.PCCNTR.1220110</td>\n",
              "      <td>4204000-1096-2019</td>\n",
              "      <td>Activo</td>\n",
              "      <td>...</td>\n",
              "      <td>No Definido</td>\n",
              "      <td>830505521</td>\n",
              "      <td>STS SAS</td>\n",
              "      <td>No</td>\n",
              "      <td>Si</td>\n",
              "      <td>152000000</td>\n",
              "      <td>Mauricio Amaya Amezquita</td>\n",
              "      <td>Sin Descripcion</td>\n",
              "      <td>Sin Descripcion</td>\n",
              "      <td>No Definido</td>\n",
              "    </tr>\n",
              "    <tr>\n",
              "      <th>1357</th>\n",
              "      <td>SECRETARÍA GENERAL DE LA ALCALDÍA MAYOR DE BOGOTÁ</td>\n",
              "      <td>899999061</td>\n",
              "      <td>Distrito Capital de Bogotá</td>\n",
              "      <td>Colombia, Bogotá, Bogotá</td>\n",
              "      <td>Territorial</td>\n",
              "      <td>Servicio Público</td>\n",
              "      <td>CO1.BDOS.971123</td>\n",
              "      <td>CO1.PCCNTR.1219405</td>\n",
              "      <td>4204000-1097-2019</td>\n",
              "      <td>Activo</td>\n",
              "      <td>...</td>\n",
              "      <td>No Definido</td>\n",
              "      <td>830044977</td>\n",
              "      <td>XSYSTEM LTDA</td>\n",
              "      <td>No</td>\n",
              "      <td>No</td>\n",
              "      <td>131588000</td>\n",
              "      <td>Weimar Garcia Cuellar</td>\n",
              "      <td>Sin Descripcion</td>\n",
              "      <td>79687935</td>\n",
              "      <td>No Definido</td>\n",
              "    </tr>\n",
              "    <tr>\n",
              "      <th>1358</th>\n",
              "      <td>SECRETARIA DISTRITAL DE DESARROLLO ECONOMICO  ...</td>\n",
              "      <td>8999990619</td>\n",
              "      <td>Distrito Capital de Bogotá</td>\n",
              "      <td>Colombia, Bogotá, Bogotá</td>\n",
              "      <td>Territorial</td>\n",
              "      <td>Industria</td>\n",
              "      <td>CO1.BDOS.964905</td>\n",
              "      <td>CO1.PCCNTR.1211928</td>\n",
              "      <td>405-2019</td>\n",
              "      <td>Suspendido</td>\n",
              "      <td>...</td>\n",
              "      <td>No Definido</td>\n",
              "      <td>900776369</td>\n",
              "      <td>BIOPROYECTAR SAS</td>\n",
              "      <td>No</td>\n",
              "      <td>Si</td>\n",
              "      <td>252485217</td>\n",
              "      <td>Mario Fernando Contreras Ortiz</td>\n",
              "      <td>Sin Descripcion</td>\n",
              "      <td>80720118</td>\n",
              "      <td>No Definido</td>\n",
              "    </tr>\n",
              "  </tbody>\n",
              "</table>\n",
              "<p>1359 rows × 27 columns</p>\n",
              "</div>\n",
              "      <button class=\"colab-df-convert\" onclick=\"convertToInteractive('df-a636c35b-af56-4536-aeac-9e026b1ae776')\"\n",
              "              title=\"Convert this dataframe to an interactive table.\"\n",
              "              style=\"display:none;\">\n",
              "\n",
              "  <svg xmlns=\"http://www.w3.org/2000/svg\" height=\"24px\"viewBox=\"0 0 24 24\"\n",
              "       width=\"24px\">\n",
              "    <path d=\"M0 0h24v24H0V0z\" fill=\"none\"/>\n",
              "    <path d=\"M18.56 5.44l.94 2.06.94-2.06 2.06-.94-2.06-.94-.94-2.06-.94 2.06-2.06.94zm-11 1L8.5 8.5l.94-2.06 2.06-.94-2.06-.94L8.5 2.5l-.94 2.06-2.06.94zm10 10l.94 2.06.94-2.06 2.06-.94-2.06-.94-.94-2.06-.94 2.06-2.06.94z\"/><path d=\"M17.41 7.96l-1.37-1.37c-.4-.4-.92-.59-1.43-.59-.52 0-1.04.2-1.43.59L10.3 9.45l-7.72 7.72c-.78.78-.78 2.05 0 2.83L4 21.41c.39.39.9.59 1.41.59.51 0 1.02-.2 1.41-.59l7.78-7.78 2.81-2.81c.8-.78.8-2.07 0-2.86zM5.41 20L4 18.59l7.72-7.72 1.47 1.35L5.41 20z\"/>\n",
              "  </svg>\n",
              "      </button>\n",
              "\n",
              "\n",
              "\n",
              "    <div id=\"df-715749eb-fd39-47b0-a065-6a03119dbbb0\">\n",
              "      <button class=\"colab-df-quickchart\" onclick=\"quickchart('df-715749eb-fd39-47b0-a065-6a03119dbbb0')\"\n",
              "              title=\"Suggest charts.\"\n",
              "              style=\"display:none;\">\n",
              "\n",
              "<svg xmlns=\"http://www.w3.org/2000/svg\" height=\"24px\"viewBox=\"0 0 24 24\"\n",
              "     width=\"24px\">\n",
              "    <g>\n",
              "        <path d=\"M19 3H5c-1.1 0-2 .9-2 2v14c0 1.1.9 2 2 2h14c1.1 0 2-.9 2-2V5c0-1.1-.9-2-2-2zM9 17H7v-7h2v7zm4 0h-2V7h2v10zm4 0h-2v-4h2v4z\"/>\n",
              "    </g>\n",
              "</svg>\n",
              "      </button>\n",
              "    </div>\n",
              "\n",
              "<style>\n",
              "  .colab-df-quickchart {\n",
              "    background-color: #E8F0FE;\n",
              "    border: none;\n",
              "    border-radius: 50%;\n",
              "    cursor: pointer;\n",
              "    display: none;\n",
              "    fill: #1967D2;\n",
              "    height: 32px;\n",
              "    padding: 0 0 0 0;\n",
              "    width: 32px;\n",
              "  }\n",
              "\n",
              "  .colab-df-quickchart:hover {\n",
              "    background-color: #E2EBFA;\n",
              "    box-shadow: 0px 1px 2px rgba(60, 64, 67, 0.3), 0px 1px 3px 1px rgba(60, 64, 67, 0.15);\n",
              "    fill: #174EA6;\n",
              "  }\n",
              "\n",
              "  [theme=dark] .colab-df-quickchart {\n",
              "    background-color: #3B4455;\n",
              "    fill: #D2E3FC;\n",
              "  }\n",
              "\n",
              "  [theme=dark] .colab-df-quickchart:hover {\n",
              "    background-color: #434B5C;\n",
              "    box-shadow: 0px 1px 3px 1px rgba(0, 0, 0, 0.15);\n",
              "    filter: drop-shadow(0px 1px 2px rgba(0, 0, 0, 0.3));\n",
              "    fill: #FFFFFF;\n",
              "  }\n",
              "</style>\n",
              "\n",
              "    <script>\n",
              "      async function quickchart(key) {\n",
              "        const containerElement = document.querySelector('#' + key);\n",
              "        const charts = await google.colab.kernel.invokeFunction(\n",
              "            'suggestCharts', [key], {});\n",
              "      }\n",
              "    </script>\n",
              "\n",
              "      <script>\n",
              "\n",
              "function displayQuickchartButton(domScope) {\n",
              "  let quickchartButtonEl =\n",
              "    domScope.querySelector('#df-715749eb-fd39-47b0-a065-6a03119dbbb0 button.colab-df-quickchart');\n",
              "  quickchartButtonEl.style.display =\n",
              "    google.colab.kernel.accessAllowed ? 'block' : 'none';\n",
              "}\n",
              "\n",
              "        displayQuickchartButton(document);\n",
              "      </script>\n",
              "      <style>\n",
              "    .colab-df-container {\n",
              "      display:flex;\n",
              "      flex-wrap:wrap;\n",
              "      gap: 12px;\n",
              "    }\n",
              "\n",
              "    .colab-df-convert {\n",
              "      background-color: #E8F0FE;\n",
              "      border: none;\n",
              "      border-radius: 50%;\n",
              "      cursor: pointer;\n",
              "      display: none;\n",
              "      fill: #1967D2;\n",
              "      height: 32px;\n",
              "      padding: 0 0 0 0;\n",
              "      width: 32px;\n",
              "    }\n",
              "\n",
              "    .colab-df-convert:hover {\n",
              "      background-color: #E2EBFA;\n",
              "      box-shadow: 0px 1px 2px rgba(60, 64, 67, 0.3), 0px 1px 3px 1px rgba(60, 64, 67, 0.15);\n",
              "      fill: #174EA6;\n",
              "    }\n",
              "\n",
              "    [theme=dark] .colab-df-convert {\n",
              "      background-color: #3B4455;\n",
              "      fill: #D2E3FC;\n",
              "    }\n",
              "\n",
              "    [theme=dark] .colab-df-convert:hover {\n",
              "      background-color: #434B5C;\n",
              "      box-shadow: 0px 1px 3px 1px rgba(0, 0, 0, 0.15);\n",
              "      filter: drop-shadow(0px 1px 2px rgba(0, 0, 0, 0.3));\n",
              "      fill: #FFFFFF;\n",
              "    }\n",
              "  </style>\n",
              "\n",
              "      <script>\n",
              "        const buttonEl =\n",
              "          document.querySelector('#df-a636c35b-af56-4536-aeac-9e026b1ae776 button.colab-df-convert');\n",
              "        buttonEl.style.display =\n",
              "          google.colab.kernel.accessAllowed ? 'block' : 'none';\n",
              "\n",
              "        async function convertToInteractive(key) {\n",
              "          const element = document.querySelector('#df-a636c35b-af56-4536-aeac-9e026b1ae776');\n",
              "          const dataTable =\n",
              "            await google.colab.kernel.invokeFunction('convertToInteractive',\n",
              "                                                     [key], {});\n",
              "          if (!dataTable) return;\n",
              "\n",
              "          const docLinkHtml = 'Like what you see? Visit the ' +\n",
              "            '<a target=\"_blank\" href=https://colab.research.google.com/notebooks/data_table.ipynb>data table notebook</a>'\n",
              "            + ' to learn more about interactive tables.';\n",
              "          element.innerHTML = '';\n",
              "          dataTable['output_type'] = 'display_data';\n",
              "          await google.colab.output.renderOutput(dataTable, element);\n",
              "          const docLink = document.createElement('div');\n",
              "          docLink.innerHTML = docLinkHtml;\n",
              "          element.appendChild(docLink);\n",
              "        }\n",
              "      </script>\n",
              "    </div>\n",
              "  </div>\n"
            ]
          },
          "metadata": {}
        }
      ],
      "source": [
        "# Visualización de la base de datos\n",
        "display(df)"
      ]
    },
    {
      "cell_type": "markdown",
      "metadata": {
        "id": "FH5eyhDBdbV6"
      },
      "source": [
        "### Caracterización y exploración"
      ]
    },
    {
      "cell_type": "markdown",
      "metadata": {
        "id": "Tj0taAgEvogl"
      },
      "source": [
        "Hagamos una exploración inicial de los datos con algunos métodos de Pandas.\n",
        "\n",
        "Con esto podemos tener una mejor idea de los datos que tenemos y la calidad de la información."
      ]
    },
    {
      "cell_type": "markdown",
      "metadata": {
        "id": "UoWJoHl8u9rG"
      },
      "source": [
        "**¿Cuantas filas y columnas tiene la base de datos?**"
      ]
    },
    {
      "cell_type": "code",
      "execution_count": null,
      "metadata": {
        "colab": {
          "base_uri": "https://localhost:8080/"
        },
        "id": "f-xntmGtu8W2",
        "outputId": "47abd9ad-c275-4322-d510-e2a12afe715e"
      },
      "outputs": [
        {
          "output_type": "stream",
          "name": "stdout",
          "text": [
            "Filas:  10\n",
            "Columnas:  2\n"
          ]
        }
      ],
      "source": [
        "print('Filas: ', df.shape[0])\n",
        "print('Columnas: ', df.shape[1])"
      ]
    },
    {
      "cell_type": "markdown",
      "metadata": {
        "id": "jMLeVXqjvriq"
      },
      "source": [
        "**Validemos nuestras variables de acuerdo al diccionario de datos:**"
      ]
    },
    {
      "cell_type": "code",
      "execution_count": null,
      "metadata": {
        "colab": {
          "base_uri": "https://localhost:8080/"
        },
        "id": "3W9pkrEHvCTe",
        "outputId": "d9ed25d6-95cb-46d4-cbd1-df4acbbf538a"
      },
      "outputs": [
        {
          "output_type": "execute_result",
          "data": {
            "text/plain": [
              "Index(['Nombre Entidad', 'Nit Entidad', 'Departamento', 'Localización',\n",
              "       'Orden', 'Sector', 'Proceso de Compra', 'ID Contrato',\n",
              "       'Referencia del Contrato', 'Estado Contrato',\n",
              "       'Codigo de Categoria Principal', 'Descripcion del Proceso',\n",
              "       'Tipo de Contrato', 'Modalidad de Contratacion',\n",
              "       'Justificacion Modalidad de Contratacion', 'Fecha de Firma',\n",
              "       'Año Firma', 'TipoDocProveedor', 'Documento Proveedor',\n",
              "       'Proveedor Adjudicado', 'Es Grupo', 'Es Pyme', 'Valor del Contrato',\n",
              "       'Nombre Representante Legal',\n",
              "       'Tipo de Identificación Representante Legal',\n",
              "       'Identificación Representante Legal', 'Género Representante Legal'],\n",
              "      dtype='object')"
            ]
          },
          "metadata": {},
          "execution_count": 13
        }
      ],
      "source": [
        "df.columns"
      ]
    },
    {
      "cell_type": "markdown",
      "metadata": {
        "id": "_jG_dv2Sv5qC"
      },
      "source": [
        "**¿Cuales son los tipos de datos que tenemos en nuestra base de datos?**"
      ]
    },
    {
      "cell_type": "markdown",
      "metadata": {
        "id": "gBTKESZwwDPC"
      },
      "source": [
        "La función `df.info()` nos permite conocer el tipo de dato en el que es cargado la base y adicional conocer si existen datos nulos en alguna de las variables"
      ]
    },
    {
      "cell_type": "code",
      "execution_count": null,
      "metadata": {
        "colab": {
          "base_uri": "https://localhost:8080/"
        },
        "id": "zfNU1d3jvCQe",
        "outputId": "72a4c129-833c-4ba6-e481-1ba0a69cd4b5"
      },
      "outputs": [
        {
          "output_type": "stream",
          "name": "stdout",
          "text": [
            "<class 'pandas.core.frame.DataFrame'>\n",
            "RangeIndex: 1359 entries, 0 to 1358\n",
            "Data columns (total 27 columns):\n",
            " #   Column                                      Non-Null Count  Dtype         \n",
            "---  ------                                      --------------  -----         \n",
            " 0   Nombre Entidad                              1359 non-null   object        \n",
            " 1   Nit Entidad                                 1359 non-null   int64         \n",
            " 2   Departamento                                1359 non-null   object        \n",
            " 3   Localización                                1359 non-null   object        \n",
            " 4   Orden                                       1359 non-null   object        \n",
            " 5   Sector                                      1359 non-null   object        \n",
            " 6   Proceso de Compra                           1359 non-null   object        \n",
            " 7   ID Contrato                                 1359 non-null   object        \n",
            " 8   Referencia del Contrato                     1359 non-null   object        \n",
            " 9   Estado Contrato                             1359 non-null   object        \n",
            " 10  Codigo de Categoria Principal               1359 non-null   object        \n",
            " 11  Descripcion del Proceso                     1359 non-null   object        \n",
            " 12  Tipo de Contrato                            1359 non-null   object        \n",
            " 13  Modalidad de Contratacion                   1359 non-null   object        \n",
            " 14  Justificacion Modalidad de Contratacion     1359 non-null   object        \n",
            " 15  Fecha de Firma                              1359 non-null   datetime64[ns]\n",
            " 16  Año Firma                                   1359 non-null   int64         \n",
            " 17  TipoDocProveedor                            1359 non-null   object        \n",
            " 18  Documento Proveedor                         1359 non-null   object        \n",
            " 19  Proveedor Adjudicado                        1359 non-null   object        \n",
            " 20  Es Grupo                                    1359 non-null   object        \n",
            " 21  Es Pyme                                     1359 non-null   object        \n",
            " 22  Valor del Contrato                          1359 non-null   int64         \n",
            " 23  Nombre Representante Legal                  1359 non-null   object        \n",
            " 24  Tipo de Identificación Representante Legal  1359 non-null   object        \n",
            " 25  Identificación Representante Legal          1359 non-null   object        \n",
            " 26  Género Representante Legal                  1359 non-null   object        \n",
            "dtypes: datetime64[ns](1), int64(3), object(23)\n",
            "memory usage: 286.8+ KB\n"
          ]
        }
      ],
      "source": [
        "df.info()"
      ]
    },
    {
      "cell_type": "markdown",
      "metadata": {
        "id": "Y0OGEvaxwf1-"
      },
      "source": [
        "Con lo anterior, todas las variables tienen datos. Y tenemos variables de tipo categorico, decimal, entero y fecha."
      ]
    },
    {
      "cell_type": "markdown",
      "metadata": {
        "id": "Qu8Q_VlAzJeU"
      },
      "source": [
        "... Otra manera de conocer los tipos de datos..."
      ]
    },
    {
      "cell_type": "code",
      "execution_count": null,
      "metadata": {
        "colab": {
          "base_uri": "https://localhost:8080/"
        },
        "id": "9YwlCCT_zIgM",
        "outputId": "adf9be16-8d25-4125-84f6-ddbac672647e"
      },
      "outputs": [
        {
          "output_type": "execute_result",
          "data": {
            "text/plain": [
              "Nombre Entidad                                        object\n",
              "Nit Entidad                                            int64\n",
              "Departamento                                          object\n",
              "Localización                                          object\n",
              "Orden                                                 object\n",
              "Sector                                                object\n",
              "Proceso de Compra                                     object\n",
              "ID Contrato                                           object\n",
              "Referencia del Contrato                               object\n",
              "Estado Contrato                                       object\n",
              "Codigo de Categoria Principal                         object\n",
              "Descripcion del Proceso                               object\n",
              "Tipo de Contrato                                      object\n",
              "Modalidad de Contratacion                             object\n",
              "Justificacion Modalidad de Contratacion               object\n",
              "Fecha de Firma                                datetime64[ns]\n",
              "Año Firma                                              int64\n",
              "TipoDocProveedor                                      object\n",
              "Documento Proveedor                                   object\n",
              "Proveedor Adjudicado                                  object\n",
              "Es Grupo                                              object\n",
              "Es Pyme                                               object\n",
              "Valor del Contrato                                     int64\n",
              "Nombre Representante Legal                            object\n",
              "Tipo de Identificación Representante Legal            object\n",
              "Identificación Representante Legal                    object\n",
              "Género Representante Legal                            object\n",
              "dtype: object"
            ]
          },
          "metadata": {},
          "execution_count": 15
        }
      ],
      "source": [
        "df.dtypes"
      ]
    },
    {
      "cell_type": "code",
      "execution_count": null,
      "metadata": {
        "id": "fkX8oDmRvCNO"
      },
      "outputs": [],
      "source": [
        "cualicolumns=df.select_dtypes(exclude=['int64','float64','datetime64']).columns\n",
        "cuanticolumns=df.select_dtypes(exclude=['object','datetime64']).columns\n",
        "fechacolumns=df.select_dtypes(exclude=['object','float64','int64']).columns"
      ]
    },
    {
      "cell_type": "code",
      "execution_count": null,
      "metadata": {
        "colab": {
          "base_uri": "https://localhost:8080/"
        },
        "id": "Kw5VCoecvCKA",
        "outputId": "3ee1cc39-a790-4bcc-901c-2bb1aaf19fb4"
      },
      "outputs": [
        {
          "output_type": "stream",
          "name": "stdout",
          "text": [
            "El número de variables categóricas es de:  23\n",
            "El número de variables cuantitativas es de:  4\n",
            "El número de variables tipo fecha es de:  1\n"
          ]
        }
      ],
      "source": [
        "print('El número de variables categóricas es de: ', len(cualicolumns)),\n",
        "print('El número de variables cuantitativas es de: ', len(cuanticolumns)),\n",
        "print('El número de variables tipo fecha es de: ', len(fechacolumns))"
      ]
    },
    {
      "cell_type": "markdown",
      "metadata": {
        "id": "mekk6jZNxuEF"
      },
      "source": [
        "La función `df.head()` nos permite visualizar los 5 primeros registros por defecto y la función `df.tail()` los últimos 5 registros."
      ]
    },
    {
      "cell_type": "markdown",
      "metadata": {
        "id": "gnpVzNxHyU9r"
      },
      "source": [
        "**-Pruebe las funciones anteriormente mencionadas**\n",
        "\n",
        "**-Después de conocer los tipos de datos cargados en python y la visualización de las variables. Clasifique los tipos de datos de cada variable entre a.Cualitativa (Nominales, Ordinales) b.Cuantitativa (Discretas, Continuas)**"
      ]
    },
    {
      "cell_type": "code",
      "execution_count": null,
      "metadata": {
        "id": "5HQpZeRSySsO",
        "colab": {
          "base_uri": "https://localhost:8080/",
          "height": 592
        },
        "outputId": "cf834389-e079-4894-db1f-358a8ba8dd4f"
      },
      "outputs": [
        {
          "output_type": "execute_result",
          "data": {
            "text/plain": [
              "                                         Nombre Entidad  Nit Entidad  \\\n",
              "1354  SECRETARÍA GENERAL DE LA ALCALDÍA MAYOR DE BOGOTÁ    899999061   \n",
              "1355  SECRETARIA DISTRITAL DE DESARROLLO ECONOMICO  ...   8999990619   \n",
              "1356  SECRETARÍA GENERAL DE LA ALCALDÍA MAYOR DE BOGOTÁ    899999061   \n",
              "1357  SECRETARÍA GENERAL DE LA ALCALDÍA MAYOR DE BOGOTÁ    899999061   \n",
              "1358  SECRETARIA DISTRITAL DE DESARROLLO ECONOMICO  ...   8999990619   \n",
              "\n",
              "                    Departamento              Localización        Orden  \\\n",
              "1354  Distrito Capital de Bogotá  Colombia, Bogotá, Bogotá  Territorial   \n",
              "1355  Distrito Capital de Bogotá  Colombia, Bogotá, Bogotá  Territorial   \n",
              "1356  Distrito Capital de Bogotá  Colombia, Bogotá, Bogotá  Territorial   \n",
              "1357  Distrito Capital de Bogotá  Colombia, Bogotá, Bogotá  Territorial   \n",
              "1358  Distrito Capital de Bogotá  Colombia, Bogotá, Bogotá  Territorial   \n",
              "\n",
              "                Sector Proceso de Compra         ID Contrato  \\\n",
              "1354  Servicio Público   CO1.BDOS.961218  CO1.PCCNTR.1207340   \n",
              "1355         Industria   CO1.BDOS.962310  CO1.PCCNTR.1207406   \n",
              "1356  Servicio Público   CO1.BDOS.970418  CO1.PCCNTR.1220110   \n",
              "1357  Servicio Público   CO1.BDOS.971123  CO1.PCCNTR.1219405   \n",
              "1358         Industria   CO1.BDOS.964905  CO1.PCCNTR.1211928   \n",
              "\n",
              "     Referencia del Contrato Estado Contrato  ... Documento Proveedor  \\\n",
              "1354       4232000-1042-2019          Activo  ...           900758826   \n",
              "1355                403-2019       terminado  ...           900260048   \n",
              "1356       4204000-1096-2019          Activo  ...           830505521   \n",
              "1357       4204000-1097-2019          Activo  ...           830044977   \n",
              "1358                405-2019      Suspendido  ...           900776369   \n",
              "\n",
              "       Proveedor Adjudicado Es Grupo Es Pyme Valor del Contrato  \\\n",
              "1354  DISTRIBUCIONES BOGOTÀ       No      Si           28599897   \n",
              "1355              ITSEC SAS       No      Si           74021000   \n",
              "1356                STS SAS       No      Si          152000000   \n",
              "1357           XSYSTEM LTDA       No      No          131588000   \n",
              "1358       BIOPROYECTAR SAS       No      Si          252485217   \n",
              "\n",
              "          Nombre Representante Legal  \\\n",
              "1354      JAIME EDUARDO DIAZ BARRERA   \n",
              "1355  Diana Marcela Avendaño Tejedor   \n",
              "1356        Mauricio Amaya Amezquita   \n",
              "1357           Weimar Garcia Cuellar   \n",
              "1358  Mario Fernando Contreras Ortiz   \n",
              "\n",
              "      Tipo de Identificación Representante Legal  \\\n",
              "1354                             Sin Descripcion   \n",
              "1355                             Sin Descripcion   \n",
              "1356                             Sin Descripcion   \n",
              "1357                             Sin Descripcion   \n",
              "1358                             Sin Descripcion   \n",
              "\n",
              "     Identificación Representante Legal Género Representante Legal  \\\n",
              "1354                           80058064                No Definido   \n",
              "1355                           52789505                No Definido   \n",
              "1356                    Sin Descripcion                No Definido   \n",
              "1357                           79687935                No Definido   \n",
              "1358                           80720118                No Definido   \n",
              "\n",
              "     log_variable  \n",
              "1354         7.46  \n",
              "1355         7.87  \n",
              "1356         8.18  \n",
              "1357         8.12  \n",
              "1358         8.40  \n",
              "\n",
              "[5 rows x 28 columns]"
            ],
            "text/html": [
              "\n",
              "\n",
              "  <div id=\"df-41cad98b-a1d5-4e66-b991-c75c23c130ba\">\n",
              "    <div class=\"colab-df-container\">\n",
              "      <div>\n",
              "<style scoped>\n",
              "    .dataframe tbody tr th:only-of-type {\n",
              "        vertical-align: middle;\n",
              "    }\n",
              "\n",
              "    .dataframe tbody tr th {\n",
              "        vertical-align: top;\n",
              "    }\n",
              "\n",
              "    .dataframe thead th {\n",
              "        text-align: right;\n",
              "    }\n",
              "</style>\n",
              "<table border=\"1\" class=\"dataframe\">\n",
              "  <thead>\n",
              "    <tr style=\"text-align: right;\">\n",
              "      <th></th>\n",
              "      <th>Nombre Entidad</th>\n",
              "      <th>Nit Entidad</th>\n",
              "      <th>Departamento</th>\n",
              "      <th>Localización</th>\n",
              "      <th>Orden</th>\n",
              "      <th>Sector</th>\n",
              "      <th>Proceso de Compra</th>\n",
              "      <th>ID Contrato</th>\n",
              "      <th>Referencia del Contrato</th>\n",
              "      <th>Estado Contrato</th>\n",
              "      <th>...</th>\n",
              "      <th>Documento Proveedor</th>\n",
              "      <th>Proveedor Adjudicado</th>\n",
              "      <th>Es Grupo</th>\n",
              "      <th>Es Pyme</th>\n",
              "      <th>Valor del Contrato</th>\n",
              "      <th>Nombre Representante Legal</th>\n",
              "      <th>Tipo de Identificación Representante Legal</th>\n",
              "      <th>Identificación Representante Legal</th>\n",
              "      <th>Género Representante Legal</th>\n",
              "      <th>log_variable</th>\n",
              "    </tr>\n",
              "  </thead>\n",
              "  <tbody>\n",
              "    <tr>\n",
              "      <th>1354</th>\n",
              "      <td>SECRETARÍA GENERAL DE LA ALCALDÍA MAYOR DE BOGOTÁ</td>\n",
              "      <td>899999061</td>\n",
              "      <td>Distrito Capital de Bogotá</td>\n",
              "      <td>Colombia, Bogotá, Bogotá</td>\n",
              "      <td>Territorial</td>\n",
              "      <td>Servicio Público</td>\n",
              "      <td>CO1.BDOS.961218</td>\n",
              "      <td>CO1.PCCNTR.1207340</td>\n",
              "      <td>4232000-1042-2019</td>\n",
              "      <td>Activo</td>\n",
              "      <td>...</td>\n",
              "      <td>900758826</td>\n",
              "      <td>DISTRIBUCIONES BOGOTÀ</td>\n",
              "      <td>No</td>\n",
              "      <td>Si</td>\n",
              "      <td>28599897</td>\n",
              "      <td>JAIME EDUARDO DIAZ BARRERA</td>\n",
              "      <td>Sin Descripcion</td>\n",
              "      <td>80058064</td>\n",
              "      <td>No Definido</td>\n",
              "      <td>7.46</td>\n",
              "    </tr>\n",
              "    <tr>\n",
              "      <th>1355</th>\n",
              "      <td>SECRETARIA DISTRITAL DE DESARROLLO ECONOMICO  ...</td>\n",
              "      <td>8999990619</td>\n",
              "      <td>Distrito Capital de Bogotá</td>\n",
              "      <td>Colombia, Bogotá, Bogotá</td>\n",
              "      <td>Territorial</td>\n",
              "      <td>Industria</td>\n",
              "      <td>CO1.BDOS.962310</td>\n",
              "      <td>CO1.PCCNTR.1207406</td>\n",
              "      <td>403-2019</td>\n",
              "      <td>terminado</td>\n",
              "      <td>...</td>\n",
              "      <td>900260048</td>\n",
              "      <td>ITSEC SAS</td>\n",
              "      <td>No</td>\n",
              "      <td>Si</td>\n",
              "      <td>74021000</td>\n",
              "      <td>Diana Marcela Avendaño Tejedor</td>\n",
              "      <td>Sin Descripcion</td>\n",
              "      <td>52789505</td>\n",
              "      <td>No Definido</td>\n",
              "      <td>7.87</td>\n",
              "    </tr>\n",
              "    <tr>\n",
              "      <th>1356</th>\n",
              "      <td>SECRETARÍA GENERAL DE LA ALCALDÍA MAYOR DE BOGOTÁ</td>\n",
              "      <td>899999061</td>\n",
              "      <td>Distrito Capital de Bogotá</td>\n",
              "      <td>Colombia, Bogotá, Bogotá</td>\n",
              "      <td>Territorial</td>\n",
              "      <td>Servicio Público</td>\n",
              "      <td>CO1.BDOS.970418</td>\n",
              "      <td>CO1.PCCNTR.1220110</td>\n",
              "      <td>4204000-1096-2019</td>\n",
              "      <td>Activo</td>\n",
              "      <td>...</td>\n",
              "      <td>830505521</td>\n",
              "      <td>STS SAS</td>\n",
              "      <td>No</td>\n",
              "      <td>Si</td>\n",
              "      <td>152000000</td>\n",
              "      <td>Mauricio Amaya Amezquita</td>\n",
              "      <td>Sin Descripcion</td>\n",
              "      <td>Sin Descripcion</td>\n",
              "      <td>No Definido</td>\n",
              "      <td>8.18</td>\n",
              "    </tr>\n",
              "    <tr>\n",
              "      <th>1357</th>\n",
              "      <td>SECRETARÍA GENERAL DE LA ALCALDÍA MAYOR DE BOGOTÁ</td>\n",
              "      <td>899999061</td>\n",
              "      <td>Distrito Capital de Bogotá</td>\n",
              "      <td>Colombia, Bogotá, Bogotá</td>\n",
              "      <td>Territorial</td>\n",
              "      <td>Servicio Público</td>\n",
              "      <td>CO1.BDOS.971123</td>\n",
              "      <td>CO1.PCCNTR.1219405</td>\n",
              "      <td>4204000-1097-2019</td>\n",
              "      <td>Activo</td>\n",
              "      <td>...</td>\n",
              "      <td>830044977</td>\n",
              "      <td>XSYSTEM LTDA</td>\n",
              "      <td>No</td>\n",
              "      <td>No</td>\n",
              "      <td>131588000</td>\n",
              "      <td>Weimar Garcia Cuellar</td>\n",
              "      <td>Sin Descripcion</td>\n",
              "      <td>79687935</td>\n",
              "      <td>No Definido</td>\n",
              "      <td>8.12</td>\n",
              "    </tr>\n",
              "    <tr>\n",
              "      <th>1358</th>\n",
              "      <td>SECRETARIA DISTRITAL DE DESARROLLO ECONOMICO  ...</td>\n",
              "      <td>8999990619</td>\n",
              "      <td>Distrito Capital de Bogotá</td>\n",
              "      <td>Colombia, Bogotá, Bogotá</td>\n",
              "      <td>Territorial</td>\n",
              "      <td>Industria</td>\n",
              "      <td>CO1.BDOS.964905</td>\n",
              "      <td>CO1.PCCNTR.1211928</td>\n",
              "      <td>405-2019</td>\n",
              "      <td>Suspendido</td>\n",
              "      <td>...</td>\n",
              "      <td>900776369</td>\n",
              "      <td>BIOPROYECTAR SAS</td>\n",
              "      <td>No</td>\n",
              "      <td>Si</td>\n",
              "      <td>252485217</td>\n",
              "      <td>Mario Fernando Contreras Ortiz</td>\n",
              "      <td>Sin Descripcion</td>\n",
              "      <td>80720118</td>\n",
              "      <td>No Definido</td>\n",
              "      <td>8.40</td>\n",
              "    </tr>\n",
              "  </tbody>\n",
              "</table>\n",
              "<p>5 rows × 28 columns</p>\n",
              "</div>\n",
              "      <button class=\"colab-df-convert\" onclick=\"convertToInteractive('df-41cad98b-a1d5-4e66-b991-c75c23c130ba')\"\n",
              "              title=\"Convert this dataframe to an interactive table.\"\n",
              "              style=\"display:none;\">\n",
              "\n",
              "  <svg xmlns=\"http://www.w3.org/2000/svg\" height=\"24px\"viewBox=\"0 0 24 24\"\n",
              "       width=\"24px\">\n",
              "    <path d=\"M0 0h24v24H0V0z\" fill=\"none\"/>\n",
              "    <path d=\"M18.56 5.44l.94 2.06.94-2.06 2.06-.94-2.06-.94-.94-2.06-.94 2.06-2.06.94zm-11 1L8.5 8.5l.94-2.06 2.06-.94-2.06-.94L8.5 2.5l-.94 2.06-2.06.94zm10 10l.94 2.06.94-2.06 2.06-.94-2.06-.94-.94-2.06-.94 2.06-2.06.94z\"/><path d=\"M17.41 7.96l-1.37-1.37c-.4-.4-.92-.59-1.43-.59-.52 0-1.04.2-1.43.59L10.3 9.45l-7.72 7.72c-.78.78-.78 2.05 0 2.83L4 21.41c.39.39.9.59 1.41.59.51 0 1.02-.2 1.41-.59l7.78-7.78 2.81-2.81c.8-.78.8-2.07 0-2.86zM5.41 20L4 18.59l7.72-7.72 1.47 1.35L5.41 20z\"/>\n",
              "  </svg>\n",
              "      </button>\n",
              "\n",
              "\n",
              "\n",
              "    <div id=\"df-e3c13cd0-b46b-4a07-a849-e03924c3f7c7\">\n",
              "      <button class=\"colab-df-quickchart\" onclick=\"quickchart('df-e3c13cd0-b46b-4a07-a849-e03924c3f7c7')\"\n",
              "              title=\"Suggest charts.\"\n",
              "              style=\"display:none;\">\n",
              "\n",
              "<svg xmlns=\"http://www.w3.org/2000/svg\" height=\"24px\"viewBox=\"0 0 24 24\"\n",
              "     width=\"24px\">\n",
              "    <g>\n",
              "        <path d=\"M19 3H5c-1.1 0-2 .9-2 2v14c0 1.1.9 2 2 2h14c1.1 0 2-.9 2-2V5c0-1.1-.9-2-2-2zM9 17H7v-7h2v7zm4 0h-2V7h2v10zm4 0h-2v-4h2v4z\"/>\n",
              "    </g>\n",
              "</svg>\n",
              "      </button>\n",
              "    </div>\n",
              "\n",
              "<style>\n",
              "  .colab-df-quickchart {\n",
              "    background-color: #E8F0FE;\n",
              "    border: none;\n",
              "    border-radius: 50%;\n",
              "    cursor: pointer;\n",
              "    display: none;\n",
              "    fill: #1967D2;\n",
              "    height: 32px;\n",
              "    padding: 0 0 0 0;\n",
              "    width: 32px;\n",
              "  }\n",
              "\n",
              "  .colab-df-quickchart:hover {\n",
              "    background-color: #E2EBFA;\n",
              "    box-shadow: 0px 1px 2px rgba(60, 64, 67, 0.3), 0px 1px 3px 1px rgba(60, 64, 67, 0.15);\n",
              "    fill: #174EA6;\n",
              "  }\n",
              "\n",
              "  [theme=dark] .colab-df-quickchart {\n",
              "    background-color: #3B4455;\n",
              "    fill: #D2E3FC;\n",
              "  }\n",
              "\n",
              "  [theme=dark] .colab-df-quickchart:hover {\n",
              "    background-color: #434B5C;\n",
              "    box-shadow: 0px 1px 3px 1px rgba(0, 0, 0, 0.15);\n",
              "    filter: drop-shadow(0px 1px 2px rgba(0, 0, 0, 0.3));\n",
              "    fill: #FFFFFF;\n",
              "  }\n",
              "</style>\n",
              "\n",
              "    <script>\n",
              "      async function quickchart(key) {\n",
              "        const containerElement = document.querySelector('#' + key);\n",
              "        const charts = await google.colab.kernel.invokeFunction(\n",
              "            'suggestCharts', [key], {});\n",
              "      }\n",
              "    </script>\n",
              "\n",
              "      <script>\n",
              "\n",
              "function displayQuickchartButton(domScope) {\n",
              "  let quickchartButtonEl =\n",
              "    domScope.querySelector('#df-e3c13cd0-b46b-4a07-a849-e03924c3f7c7 button.colab-df-quickchart');\n",
              "  quickchartButtonEl.style.display =\n",
              "    google.colab.kernel.accessAllowed ? 'block' : 'none';\n",
              "}\n",
              "\n",
              "        displayQuickchartButton(document);\n",
              "      </script>\n",
              "      <style>\n",
              "    .colab-df-container {\n",
              "      display:flex;\n",
              "      flex-wrap:wrap;\n",
              "      gap: 12px;\n",
              "    }\n",
              "\n",
              "    .colab-df-convert {\n",
              "      background-color: #E8F0FE;\n",
              "      border: none;\n",
              "      border-radius: 50%;\n",
              "      cursor: pointer;\n",
              "      display: none;\n",
              "      fill: #1967D2;\n",
              "      height: 32px;\n",
              "      padding: 0 0 0 0;\n",
              "      width: 32px;\n",
              "    }\n",
              "\n",
              "    .colab-df-convert:hover {\n",
              "      background-color: #E2EBFA;\n",
              "      box-shadow: 0px 1px 2px rgba(60, 64, 67, 0.3), 0px 1px 3px 1px rgba(60, 64, 67, 0.15);\n",
              "      fill: #174EA6;\n",
              "    }\n",
              "\n",
              "    [theme=dark] .colab-df-convert {\n",
              "      background-color: #3B4455;\n",
              "      fill: #D2E3FC;\n",
              "    }\n",
              "\n",
              "    [theme=dark] .colab-df-convert:hover {\n",
              "      background-color: #434B5C;\n",
              "      box-shadow: 0px 1px 3px 1px rgba(0, 0, 0, 0.15);\n",
              "      filter: drop-shadow(0px 1px 2px rgba(0, 0, 0, 0.3));\n",
              "      fill: #FFFFFF;\n",
              "    }\n",
              "  </style>\n",
              "\n",
              "      <script>\n",
              "        const buttonEl =\n",
              "          document.querySelector('#df-41cad98b-a1d5-4e66-b991-c75c23c130ba button.colab-df-convert');\n",
              "        buttonEl.style.display =\n",
              "          google.colab.kernel.accessAllowed ? 'block' : 'none';\n",
              "\n",
              "        async function convertToInteractive(key) {\n",
              "          const element = document.querySelector('#df-41cad98b-a1d5-4e66-b991-c75c23c130ba');\n",
              "          const dataTable =\n",
              "            await google.colab.kernel.invokeFunction('convertToInteractive',\n",
              "                                                     [key], {});\n",
              "          if (!dataTable) return;\n",
              "\n",
              "          const docLinkHtml = 'Like what you see? Visit the ' +\n",
              "            '<a target=\"_blank\" href=https://colab.research.google.com/notebooks/data_table.ipynb>data table notebook</a>'\n",
              "            + ' to learn more about interactive tables.';\n",
              "          element.innerHTML = '';\n",
              "          dataTable['output_type'] = 'display_data';\n",
              "          await google.colab.output.renderOutput(dataTable, element);\n",
              "          const docLink = document.createElement('div');\n",
              "          docLink.innerHTML = docLinkHtml;\n",
              "          element.appendChild(docLink);\n",
              "        }\n",
              "      </script>\n",
              "    </div>\n",
              "  </div>\n"
            ]
          },
          "metadata": {},
          "execution_count": 103
        }
      ],
      "source": [
        "df.head()\n",
        "df.tail()"
      ]
    },
    {
      "cell_type": "markdown",
      "metadata": {
        "id": "ARcugStlqytc"
      },
      "source": []
    },
    {
      "cell_type": "markdown",
      "metadata": {
        "id": "9OpXcZTBzV8c"
      },
      "source": [
        "**Resumen de los datos númericos**\n",
        "La función `df.describe()` nos permite conocer un resumen de los datos númericos."
      ]
    },
    {
      "cell_type": "code",
      "execution_count": null,
      "metadata": {
        "id": "N0M8IbR1zyGH"
      },
      "outputs": [],
      "source": [
        "# Esto lo ejecutamos para visualizar los valores númericos sin notación cientifica\n",
        "pd.options.display.float_format = '{:.2f}'.format"
      ]
    },
    {
      "cell_type": "code",
      "execution_count": null,
      "metadata": {
        "id": "165y7wyHySmi",
        "colab": {
          "base_uri": "https://localhost:8080/",
          "height": 301
        },
        "outputId": "bc573057-3829-4b27-ab86-33ac34dda0b9"
      },
      "outputs": [
        {
          "output_type": "execute_result",
          "data": {
            "text/plain": [
              "        Nit Entidad  Año Firma  Valor del Contrato  log_variable\n",
              "count       1359.00    1359.00             1359.00       1359.00\n",
              "mean  3486751331.91    2018.60        175398530.85          7.49\n",
              "std   3777814977.16       0.52        977909203.37          1.04\n",
              "min    899999061.00    2017.00                0.00          0.00\n",
              "25%    899999061.00    2018.00         16542072.00          7.22\n",
              "50%    899999061.00    2019.00         38356920.00          7.58\n",
              "75%   8999990619.00    2019.00         79213097.00          7.90\n",
              "max   8999990619.00    2019.00      17125271252.00         10.23"
            ],
            "text/html": [
              "\n",
              "\n",
              "  <div id=\"df-1be6b9d2-6c4d-42d3-b30b-ec3d3bbfae48\">\n",
              "    <div class=\"colab-df-container\">\n",
              "      <div>\n",
              "<style scoped>\n",
              "    .dataframe tbody tr th:only-of-type {\n",
              "        vertical-align: middle;\n",
              "    }\n",
              "\n",
              "    .dataframe tbody tr th {\n",
              "        vertical-align: top;\n",
              "    }\n",
              "\n",
              "    .dataframe thead th {\n",
              "        text-align: right;\n",
              "    }\n",
              "</style>\n",
              "<table border=\"1\" class=\"dataframe\">\n",
              "  <thead>\n",
              "    <tr style=\"text-align: right;\">\n",
              "      <th></th>\n",
              "      <th>Nit Entidad</th>\n",
              "      <th>Año Firma</th>\n",
              "      <th>Valor del Contrato</th>\n",
              "      <th>log_variable</th>\n",
              "    </tr>\n",
              "  </thead>\n",
              "  <tbody>\n",
              "    <tr>\n",
              "      <th>count</th>\n",
              "      <td>1359.00</td>\n",
              "      <td>1359.00</td>\n",
              "      <td>1359.00</td>\n",
              "      <td>1359.00</td>\n",
              "    </tr>\n",
              "    <tr>\n",
              "      <th>mean</th>\n",
              "      <td>3486751331.91</td>\n",
              "      <td>2018.60</td>\n",
              "      <td>175398530.85</td>\n",
              "      <td>7.49</td>\n",
              "    </tr>\n",
              "    <tr>\n",
              "      <th>std</th>\n",
              "      <td>3777814977.16</td>\n",
              "      <td>0.52</td>\n",
              "      <td>977909203.37</td>\n",
              "      <td>1.04</td>\n",
              "    </tr>\n",
              "    <tr>\n",
              "      <th>min</th>\n",
              "      <td>899999061.00</td>\n",
              "      <td>2017.00</td>\n",
              "      <td>0.00</td>\n",
              "      <td>0.00</td>\n",
              "    </tr>\n",
              "    <tr>\n",
              "      <th>25%</th>\n",
              "      <td>899999061.00</td>\n",
              "      <td>2018.00</td>\n",
              "      <td>16542072.00</td>\n",
              "      <td>7.22</td>\n",
              "    </tr>\n",
              "    <tr>\n",
              "      <th>50%</th>\n",
              "      <td>899999061.00</td>\n",
              "      <td>2019.00</td>\n",
              "      <td>38356920.00</td>\n",
              "      <td>7.58</td>\n",
              "    </tr>\n",
              "    <tr>\n",
              "      <th>75%</th>\n",
              "      <td>8999990619.00</td>\n",
              "      <td>2019.00</td>\n",
              "      <td>79213097.00</td>\n",
              "      <td>7.90</td>\n",
              "    </tr>\n",
              "    <tr>\n",
              "      <th>max</th>\n",
              "      <td>8999990619.00</td>\n",
              "      <td>2019.00</td>\n",
              "      <td>17125271252.00</td>\n",
              "      <td>10.23</td>\n",
              "    </tr>\n",
              "  </tbody>\n",
              "</table>\n",
              "</div>\n",
              "      <button class=\"colab-df-convert\" onclick=\"convertToInteractive('df-1be6b9d2-6c4d-42d3-b30b-ec3d3bbfae48')\"\n",
              "              title=\"Convert this dataframe to an interactive table.\"\n",
              "              style=\"display:none;\">\n",
              "\n",
              "  <svg xmlns=\"http://www.w3.org/2000/svg\" height=\"24px\"viewBox=\"0 0 24 24\"\n",
              "       width=\"24px\">\n",
              "    <path d=\"M0 0h24v24H0V0z\" fill=\"none\"/>\n",
              "    <path d=\"M18.56 5.44l.94 2.06.94-2.06 2.06-.94-2.06-.94-.94-2.06-.94 2.06-2.06.94zm-11 1L8.5 8.5l.94-2.06 2.06-.94-2.06-.94L8.5 2.5l-.94 2.06-2.06.94zm10 10l.94 2.06.94-2.06 2.06-.94-2.06-.94-.94-2.06-.94 2.06-2.06.94z\"/><path d=\"M17.41 7.96l-1.37-1.37c-.4-.4-.92-.59-1.43-.59-.52 0-1.04.2-1.43.59L10.3 9.45l-7.72 7.72c-.78.78-.78 2.05 0 2.83L4 21.41c.39.39.9.59 1.41.59.51 0 1.02-.2 1.41-.59l7.78-7.78 2.81-2.81c.8-.78.8-2.07 0-2.86zM5.41 20L4 18.59l7.72-7.72 1.47 1.35L5.41 20z\"/>\n",
              "  </svg>\n",
              "      </button>\n",
              "\n",
              "\n",
              "\n",
              "    <div id=\"df-1bbf6053-210c-4c2a-85e4-cca9da28853e\">\n",
              "      <button class=\"colab-df-quickchart\" onclick=\"quickchart('df-1bbf6053-210c-4c2a-85e4-cca9da28853e')\"\n",
              "              title=\"Suggest charts.\"\n",
              "              style=\"display:none;\">\n",
              "\n",
              "<svg xmlns=\"http://www.w3.org/2000/svg\" height=\"24px\"viewBox=\"0 0 24 24\"\n",
              "     width=\"24px\">\n",
              "    <g>\n",
              "        <path d=\"M19 3H5c-1.1 0-2 .9-2 2v14c0 1.1.9 2 2 2h14c1.1 0 2-.9 2-2V5c0-1.1-.9-2-2-2zM9 17H7v-7h2v7zm4 0h-2V7h2v10zm4 0h-2v-4h2v4z\"/>\n",
              "    </g>\n",
              "</svg>\n",
              "      </button>\n",
              "    </div>\n",
              "\n",
              "<style>\n",
              "  .colab-df-quickchart {\n",
              "    background-color: #E8F0FE;\n",
              "    border: none;\n",
              "    border-radius: 50%;\n",
              "    cursor: pointer;\n",
              "    display: none;\n",
              "    fill: #1967D2;\n",
              "    height: 32px;\n",
              "    padding: 0 0 0 0;\n",
              "    width: 32px;\n",
              "  }\n",
              "\n",
              "  .colab-df-quickchart:hover {\n",
              "    background-color: #E2EBFA;\n",
              "    box-shadow: 0px 1px 2px rgba(60, 64, 67, 0.3), 0px 1px 3px 1px rgba(60, 64, 67, 0.15);\n",
              "    fill: #174EA6;\n",
              "  }\n",
              "\n",
              "  [theme=dark] .colab-df-quickchart {\n",
              "    background-color: #3B4455;\n",
              "    fill: #D2E3FC;\n",
              "  }\n",
              "\n",
              "  [theme=dark] .colab-df-quickchart:hover {\n",
              "    background-color: #434B5C;\n",
              "    box-shadow: 0px 1px 3px 1px rgba(0, 0, 0, 0.15);\n",
              "    filter: drop-shadow(0px 1px 2px rgba(0, 0, 0, 0.3));\n",
              "    fill: #FFFFFF;\n",
              "  }\n",
              "</style>\n",
              "\n",
              "    <script>\n",
              "      async function quickchart(key) {\n",
              "        const containerElement = document.querySelector('#' + key);\n",
              "        const charts = await google.colab.kernel.invokeFunction(\n",
              "            'suggestCharts', [key], {});\n",
              "      }\n",
              "    </script>\n",
              "\n",
              "      <script>\n",
              "\n",
              "function displayQuickchartButton(domScope) {\n",
              "  let quickchartButtonEl =\n",
              "    domScope.querySelector('#df-1bbf6053-210c-4c2a-85e4-cca9da28853e button.colab-df-quickchart');\n",
              "  quickchartButtonEl.style.display =\n",
              "    google.colab.kernel.accessAllowed ? 'block' : 'none';\n",
              "}\n",
              "\n",
              "        displayQuickchartButton(document);\n",
              "      </script>\n",
              "      <style>\n",
              "    .colab-df-container {\n",
              "      display:flex;\n",
              "      flex-wrap:wrap;\n",
              "      gap: 12px;\n",
              "    }\n",
              "\n",
              "    .colab-df-convert {\n",
              "      background-color: #E8F0FE;\n",
              "      border: none;\n",
              "      border-radius: 50%;\n",
              "      cursor: pointer;\n",
              "      display: none;\n",
              "      fill: #1967D2;\n",
              "      height: 32px;\n",
              "      padding: 0 0 0 0;\n",
              "      width: 32px;\n",
              "    }\n",
              "\n",
              "    .colab-df-convert:hover {\n",
              "      background-color: #E2EBFA;\n",
              "      box-shadow: 0px 1px 2px rgba(60, 64, 67, 0.3), 0px 1px 3px 1px rgba(60, 64, 67, 0.15);\n",
              "      fill: #174EA6;\n",
              "    }\n",
              "\n",
              "    [theme=dark] .colab-df-convert {\n",
              "      background-color: #3B4455;\n",
              "      fill: #D2E3FC;\n",
              "    }\n",
              "\n",
              "    [theme=dark] .colab-df-convert:hover {\n",
              "      background-color: #434B5C;\n",
              "      box-shadow: 0px 1px 3px 1px rgba(0, 0, 0, 0.15);\n",
              "      filter: drop-shadow(0px 1px 2px rgba(0, 0, 0, 0.3));\n",
              "      fill: #FFFFFF;\n",
              "    }\n",
              "  </style>\n",
              "\n",
              "      <script>\n",
              "        const buttonEl =\n",
              "          document.querySelector('#df-1be6b9d2-6c4d-42d3-b30b-ec3d3bbfae48 button.colab-df-convert');\n",
              "        buttonEl.style.display =\n",
              "          google.colab.kernel.accessAllowed ? 'block' : 'none';\n",
              "\n",
              "        async function convertToInteractive(key) {\n",
              "          const element = document.querySelector('#df-1be6b9d2-6c4d-42d3-b30b-ec3d3bbfae48');\n",
              "          const dataTable =\n",
              "            await google.colab.kernel.invokeFunction('convertToInteractive',\n",
              "                                                     [key], {});\n",
              "          if (!dataTable) return;\n",
              "\n",
              "          const docLinkHtml = 'Like what you see? Visit the ' +\n",
              "            '<a target=\"_blank\" href=https://colab.research.google.com/notebooks/data_table.ipynb>data table notebook</a>'\n",
              "            + ' to learn more about interactive tables.';\n",
              "          element.innerHTML = '';\n",
              "          dataTable['output_type'] = 'display_data';\n",
              "          await google.colab.output.renderOutput(dataTable, element);\n",
              "          const docLink = document.createElement('div');\n",
              "          docLink.innerHTML = docLinkHtml;\n",
              "          element.appendChild(docLink);\n",
              "        }\n",
              "      </script>\n",
              "    </div>\n",
              "  </div>\n"
            ]
          },
          "metadata": {},
          "execution_count": 102
        }
      ],
      "source": [
        "df.describe()"
      ]
    },
    {
      "cell_type": "markdown",
      "metadata": {
        "id": "aGkkZ71Yz_hM"
      },
      "source": [
        "**Analicemos**\n",
        "\n",
        "Aunque los otros valores son cargados como tipo númerico no son objeto de análisis de medidas de tendencia central, esto dado que, son identificadores y años.\n",
        "\n",
        "El valor promedio de los contratos que realiza la alcaldia de Bogotá es de 175.398 millones de pesos.  De manera análoga el percentil 50 o el 50% de los datos de los valores del contrato se encuentran por encima de $38.357 millones de pesos.\n",
        "\n",
        "Existe uno o varios contratos con valor 0 y existe uno o varios contratos que superan el valor de $17,125.27 miles de millones de pesos.\n",
        "\n",
        "Los datos se encuentran dispersos con relación a la media en aproximadamente 977 millones de pesos.\n"
      ]
    },
    {
      "cell_type": "markdown",
      "metadata": {
        "id": "dkBQtZW-1JPI"
      },
      "source": [
        "**¿Que más puede decir del valor del contrato?**"
      ]
    },
    {
      "cell_type": "markdown",
      "metadata": {
        "id": "z7PfB_fpq88D"
      },
      "source": [
        "Los datos representan un total de 1359 contratos entre los años 2017 y 2019. El valor de la desviación estándar representa la variabilidad de los datos. En este caso, un valor alto de este parámetro indica una dispersión grande de los datos con respecto a la media.\n",
        "\n",
        "Teniendo en cuenta que los datos están dispersos con respecto a la media, también se pueden observar valores atípicos. Por ende, se puede predecir que la distribución de los datos no es normal."
      ]
    },
    {
      "cell_type": "markdown",
      "metadata": {
        "id": "QJWoUp6Lq_PB"
      },
      "source": [
        "**Histograma de la variable Valor del contrato**"
      ]
    },
    {
      "cell_type": "code",
      "execution_count": null,
      "metadata": {
        "id": "1cK4M8K03qpN",
        "colab": {
          "base_uri": "https://localhost:8080/",
          "height": 472
        },
        "outputId": "a24fc0fb-11e1-4bac-a848-754054d0fb05"
      },
      "outputs": [
        {
          "output_type": "display_data",
          "data": {
            "text/plain": [
              "<Figure size 640x480 with 1 Axes>"
            ],
            "image/png": "[encoded data removed]"
          },
          "metadata": {}
        }
      ],
      "source": [
        "# Crea un histograma de la variable_numerica con seaborn\n",
        "sns.histplot(df['Valor del Contrato'], kde=False)\n",
        "\n",
        "# Agrega un título y etiquetas a los ejes\n",
        "plt.title('Histograma de variable_numerica')\n",
        "plt.xlabel('Valor')\n",
        "plt.ylabel('Frecuencia')\n",
        "\n",
        "# Muestra el histograma\n",
        "plt.show()"
      ]
    },
    {
      "cell_type": "markdown",
      "metadata": {
        "id": "jmz8Ndp4rEyg"
      },
      "source": [
        "**Histograma de la variable Valor del contrato, Logaritmo base 10**"
      ]
    },
    {
      "cell_type": "code",
      "execution_count": null,
      "metadata": {
        "colab": {
          "base_uri": "https://localhost:8080/",
          "height": 472
        },
        "id": "lhWN25vbAv4N",
        "outputId": "8091b45c-aa5e-4ccd-f07b-95e450efea11"
      },
      "outputs": [
        {
          "output_type": "display_data",
          "data": {
            "text/plain": [
              "<Figure size 640x480 with 1 Axes>"
            ],
            "image/png": "[encoded data removed]"
          },
          "metadata": {}
        }
      ],
      "source": [
        "# Extraemos el logaritmo en base 10 al valor del contrato\n",
        "df['log_variable'] = np.log10(df['Valor del Contrato']+1)\n",
        "sns.histplot(df['log_variable'], kde=False)\n",
        "\n",
        "# Agrega un título y etiquetas a los ejes\n",
        "plt.title('Histograma del monto de contratos, logaritmo en base 10')\n",
        "plt.xlabel('Valor')\n",
        "plt.ylabel('Frecuencia')\n",
        "\n",
        "# Muestra el histograma\n",
        "plt.show()"
      ]
    },
    {
      "cell_type": "markdown",
      "metadata": {
        "id": "VfXBFVzK3sP1"
      },
      "source": [
        "**Con la gráfica anterior, ¿lo puede asociar a alguna distribución conocida en clase?**"
      ]
    },
    {
      "cell_type": "markdown",
      "metadata": {
        "id": "KjTcIQA4rM9l"
      },
      "source": [
        "La distribución representada es asimétrica sesgada a la izquierda debido a los valores de contratos iguales a 0. El sesgo negativo se debe a que los valores extremadamente bajos, en este caso los contratos con valor cero, están desplazando la media hacia la izquierda.\n",
        "\n",
        "Este tipo de sesgo puede tener un impacto significativo en el análisis de datos y en la interpretación de resultados. Es importante considerar la presencia de estos valores atípicos, ya que pueden afectar las conclusiones que se extraen de los datos y las decisiones basadas en ellos. Dependiendo del contexto, es posible que sea necesario tomar medidas para abordar los valores atípicos o considerar métodos estadísticos robustos que sean menos sensibles a la presencia de estos datos extremadamente bajos."
      ]
    },
    {
      "cell_type": "markdown",
      "metadata": {
        "id": "UkKp4VUNo38D"
      },
      "source": [
        "**Descripción de las variables categóricas**"
      ]
    },
    {
      "cell_type": "code",
      "execution_count": null,
      "metadata": {
        "colab": {
          "base_uri": "https://localhost:8080/",
          "height": 407
        },
        "id": "39OIyiqy4DIO",
        "outputId": "86459191-eb7f-4ae7-b27e-6de16ad0b5fc"
      },
      "outputs": [
        {
          "output_type": "execute_result",
          "data": {
            "text/plain": [
              "                                           Nombre Entidad  \\\n",
              "count                                                1359   \n",
              "unique                                                  2   \n",
              "top     SECRETARÍA GENERAL DE LA ALCALDÍA MAYOR DE BOGOTÁ   \n",
              "freq                                                  925   \n",
              "\n",
              "                      Departamento              Localización        Orden  \\\n",
              "count                         1359                      1359         1359   \n",
              "unique                           1                         1            1   \n",
              "top     Distrito Capital de Bogotá  Colombia, Bogotá, Bogotá  Territorial   \n",
              "freq                          1359                      1359         1359   \n",
              "\n",
              "                  Sector Proceso de Compra        ID Contrato  \\\n",
              "count               1359              1359               1359   \n",
              "unique                 2              1324               1359   \n",
              "top     Servicio Público   CO1.BDOS.497222  CO1.PCCNTR.199403   \n",
              "freq                 925                 8                  1   \n",
              "\n",
              "       Referencia del Contrato Estado Contrato Codigo de Categoria Principal  \\\n",
              "count                     1359            1359                          1359   \n",
              "unique                    1357               6                           256   \n",
              "top           4120000-393-2019      Modificado                   V1.80111620   \n",
              "freq                         2             792                           212   \n",
              "\n",
              "        ... Justificacion Modalidad de Contratacion      TipoDocProveedor  \\\n",
              "count   ...                                    1359                  1359   \n",
              "unique  ...                                      16                     4   \n",
              "top     ...                  ServiciosProfesionales  Cédula de Ciudadanía   \n",
              "freq    ...                                     977                   978   \n",
              "\n",
              "       Documento Proveedor                               Proveedor Adjudicado  \\\n",
              "count                 1359                                               1359   \n",
              "unique                1070                                               1088   \n",
              "top            No Definido  Empresa de Telecomunicaciones de Bogota ETB SA...   \n",
              "freq                    18                                                  7   \n",
              "\n",
              "       Es Grupo Es Pyme Nombre Representante Legal  \\\n",
              "count      1359    1359                       1359   \n",
              "unique        2       2                       1049   \n",
              "top          No      No            Sin Descripcion   \n",
              "freq       1336    1090                         51   \n",
              "\n",
              "       Tipo de Identificación Representante Legal  \\\n",
              "count                                        1359   \n",
              "unique                                          2   \n",
              "top                               Sin Descripcion   \n",
              "freq                                         1354   \n",
              "\n",
              "       Identificación Representante Legal Género Representante Legal  \n",
              "count                                1359                       1359  \n",
              "unique                               1033                          2  \n",
              "top                       Sin Descripcion                No Definido  \n",
              "freq                                   75                       1354  \n",
              "\n",
              "[4 rows x 23 columns]"
            ],
            "text/html": [
              "\n",
              "\n",
              "  <div id=\"df-88cdd890-8cdc-4666-8f91-dfbce2ba0522\">\n",
              "    <div class=\"colab-df-container\">\n",
              "      <div>\n",
              "<style scoped>\n",
              "    .dataframe tbody tr th:only-of-type {\n",
              "        vertical-align: middle;\n",
              "    }\n",
              "\n",
              "    .dataframe tbody tr th {\n",
              "        vertical-align: top;\n",
              "    }\n",
              "\n",
              "    .dataframe thead th {\n",
              "        text-align: right;\n",
              "    }\n",
              "</style>\n",
              "<table border=\"1\" class=\"dataframe\">\n",
              "  <thead>\n",
              "    <tr style=\"text-align: right;\">\n",
              "      <th></th>\n",
              "      <th>Nombre Entidad</th>\n",
              "      <th>Departamento</th>\n",
              "      <th>Localización</th>\n",
              "      <th>Orden</th>\n",
              "      <th>Sector</th>\n",
              "      <th>Proceso de Compra</th>\n",
              "      <th>ID Contrato</th>\n",
              "      <th>Referencia del Contrato</th>\n",
              "      <th>Estado Contrato</th>\n",
              "      <th>Codigo de Categoria Principal</th>\n",
              "      <th>...</th>\n",
              "      <th>Justificacion Modalidad de Contratacion</th>\n",
              "      <th>TipoDocProveedor</th>\n",
              "      <th>Documento Proveedor</th>\n",
              "      <th>Proveedor Adjudicado</th>\n",
              "      <th>Es Grupo</th>\n",
              "      <th>Es Pyme</th>\n",
              "      <th>Nombre Representante Legal</th>\n",
              "      <th>Tipo de Identificación Representante Legal</th>\n",
              "      <th>Identificación Representante Legal</th>\n",
              "      <th>Género Representante Legal</th>\n",
              "    </tr>\n",
              "  </thead>\n",
              "  <tbody>\n",
              "    <tr>\n",
              "      <th>count</th>\n",
              "      <td>1359</td>\n",
              "      <td>1359</td>\n",
              "      <td>1359</td>\n",
              "      <td>1359</td>\n",
              "      <td>1359</td>\n",
              "      <td>1359</td>\n",
              "      <td>1359</td>\n",
              "      <td>1359</td>\n",
              "      <td>1359</td>\n",
              "      <td>1359</td>\n",
              "      <td>...</td>\n",
              "      <td>1359</td>\n",
              "      <td>1359</td>\n",
              "      <td>1359</td>\n",
              "      <td>1359</td>\n",
              "      <td>1359</td>\n",
              "      <td>1359</td>\n",
              "      <td>1359</td>\n",
              "      <td>1359</td>\n",
              "      <td>1359</td>\n",
              "      <td>1359</td>\n",
              "    </tr>\n",
              "    <tr>\n",
              "      <th>unique</th>\n",
              "      <td>2</td>\n",
              "      <td>1</td>\n",
              "      <td>1</td>\n",
              "      <td>1</td>\n",
              "      <td>2</td>\n",
              "      <td>1324</td>\n",
              "      <td>1359</td>\n",
              "      <td>1357</td>\n",
              "      <td>6</td>\n",
              "      <td>256</td>\n",
              "      <td>...</td>\n",
              "      <td>16</td>\n",
              "      <td>4</td>\n",
              "      <td>1070</td>\n",
              "      <td>1088</td>\n",
              "      <td>2</td>\n",
              "      <td>2</td>\n",
              "      <td>1049</td>\n",
              "      <td>2</td>\n",
              "      <td>1033</td>\n",
              "      <td>2</td>\n",
              "    </tr>\n",
              "    <tr>\n",
              "      <th>top</th>\n",
              "      <td>SECRETARÍA GENERAL DE LA ALCALDÍA MAYOR DE BOGOTÁ</td>\n",
              "      <td>Distrito Capital de Bogotá</td>\n",
              "      <td>Colombia, Bogotá, Bogotá</td>\n",
              "      <td>Territorial</td>\n",
              "      <td>Servicio Público</td>\n",
              "      <td>CO1.BDOS.497222</td>\n",
              "      <td>CO1.PCCNTR.199403</td>\n",
              "      <td>4120000-393-2019</td>\n",
              "      <td>Modificado</td>\n",
              "      <td>V1.80111620</td>\n",
              "      <td>...</td>\n",
              "      <td>ServiciosProfesionales</td>\n",
              "      <td>Cédula de Ciudadanía</td>\n",
              "      <td>No Definido</td>\n",
              "      <td>Empresa de Telecomunicaciones de Bogota ETB SA...</td>\n",
              "      <td>No</td>\n",
              "      <td>No</td>\n",
              "      <td>Sin Descripcion</td>\n",
              "      <td>Sin Descripcion</td>\n",
              "      <td>Sin Descripcion</td>\n",
              "      <td>No Definido</td>\n",
              "    </tr>\n",
              "    <tr>\n",
              "      <th>freq</th>\n",
              "      <td>925</td>\n",
              "      <td>1359</td>\n",
              "      <td>1359</td>\n",
              "      <td>1359</td>\n",
              "      <td>925</td>\n",
              "      <td>8</td>\n",
              "      <td>1</td>\n",
              "      <td>2</td>\n",
              "      <td>792</td>\n",
              "      <td>212</td>\n",
              "      <td>...</td>\n",
              "      <td>977</td>\n",
              "      <td>978</td>\n",
              "      <td>18</td>\n",
              "      <td>7</td>\n",
              "      <td>1336</td>\n",
              "      <td>1090</td>\n",
              "      <td>51</td>\n",
              "      <td>1354</td>\n",
              "      <td>75</td>\n",
              "      <td>1354</td>\n",
              "    </tr>\n",
              "  </tbody>\n",
              "</table>\n",
              "<p>4 rows × 23 columns</p>\n",
              "</div>\n",
              "      <button class=\"colab-df-convert\" onclick=\"convertToInteractive('df-88cdd890-8cdc-4666-8f91-dfbce2ba0522')\"\n",
              "              title=\"Convert this dataframe to an interactive table.\"\n",
              "              style=\"display:none;\">\n",
              "\n",
              "  <svg xmlns=\"http://www.w3.org/2000/svg\" height=\"24px\"viewBox=\"0 0 24 24\"\n",
              "       width=\"24px\">\n",
              "    <path d=\"M0 0h24v24H0V0z\" fill=\"none\"/>\n",
              "    <path d=\"M18.56 5.44l.94 2.06.94-2.06 2.06-.94-2.06-.94-.94-2.06-.94 2.06-2.06.94zm-11 1L8.5 8.5l.94-2.06 2.06-.94-2.06-.94L8.5 2.5l-.94 2.06-2.06.94zm10 10l.94 2.06.94-2.06 2.06-.94-2.06-.94-.94-2.06-.94 2.06-2.06.94z\"/><path d=\"M17.41 7.96l-1.37-1.37c-.4-.4-.92-.59-1.43-.59-.52 0-1.04.2-1.43.59L10.3 9.45l-7.72 7.72c-.78.78-.78 2.05 0 2.83L4 21.41c.39.39.9.59 1.41.59.51 0 1.02-.2 1.41-.59l7.78-7.78 2.81-2.81c.8-.78.8-2.07 0-2.86zM5.41 20L4 18.59l7.72-7.72 1.47 1.35L5.41 20z\"/>\n",
              "  </svg>\n",
              "      </button>\n",
              "\n",
              "\n",
              "\n",
              "    <div id=\"df-6c1343b6-d704-4b92-933f-f6e146a34ae7\">\n",
              "      <button class=\"colab-df-quickchart\" onclick=\"quickchart('df-6c1343b6-d704-4b92-933f-f6e146a34ae7')\"\n",
              "              title=\"Suggest charts.\"\n",
              "              style=\"display:none;\">\n",
              "\n",
              "<svg xmlns=\"http://www.w3.org/2000/svg\" height=\"24px\"viewBox=\"0 0 24 24\"\n",
              "     width=\"24px\">\n",
              "    <g>\n",
              "        <path d=\"M19 3H5c-1.1 0-2 .9-2 2v14c0 1.1.9 2 2 2h14c1.1 0 2-.9 2-2V5c0-1.1-.9-2-2-2zM9 17H7v-7h2v7zm4 0h-2V7h2v10zm4 0h-2v-4h2v4z\"/>\n",
              "    </g>\n",
              "</svg>\n",
              "      </button>\n",
              "    </div>\n",
              "\n",
              "<style>\n",
              "  .colab-df-quickchart {\n",
              "    background-color: #E8F0FE;\n",
              "    border: none;\n",
              "    border-radius: 50%;\n",
              "    cursor: pointer;\n",
              "    display: none;\n",
              "    fill: #1967D2;\n",
              "    height: 32px;\n",
              "    padding: 0 0 0 0;\n",
              "    width: 32px;\n",
              "  }\n",
              "\n",
              "  .colab-df-quickchart:hover {\n",
              "    background-color: #E2EBFA;\n",
              "    box-shadow: 0px 1px 2px rgba(60, 64, 67, 0.3), 0px 1px 3px 1px rgba(60, 64, 67, 0.15);\n",
              "    fill: #174EA6;\n",
              "  }\n",
              "\n",
              "  [theme=dark] .colab-df-quickchart {\n",
              "    background-color: #3B4455;\n",
              "    fill: #D2E3FC;\n",
              "  }\n",
              "\n",
              "  [theme=dark] .colab-df-quickchart:hover {\n",
              "    background-color: #434B5C;\n",
              "    box-shadow: 0px 1px 3px 1px rgba(0, 0, 0, 0.15);\n",
              "    filter: drop-shadow(0px 1px 2px rgba(0, 0, 0, 0.3));\n",
              "    fill: #FFFFFF;\n",
              "  }\n",
              "</style>\n",
              "\n",
              "    <script>\n",
              "      async function quickchart(key) {\n",
              "        const containerElement = document.querySelector('#' + key);\n",
              "        const charts = await google.colab.kernel.invokeFunction(\n",
              "            'suggestCharts', [key], {});\n",
              "      }\n",
              "    </script>\n",
              "\n",
              "      <script>\n",
              "\n",
              "function displayQuickchartButton(domScope) {\n",
              "  let quickchartButtonEl =\n",
              "    domScope.querySelector('#df-6c1343b6-d704-4b92-933f-f6e146a34ae7 button.colab-df-quickchart');\n",
              "  quickchartButtonEl.style.display =\n",
              "    google.colab.kernel.accessAllowed ? 'block' : 'none';\n",
              "}\n",
              "\n",
              "        displayQuickchartButton(document);\n",
              "      </script>\n",
              "      <style>\n",
              "    .colab-df-container {\n",
              "      display:flex;\n",
              "      flex-wrap:wrap;\n",
              "      gap: 12px;\n",
              "    }\n",
              "\n",
              "    .colab-df-convert {\n",
              "      background-color: #E8F0FE;\n",
              "      border: none;\n",
              "      border-radius: 50%;\n",
              "      cursor: pointer;\n",
              "      display: none;\n",
              "      fill: #1967D2;\n",
              "      height: 32px;\n",
              "      padding: 0 0 0 0;\n",
              "      width: 32px;\n",
              "    }\n",
              "\n",
              "    .colab-df-convert:hover {\n",
              "      background-color: #E2EBFA;\n",
              "      box-shadow: 0px 1px 2px rgba(60, 64, 67, 0.3), 0px 1px 3px 1px rgba(60, 64, 67, 0.15);\n",
              "      fill: #174EA6;\n",
              "    }\n",
              "\n",
              "    [theme=dark] .colab-df-convert {\n",
              "      background-color: #3B4455;\n",
              "      fill: #D2E3FC;\n",
              "    }\n",
              "\n",
              "    [theme=dark] .colab-df-convert:hover {\n",
              "      background-color: #434B5C;\n",
              "      box-shadow: 0px 1px 3px 1px rgba(0, 0, 0, 0.15);\n",
              "      filter: drop-shadow(0px 1px 2px rgba(0, 0, 0, 0.3));\n",
              "      fill: #FFFFFF;\n",
              "    }\n",
              "  </style>\n",
              "\n",
              "      <script>\n",
              "        const buttonEl =\n",
              "          document.querySelector('#df-88cdd890-8cdc-4666-8f91-dfbce2ba0522 button.colab-df-convert');\n",
              "        buttonEl.style.display =\n",
              "          google.colab.kernel.accessAllowed ? 'block' : 'none';\n",
              "\n",
              "        async function convertToInteractive(key) {\n",
              "          const element = document.querySelector('#df-88cdd890-8cdc-4666-8f91-dfbce2ba0522');\n",
              "          const dataTable =\n",
              "            await google.colab.kernel.invokeFunction('convertToInteractive',\n",
              "                                                     [key], {});\n",
              "          if (!dataTable) return;\n",
              "\n",
              "          const docLinkHtml = 'Like what you see? Visit the ' +\n",
              "            '<a target=\"_blank\" href=https://colab.research.google.com/notebooks/data_table.ipynb>data table notebook</a>'\n",
              "            + ' to learn more about interactive tables.';\n",
              "          element.innerHTML = '';\n",
              "          dataTable['output_type'] = 'display_data';\n",
              "          await google.colab.output.renderOutput(dataTable, element);\n",
              "          const docLink = document.createElement('div');\n",
              "          docLink.innerHTML = docLinkHtml;\n",
              "          element.appendChild(docLink);\n",
              "        }\n",
              "      </script>\n",
              "    </div>\n",
              "  </div>\n"
            ]
          },
          "metadata": {},
          "execution_count": 22
        }
      ],
      "source": [
        "df.describe(include=[\"O\"])"
      ]
    },
    {
      "cell_type": "markdown",
      "metadata": {
        "id": "DU_Xu27IvRT-"
      },
      "source": [
        "**Recuerde que con df.value_counts() puede generar distribuciones de las variables**"
      ]
    },
    {
      "cell_type": "code",
      "execution_count": null,
      "metadata": {
        "colab": {
          "base_uri": "https://localhost:8080/"
        },
        "id": "qrr_6I2Yvixq",
        "outputId": "1dce3283-48cf-4f25-9257-f27c725d2ada"
      },
      "outputs": [
        {
          "output_type": "execute_result",
          "data": {
            "text/plain": [
              "No    1090\n",
              "Si     269\n",
              "Name: Es Pyme, dtype: int64"
            ]
          },
          "metadata": {},
          "execution_count": 23
        }
      ],
      "source": [
        "df['Es Pyme'].value_counts() # Puede probar las distribuciones por otras variables"
      ]
    },
    {
      "cell_type": "code",
      "source": [
        "# Frecuencia (% de participación)\n",
        "df['Es Pyme'].value_counts()/len(df)*100"
      ],
      "metadata": {
        "colab": {
          "base_uri": "https://localhost:8080/"
        },
        "id": "oOHXvsnhL3CY",
        "outputId": "35481943-9697-490d-90ac-a823e39b3561"
      },
      "execution_count": null,
      "outputs": [
        {
          "output_type": "execute_result",
          "data": {
            "text/plain": [
              "No   80.21\n",
              "Si   19.79\n",
              "Name: Es Pyme, dtype: float64"
            ]
          },
          "metadata": {},
          "execution_count": 89
        }
      ]
    },
    {
      "cell_type": "code",
      "source": [
        "df['Es Grupo'].value_counts() # Puede probar las distribuciones por otras variables"
      ],
      "metadata": {
        "colab": {
          "base_uri": "https://localhost:8080/"
        },
        "id": "RLYuAa5-vr48",
        "outputId": "07f303e5-2405-4c75-8cdd-591b15ef374f"
      },
      "execution_count": null,
      "outputs": [
        {
          "output_type": "execute_result",
          "data": {
            "text/plain": [
              "No    1336\n",
              "Si      23\n",
              "Name: Es Grupo, dtype: int64"
            ]
          },
          "metadata": {},
          "execution_count": 35
        }
      ]
    },
    {
      "cell_type": "code",
      "source": [
        "# Frecuencia (% de participación)\n",
        "df['Es Grupo'].value_counts()/len(df)*100"
      ],
      "metadata": {
        "colab": {
          "base_uri": "https://localhost:8080/"
        },
        "id": "8ypcjZX7v2Y9",
        "outputId": "a94e8e17-5ae7-41f5-e9ee-21d500d089c6"
      },
      "execution_count": null,
      "outputs": [
        {
          "output_type": "execute_result",
          "data": {
            "text/plain": [
              "No   98.31\n",
              "Si    1.69\n",
              "Name: Es Grupo, dtype: float64"
            ]
          },
          "metadata": {},
          "execution_count": 36
        }
      ]
    },
    {
      "cell_type": "code",
      "execution_count": null,
      "metadata": {
        "id": "xGMrDKE0vtaC"
      },
      "outputs": [],
      "source": []
    },
    {
      "cell_type": "markdown",
      "metadata": {
        "id": "xoxKKDi_pk9p"
      },
      "source": [
        "**Para poder ver variables de interés puede modificar o incluir las variables dentro del corchete cuadrado**"
      ]
    },
    {
      "cell_type": "code",
      "execution_count": null,
      "metadata": {
        "id": "2AemJm99bT7a",
        "colab": {
          "base_uri": "https://localhost:8080/"
        },
        "outputId": "52ab0e1c-81ce-40a1-c132-10649b3e9e93"
      },
      "outputs": [
        {
          "output_type": "stream",
          "name": "stdout",
          "text": [
            "                  Sector Estado Contrato         Tipo de Contrato\n",
            "count               1359            1359                     1359\n",
            "unique                 2               6                       11\n",
            "top     Servicio Público      Modificado  Prestación de servicios\n",
            "freq                 925             792                     1082\n"
          ]
        }
      ],
      "source": [
        "df_describe = df[['Sector','Estado Contrato','Tipo de Contrato']].describe(include='O')\n",
        "print(df_describe)"
      ]
    },
    {
      "cell_type": "code",
      "source": [
        "df['Sector'].value_counts()"
      ],
      "metadata": {
        "colab": {
          "base_uri": "https://localhost:8080/"
        },
        "id": "BAP0I2sD2Ihu",
        "outputId": "d1f466ae-a75a-47da-b802-c9c8e1ded0d6"
      },
      "execution_count": null,
      "outputs": [
        {
          "output_type": "execute_result",
          "data": {
            "text/plain": [
              "No    98.307579\n",
              "Si     1.692421\n",
              "Name: Es Grupo, dtype: float64"
            ]
          },
          "metadata": {},
          "execution_count": 22
        }
      ]
    },
    {
      "cell_type": "code",
      "source": [
        "df['Sector'].value_counts()/len(df)*100"
      ],
      "metadata": {
        "colab": {
          "base_uri": "https://localhost:8080/"
        },
        "id": "43PXm2vPgtzy",
        "outputId": "e696dccc-46be-49b7-f2d8-8a2c3ec136e0"
      },
      "execution_count": null,
      "outputs": [
        {
          "output_type": "execute_result",
          "data": {
            "text/plain": [
              "Servicio Público    68.064753\n",
              "Industria           31.935247\n",
              "Name: Sector, dtype: float64"
            ]
          },
          "metadata": {},
          "execution_count": 23
        }
      ]
    },
    {
      "cell_type": "code",
      "source": [
        "df['Tipo de Contrato'].value_counts()"
      ],
      "metadata": {
        "colab": {
          "base_uri": "https://localhost:8080/"
        },
        "id": "1fcXYYyyGT5s",
        "outputId": "2c8dc82e-3130-45bc-9aea-70d4383a2b2f"
      },
      "execution_count": null,
      "outputs": [
        {
          "output_type": "execute_result",
          "data": {
            "text/plain": [
              "Prestación de servicios       1082\n",
              "Compraventa                     93\n",
              "Otro                            85\n",
              "Consultoría                     31\n",
              "Suministros                     26\n",
              "Arrendamiento de inmuebles      23\n",
              "Obra                             7\n",
              "Interventoría                    7\n",
              "Seguros                          3\n",
              "Acuerdo de cooperación           1\n",
              "Comisión                         1\n",
              "Name: Tipo de Contrato, dtype: int64"
            ]
          },
          "metadata": {},
          "execution_count": 84
        }
      ]
    },
    {
      "cell_type": "code",
      "source": [
        "df['Tipo de Contrato'].value_counts()/len(df)*100"
      ],
      "metadata": {
        "colab": {
          "base_uri": "https://localhost:8080/"
        },
        "id": "z3YFfyZLkpH5",
        "outputId": "c0a10d98-0b75-4e4b-cc21-f9f420a60ed7"
      },
      "execution_count": null,
      "outputs": [
        {
          "output_type": "execute_result",
          "data": {
            "text/plain": [
              "Prestación de servicios       79.617366\n",
              "Compraventa                    6.843267\n",
              "Otro                           6.254599\n",
              "Consultoría                    2.281089\n",
              "Suministros                    1.913171\n",
              "Arrendamiento de inmuebles     1.692421\n",
              "Obra                           0.515085\n",
              "Interventoría                  0.515085\n",
              "Seguros                        0.220751\n",
              "Acuerdo de cooperación         0.073584\n",
              "Comisión                       0.073584\n",
              "Name: Tipo de Contrato, dtype: float64"
            ]
          },
          "metadata": {},
          "execution_count": 32
        }
      ]
    },
    {
      "cell_type": "code",
      "source": [
        "df['Estado Contrato'].value_counts()"
      ],
      "metadata": {
        "colab": {
          "base_uri": "https://localhost:8080/"
        },
        "id": "Zo1-nYpWardz",
        "outputId": "3521d8bd-cb37-4410-fe1c-8908b758f1f5"
      },
      "execution_count": null,
      "outputs": [
        {
          "output_type": "execute_result",
          "data": {
            "text/plain": [
              "Modificado    792\n",
              "Activo        290\n",
              "terminado     214\n",
              "Cerrado        44\n",
              "cedido         17\n",
              "Suspendido      2\n",
              "Name: Estado Contrato, dtype: int64"
            ]
          },
          "metadata": {},
          "execution_count": 19
        }
      ]
    },
    {
      "cell_type": "code",
      "source": [
        "df['Estado Contrato'].value_counts()/len(df)*100"
      ],
      "metadata": {
        "colab": {
          "base_uri": "https://localhost:8080/"
        },
        "id": "GJYWrpwvkwv7",
        "outputId": "007510cd-daa1-4212-b85a-ecf98e297bfd"
      },
      "execution_count": null,
      "outputs": [
        {
          "output_type": "execute_result",
          "data": {
            "text/plain": [
              "Modificado    58.278146\n",
              "Activo        21.339220\n",
              "terminado     15.746873\n",
              "Cerrado        3.237675\n",
              "cedido         1.250920\n",
              "Suspendido     0.147167\n",
              "Name: Estado Contrato, dtype: float64"
            ]
          },
          "metadata": {},
          "execution_count": 33
        }
      ]
    },
    {
      "cell_type": "markdown",
      "metadata": {
        "id": "jRxaiANSrl0A"
      },
      "source": [
        "**¿Qué puede analizar con los resultados anteriores?**"
      ]
    },
    {
      "cell_type": "markdown",
      "metadata": {
        "id": "swqF6ORKrwja"
      },
      "source": [
        "Es Pyme (Es una Pequeña o Mediana Empresa):\n",
        "- No: 1090 empresas\n",
        "- Sí: 269 empresas\n",
        "- Porcentaje de No Pymes: 80.21%\n",
        "- Porcentaje de Pymes: 19.79%\n",
        "\n",
        "Este conjunto de datos contiene información sobre cada empresa clasificada como una Pequeña o Mediana Empresa (Pyme) o no. Los datos muestran que la mayoría de las empresas 80.21% no son clasificadas como Pymes, mientras que solo el 19.79% entran en la categoría de Pyme.\n",
        "\n",
        "Es Grupo (Pertenece a un Grupo):\n",
        "- No: 1336 empresas\n",
        "- Sí: 23 empresas\n",
        "- Porcentaje de No Grupos: 98.31%\n",
        "- Porcentaje de Grupos: 1.69%\n",
        "\n",
        "Este conjunto de datos contiene información sobre si cada empresa forma parte de un grupo o no. Los datos muestran que la mayoría de las empresas con un porcentaje del 98.31% no pertenecen a ningún grupo, mientras que solo el 1.69% son parte de un grupo.\n",
        "\n",
        "A continuación, tenemos datos relacionados con los sectores de las empresas:\n",
        "\n",
        "- Servicio Público: 925 empresas\n",
        "- Industria: 434 empresas\n",
        "- Porcentaje servicio público: 68.06%\n",
        "- Porcentaje industria: 31,94%\n",
        "\n",
        "Este conjunto de datos proporciona información sobre la distribución de las empresas en diferentes sectores. La mayoría de las empresas se encuentran en el sector de Servicio Público 925 empresas (68.06%), mientras que un número menor se encuentra en el sector de Industria 434 empresas (31,94%).\n",
        "\n",
        "Continuando, hay datos sobre el tipo de contratos:\n",
        "\n",
        "- Prestación de servicios: 1082 empresas\n",
        "- Compraventa: 93 empresas\n",
        "- Otro: 85 empresas\n",
        "- Consultoría: 31 empresas\n",
        "- Suministros: 26 empresas\n",
        "- Arrendamiento de inmuebles: 23 empresas\n",
        "- Obra: 7 empresas\n",
        "- Interventoría: 7 empresas\n",
        "- Seguros: 3 empresas\n",
        "- Acuerdo de cooperación: 1 empresa\n",
        "- Comisión: 1 empresa\n",
        "\n",
        "Porcentaje:\n",
        "- Prestación de servicios       79.617366%\n",
        "- Compraventa                    6.843267%\n",
        "- Otro                           6.254599%\n",
        "- Consultoría                    2.281089%\n",
        "- Suministros                    1.913171%\n",
        "- Arrendamiento de inmuebles     1.692421%\n",
        "- Obra                           0.515085%\n",
        "- Interventoría                  0.515085%\n",
        "- Seguros                        0.220751%\n",
        "- Acuerdo de cooperación         0.073584%\n",
        "- Comisión                       0.073584%\n",
        "\n",
        "Este conjunto de datos ofrece información sobre los tipos de contratos en los que están involucradas las empresas. El tipo de contrato más común es \"Prestación de servicios\", con 1082 empresas utilizando este tipo de contrato. \"Compraventa\" y \"Otro\" también son tipos de contrato relativamente comunes, mientras que otros tienen menos ocurrencias.\n",
        "\n",
        "Finalmente, tenemos datos sobre el estado de los contratos:\n",
        "\n",
        "- Modificado: 792 contratos\n",
        "- Activo: 290 contratos\n",
        "- Terminado: 214 contratos\n",
        "- Cerrado: 44 contratos\n",
        "- Cedido: 17 contratos\n",
        "- Suspendido: 2 contratos\n",
        "\n",
        "Porcentaje:\n",
        "- Modificado    58.278146%\n",
        "- Activo        21.339220%\n",
        "- terminado     15.746873%\n",
        "- Cerrado        3.237675%\n",
        "- cedido         1.250920%\n",
        "- Suspendido     0.147167%\n",
        "\n",
        "Este conjunto de datos proporciona información sobre el estado actual de los contratos. Modificado es el estado de contrato más común con un 58.27%, seguido de Activo 21.33% y Terminado 15.74%. Los estados Cerrado, Cedido y Suspendido tienen menos ocurrencias.\n",
        "\n",
        "En resumen, estos conjuntos de datos ofrecen información valiosa sobre la clasificación de las empresas como Pymes o grupos, su distribución en diferentes sectores, los tipos de contratos en los que participan y el estado actual de sus contratos. **texto en negrita**"
      ]
    },
    {
      "cell_type": "markdown",
      "metadata": {
        "id": "EXzaLv9vrbiI"
      },
      "source": [
        "**Boxplot del valor de contrato vs Tipo de contrato**"
      ]
    },
    {
      "cell_type": "code",
      "source": [
        "sns.boxplot(x='Tipo de Contrato', y='Valor del Contrato', data=df)\n",
        "\n",
        "# Gira los labels del eje x\n",
        "plt.xticks(rotation=90)\n",
        "plt.figure(figsize=(5,6))\n",
        "# Muestra el boxplot\n",
        "\n",
        "plt.show()"
      ],
      "metadata": {
        "colab": {
          "base_uri": "https://localhost:8080/",
          "height": 669
        },
        "id": "eAtHXYE6_C0N",
        "outputId": "72019e73-21c7-48e0-e4bf-9b5c5eb27021"
      },
      "execution_count": null,
      "outputs": [
        {
          "output_type": "display_data",
          "data": {
            "text/plain": [
              "<Figure size 640x480 with 1 Axes>"
            ],
            "image/png": "[encoded data removed]"
          },
          "metadata": {}
        },
        {
          "output_type": "display_data",
          "data": {
            "text/plain": [
              "<Figure size 500x600 with 0 Axes>"
            ]
          },
          "metadata": {}
        }
      ]
    },
    {
      "cell_type": "code",
      "source": [
        "sns.boxplot(x='Tipo de Contrato', y='Valor del Contrato', data=df[df['Tipo de Contrato']=='Consultoría'])\n",
        "\n",
        "# Gira los labels del eje x\n",
        "plt.xticks(rotation=0)\n",
        "plt.figure(figsize=(5,6))\n",
        "# Muestra el boxplot\n",
        "\n",
        "plt.show()"
      ],
      "metadata": {
        "colab": {
          "base_uri": "https://localhost:8080/",
          "height": 482
        },
        "id": "Q4mugZpvFIq5",
        "outputId": "7512847d-324d-4e46-f379-ad9227c9ec37"
      },
      "execution_count": null,
      "outputs": [
        {
          "output_type": "display_data",
          "data": {
            "text/plain": [
              "<Figure size 640x480 with 1 Axes>"
            ],
            "image/png": "[encoded data removed]"
          },
          "metadata": {}
        },
        {
          "output_type": "display_data",
          "data": {
            "text/plain": [
              "<Figure size 500x600 with 0 Axes>"
            ]
          },
          "metadata": {}
        }
      ]
    },
    {
      "cell_type": "code",
      "source": [
        "sns.boxplot(x='Tipo de Contrato', y='Valor del Contrato', data=df[df['Tipo de Contrato']=='Prestación de servicios'])\n",
        "\n",
        "# Gira los labels del eje x\n",
        "plt.xticks(rotation=0)\n",
        "plt.figure(figsize=(5,6))\n",
        "# Muestra el boxplot\n",
        "\n",
        "plt.show()"
      ],
      "metadata": {
        "colab": {
          "base_uri": "https://localhost:8080/",
          "height": 482
        },
        "id": "beG_uPtoE_9Q",
        "outputId": "d88b69af-2f47-4420-ff2e-99ea326de6df"
      },
      "execution_count": null,
      "outputs": [
        {
          "output_type": "display_data",
          "data": {
            "text/plain": [
              "<Figure size 640x480 with 1 Axes>"
            ],
            "image/png": "[encoded data removed]"
          },
          "metadata": {}
        },
        {
          "output_type": "display_data",
          "data": {
            "text/plain": [
              "<Figure size 500x600 with 0 Axes>"
            ]
          },
          "metadata": {}
        }
      ]
    },
    {
      "cell_type": "code",
      "source": [
        "sns.boxplot(x='Tipo de Contrato', y='Valor del Contrato', data=df[df['Tipo de Contrato']=='Otro'])\n",
        "\n",
        "# Gira los labels del eje x\n",
        "plt.xticks(rotation=0)\n",
        "plt.figure(figsize=(5,6))\n",
        "# Muestra el boxplot\n",
        "\n",
        "plt.show()"
      ],
      "metadata": {
        "colab": {
          "base_uri": "https://localhost:8080/",
          "height": 482
        },
        "id": "u2Y0BBNCD2Yw",
        "outputId": "60a375f5-11fd-408c-c34e-cb4b14f86d98"
      },
      "execution_count": null,
      "outputs": [
        {
          "output_type": "display_data",
          "data": {
            "text/plain": [
              "<Figure size 640x480 with 1 Axes>"
            ],
            "image/png": "[encoded data removed]"
          },
          "metadata": {}
        },
        {
          "output_type": "display_data",
          "data": {
            "text/plain": [
              "<Figure size 500x600 with 0 Axes>"
            ]
          },
          "metadata": {}
        }
      ]
    },
    {
      "cell_type": "code",
      "source": [
        "sns.boxplot(x='Tipo de Contrato', y='Valor del Contrato', data=df[df['Tipo de Contrato']=='Compraventa'])\n",
        "\n",
        "# Gira los labels del eje x\n",
        "plt.xticks(rotation=0)\n",
        "plt.figure(figsize=(5,6))\n",
        "# Muestra el boxplot\n",
        "\n",
        "plt.show()"
      ],
      "metadata": {
        "colab": {
          "base_uri": "https://localhost:8080/",
          "height": 482
        },
        "id": "SOq72mA9DV_s",
        "outputId": "cf14d34f-b3d0-49f1-ec9f-77c8818b3618"
      },
      "execution_count": null,
      "outputs": [
        {
          "output_type": "display_data",
          "data": {
            "text/plain": [
              "<Figure size 640x480 with 1 Axes>"
            ],
            "image/png": "[encoded data removed]"
          },
          "metadata": {}
        },
        {
          "output_type": "display_data",
          "data": {
            "text/plain": [
              "<Figure size 500x600 with 0 Axes>"
            ]
          },
          "metadata": {}
        }
      ]
    },
    {
      "cell_type": "code",
      "source": [
        "sns.boxplot(x='Tipo de Contrato', y='Valor del Contrato', data=df[df['Tipo de Contrato']=='Obra'])\n",
        "\n",
        "# Gira los labels del eje x\n",
        "plt.xticks(rotation=0)\n",
        "plt.figure(figsize=(10,10))\n",
        "# Muestra el boxplot\n",
        "\n",
        "plt.show()"
      ],
      "metadata": {
        "colab": {
          "base_uri": "https://localhost:8080/",
          "height": 482
        },
        "id": "iy84Q7fXC20s",
        "outputId": "7624624c-d28f-4814-89f6-7e822b7d88d5"
      },
      "execution_count": null,
      "outputs": [
        {
          "output_type": "display_data",
          "data": {
            "text/plain": [
              "<Figure size 640x480 with 1 Axes>"
            ],
            "image/png": "[encoded data removed]"
          },
          "metadata": {}
        },
        {
          "output_type": "display_data",
          "data": {
            "text/plain": [
              "<Figure size 1000x1000 with 0 Axes>"
            ]
          },
          "metadata": {}
        }
      ]
    },
    {
      "cell_type": "code",
      "source": [
        "sns.boxplot(x='Tipo de Contrato', y='Valor del Contrato', data=df[df['Tipo de Contrato']=='Interventoría'])\n",
        "\n",
        "# Gira los labels del eje x\n",
        "plt.xticks(rotation=0)\n",
        "plt.figure(figsize=(10,10))\n",
        "# Muestra el boxplot\n",
        "\n",
        "plt.show()"
      ],
      "metadata": {
        "colab": {
          "base_uri": "https://localhost:8080/",
          "height": 482
        },
        "id": "xu9-fuDKCWZl",
        "outputId": "d00eb58e-ecb5-46c5-c469-6d9d850d7b3b"
      },
      "execution_count": null,
      "outputs": [
        {
          "output_type": "display_data",
          "data": {
            "text/plain": [
              "<Figure size 640x480 with 1 Axes>"
            ],
            "image/png": "[encoded data removed]"
          },
          "metadata": {}
        },
        {
          "output_type": "display_data",
          "data": {
            "text/plain": [
              "<Figure size 1000x1000 with 0 Axes>"
            ]
          },
          "metadata": {}
        }
      ]
    },
    {
      "cell_type": "code",
      "source": [
        "sns.boxplot(x='Tipo de Contrato', y='Valor del Contrato', data=df[df['Tipo de Contrato']=='Suministros'])\n",
        "\n",
        "# Gira los labels del eje x\n",
        "plt.xticks(rotation=0)\n",
        "plt.figure(figsize=(10,10))\n",
        "# Muestra el boxplot\n",
        "\n",
        "plt.show()"
      ],
      "metadata": {
        "colab": {
          "base_uri": "https://localhost:8080/",
          "height": 482
        },
        "id": "QMU6FWLOAIQA",
        "outputId": "934e23a7-17fd-4249-b236-2a59cbc6e470"
      },
      "execution_count": null,
      "outputs": [
        {
          "output_type": "display_data",
          "data": {
            "text/plain": [
              "<Figure size 640x480 with 1 Axes>"
            ],
            "image/png": "[encoded data removed]"
          },
          "metadata": {}
        },
        {
          "output_type": "display_data",
          "data": {
            "text/plain": [
              "<Figure size 1000x1000 with 0 Axes>"
            ]
          },
          "metadata": {}
        }
      ]
    },
    {
      "cell_type": "code",
      "source": [
        "sns.boxplot(x='Tipo de Contrato', y='Valor del Contrato', data=df[df['Tipo de Contrato']=='Arrendamiento de inmuebles'])\n",
        "\n",
        "# Gira los labels del eje x\n",
        "plt.xticks(rotation=0)\n",
        "plt.figure(figsize=(10,10))\n",
        "# Muestra el boxplot\n",
        "\n",
        "plt.show()"
      ],
      "metadata": {
        "colab": {
          "base_uri": "https://localhost:8080/",
          "height": 482
        },
        "id": "Dpu1LIcC_tx-",
        "outputId": "4e00dbad-8934-44d2-d13e-a3d57c18dd61"
      },
      "execution_count": null,
      "outputs": [
        {
          "output_type": "display_data",
          "data": {
            "text/plain": [
              "<Figure size 640x480 with 1 Axes>"
            ],
            "image/png": "[encoded data removed]"
          },
          "metadata": {}
        },
        {
          "output_type": "display_data",
          "data": {
            "text/plain": [
              "<Figure size 1000x1000 with 0 Axes>"
            ]
          },
          "metadata": {}
        }
      ]
    },
    {
      "cell_type": "code",
      "source": [
        "sns.boxplot(x='Tipo de Contrato', y='Valor del Contrato', data=df[df['Tipo de Contrato']=='Seguros'])\n",
        "\n",
        "# Gira los labels del eje x\n",
        "plt.xticks(rotation=0)\n",
        "plt.figure(figsize=(5,6))\n",
        "# Muestra el boxplot\n",
        "\n",
        "plt.show()"
      ],
      "metadata": {
        "colab": {
          "base_uri": "https://localhost:8080/",
          "height": 482
        },
        "id": "CcChoDnd_frP",
        "outputId": "488e697f-1034-4172-ba82-c819a5446973"
      },
      "execution_count": null,
      "outputs": [
        {
          "output_type": "display_data",
          "data": {
            "text/plain": [
              "<Figure size 640x480 with 1 Axes>"
            ],
            "image/png": "[encoded data removed]"
          },
          "metadata": {}
        },
        {
          "output_type": "display_data",
          "data": {
            "text/plain": [
              "<Figure size 500x600 with 0 Axes>"
            ]
          },
          "metadata": {}
        }
      ]
    },
    {
      "cell_type": "code",
      "source": [
        "sns.boxplot(x='Tipo de Contrato', y='Valor del Contrato', data=df[df['Tipo de Contrato']=='Acuerdo de cooperación'])\n",
        "\n",
        "# Gira los labels del eje x\n",
        "plt.xticks(rotation=0)\n",
        "plt.figure(figsize=(5,6))\n",
        "# Muestra el boxplot\n",
        "\n",
        "plt.show()"
      ],
      "metadata": {
        "colab": {
          "base_uri": "https://localhost:8080/",
          "height": 482
        },
        "id": "8G3RlqnH_WE1",
        "outputId": "4832f63b-35cb-4547-eca6-524e3e593345"
      },
      "execution_count": null,
      "outputs": [
        {
          "output_type": "display_data",
          "data": {
            "text/plain": [
              "<Figure size 640x480 with 1 Axes>"
            ],
            "image/png": "[encoded data removed]"
          },
          "metadata": {}
        },
        {
          "output_type": "display_data",
          "data": {
            "text/plain": [
              "<Figure size 500x600 with 0 Axes>"
            ]
          },
          "metadata": {}
        }
      ]
    },
    {
      "cell_type": "markdown",
      "source": [],
      "metadata": {
        "id": "ZKdmAonhM3hG"
      }
    },
    {
      "cell_type": "code",
      "source": [
        "sns.boxplot(x='Tipo de Contrato', y='Valor del Contrato', data=df[df['Tipo de Contrato']=='Comisión'])\n",
        "\n",
        "# Gira los labels del eje x\n",
        "plt.xticks(rotation=0)\n",
        "plt.figure(figsize=(5,6))\n",
        "# Muestra el boxplot\n",
        "\n",
        "plt.show()"
      ],
      "metadata": {
        "colab": {
          "base_uri": "https://localhost:8080/",
          "height": 482
        },
        "id": "BPsrs47_-XrG",
        "outputId": "92431562-25b9-4a27-8c1d-e3e14c1b9953"
      },
      "execution_count": null,
      "outputs": [
        {
          "output_type": "display_data",
          "data": {
            "text/plain": [
              "<Figure size 640x480 with 1 Axes>"
            ],
            "image/png": "[encoded data removed]"
          },
          "metadata": {}
        },
        {
          "output_type": "display_data",
          "data": {
            "text/plain": [
              "<Figure size 500x600 with 0 Axes>"
            ]
          },
          "metadata": {}
        }
      ]
    },
    {
      "cell_type": "markdown",
      "metadata": {
        "id": "TNeM1u_sriRD"
      },
      "source": [
        "**¿Qué puede analizar con los resultados anteriores?**"
      ]
    },
    {
      "cell_type": "markdown",
      "metadata": {
        "id": "e-7HEFOOrhrR"
      },
      "source": [
        "Las contrataciones de Licitación pública (1.250920%) y directa con ofertas (3.164091%) representan los valores atipicos mas altos de valor de contratos respectivamente, por lo cual se deberian tener en cuenta otras variables como los terminos de contrato y valor final para el estudio de estas contrataciones.\n"
      ]
    },
    {
      "cell_type": "markdown",
      "metadata": {
        "id": "8G32QEXprzd_"
      },
      "source": [
        "**Boxplot del Valor de Contrato vs Modalidad de Contratación**\n",
        "\n",
        "*   Elemento de lista\n",
        "*   Elemento de lista\n",
        "\n"
      ]
    },
    {
      "cell_type": "code",
      "source": [
        "df['Modalidad de Contratacion'].value_counts()"
      ],
      "metadata": {
        "colab": {
          "base_uri": "https://localhost:8080/"
        },
        "id": "M6MMImJ7Gh9K",
        "outputId": "e8d4f5a0-373c-4946-a935-045601a629cf"
      },
      "execution_count": null,
      "outputs": [
        {
          "output_type": "execute_result",
          "data": {
            "text/plain": [
              "Contratación directa                           1018\n",
              "Selección abreviada subasta inversa              98\n",
              "Mínima cuantía                                   77\n",
              "Contratación Directa (con ofertas)               43\n",
              "Contratación régimen especial                    39\n",
              "Concurso de méritos abierto                      35\n",
              "Selección Abreviada de Menor Cuantía             29\n",
              "Licitación pública                               17\n",
              "Contratación régimen especial (con ofertas)       2\n",
              "Licitación pública Obra Publica                   1\n",
              "Name: Modalidad de Contratacion, dtype: int64"
            ]
          },
          "metadata": {},
          "execution_count": 88
        }
      ]
    },
    {
      "cell_type": "code",
      "source": [
        "df['Modalidad de Contratacion'].value_counts()/len(df)*100"
      ],
      "metadata": {
        "colab": {
          "base_uri": "https://localhost:8080/"
        },
        "id": "9UR01bl8pb7g",
        "outputId": "de758f03-a6aa-4dd2-c362-55174b0c7320"
      },
      "execution_count": null,
      "outputs": [
        {
          "output_type": "execute_result",
          "data": {
            "text/plain": [
              "Contratación directa                           74.908021\n",
              "Selección abreviada subasta inversa             7.211185\n",
              "Mínima cuantía                                  5.665931\n",
              "Contratación Directa (con ofertas)              3.164091\n",
              "Contratación régimen especial                   2.869757\n",
              "Concurso de méritos abierto                     2.575423\n",
              "Selección Abreviada de Menor Cuantía            2.133922\n",
              "Licitación pública                              1.250920\n",
              "Contratación régimen especial (con ofertas)     0.147167\n",
              "Licitación pública Obra Publica                 0.073584\n",
              "Name: Modalidad de Contratacion, dtype: float64"
            ]
          },
          "metadata": {},
          "execution_count": 34
        }
      ]
    },
    {
      "cell_type": "code",
      "source": [
        "contract_counts = {\n",
        "    'Contratación directa': 74.908021,\n",
        "    'Selección abreviada subasta inversa': 7.211185,\n",
        "    'Mínima cuantía': 5.665931,\n",
        "    'Contratación Directa (con ofertas)': 3.164091,\n",
        "    'Contratación régimen especial': 2.869757,\n",
        "    'Concurso de méritos abierto': 2.575423,\n",
        "    'Selección Abreviada de Menor Cuantía': 2.133922,\n",
        "    'Licitación pública': 1.250920,\n",
        "    'Contratación régimen especial (con ofertas)': 0.147167,\n",
        "    'Licitación pública Obra Publica': 0.073584\n",
        "}\n",
        "\n",
        "plt.figure(figsize=(12, 6))  # Tamaño del gráfico (opcional)\n",
        "plt.bar(contract_counts.keys(), contract_counts.values())\n",
        "\n",
        "plt.xlabel('Tipo de contratación')\n",
        "plt.ylabel('Porcentaje (%)')\n",
        "plt.title('Distribución de Tipo de Contratación con sus Valores')\n",
        "\n",
        "plt.xticks(rotation=90)  # Rotar las etiquetas del eje x para mayor legibilidad\n",
        "plt.tight_layout()  # Ajustar el diseño para evitar superposiciones\n",
        "plt.show()\n",
        "\n",
        "\n"
      ],
      "metadata": {
        "colab": {
          "base_uri": "https://localhost:8080/",
          "height": 607
        },
        "id": "kv7M0XnwvJOQ",
        "outputId": "9ad4f8c9-ab27-4395-bd8f-4aafc11b2fe6"
      },
      "execution_count": null,
      "outputs": [
        {
          "output_type": "display_data",
          "data": {
            "text/plain": [
              "<Figure size 1200x600 with 1 Axes>"
            ],
            "image/png": "[encoded data removed]"
          },
          "metadata": {}
        }
      ]
    },
    {
      "cell_type": "code",
      "execution_count": null,
      "metadata": {
        "colab": {
          "base_uri": "https://localhost:8080/",
          "height": 757
        },
        "id": "84tjbBdfOVxj",
        "outputId": "9b5cb3d7-d1b9-4cb4-c3dd-858161368d88"
      },
      "outputs": [
        {
          "output_type": "display_data",
          "data": {
            "text/plain": [
              "<Figure size 640x480 with 1 Axes>"
            ],
            "image/png": "[encoded data removed]"
          },
          "metadata": {}
        }
      ],
      "source": [
        "sns.boxplot(x='Modalidad de Contratacion', y='Valor del Contrato', data=df)\n",
        "\n",
        "# Gira los labels del eje x\n",
        "plt.xticks(rotation=90)\n",
        "\n",
        "# Muestra el boxplot\n",
        "plt.show()"
      ]
    },
    {
      "cell_type": "markdown",
      "metadata": {
        "id": "0pflC9Uqr75S"
      },
      "source": [
        "**¿Qué puede analizar con los resultados anteriores?**"
      ]
    },
    {
      "cell_type": "markdown",
      "metadata": {
        "id": "a8YeDov1r64H"
      },
      "source": [
        "Porcentajes:\n",
        "- Contratación directa                           74.908021%\n",
        "- Selección abreviada subasta inversa             7.211185%\n",
        "- Mínima cuantía                                  5.665931%\n",
        "- Contratación Directa (con ofertas)              3.164091%\n",
        "- Contratación régimen especial                   2.869757%\n",
        "- Concurso de méritos abierto                     2.575423%\n",
        "- Selección Abreviada de Menor Cuantía            2.133922%\n",
        "- Licitación pública                              1.250920%\n",
        "- Contratación régimen especial (con ofertas)     0.147167%\n",
        "- Licitación pública Obra Publica                 0.073584%\n",
        "\n",
        "Las contrataciones de Licitación pública (1.250920%) y directa con ofertas (3.164091%) representan los valores atipicos mas altos de valor de contratos respectivamente, por lo cual se deberian tener en cuenta otras variables como los terminos de contrato y valor final.\n",
        "\n",
        "Mínima cuantía, Contratación régimen especial (con ofertas)  y Licitación pública Obra Publica son los unicos tipos de contratacion que no presentan valores atipicos dentro de la distribución. Pero se debe tener en cuenta que los contratos presentan una distribución asimetrica.\n",
        "\n",
        "Tambien se observa que el tipo de contratacion mas empleado es la directa con (74.9 %) seguido por Selección abreviada subasta inversa (7.211185%) las cuales presentan valores atipicos moderados con respecto a Las contrataciones de Licitación pública (1.250920%) y directa con ofertas (3.164091%)\n"
      ]
    },
    {
      "cell_type": "markdown",
      "metadata": {
        "id": "PVsaoZMrsFxX"
      },
      "source": [
        "**Sobre las variables que resulten de su interés exploren y analicen los resultados obtenidos**"
      ]
    },
    {
      "cell_type": "markdown",
      "metadata": {
        "id": "203VWiPQsPcf"
      },
      "source": [
        "Licitación pública presenta los valores atípicos más altos, junto con la contratación directa. Se debe indagar el porqué de los sobrecostos, por lo cual debemos evaluar si se presentaron errores de implementación, cambio de costos o requerimientos. Además, se debe investigar si se desviaron fondos o el porqué de que sean tan diferenciales algunos de estos contratos.\n"
      ]
    },
    {
      "cell_type": "markdown",
      "metadata": {
        "id": "dcET67a8dhZk"
      },
      "source": [
        "### Probabilidad y probabilidad condicional"
      ]
    },
    {
      "cell_type": "markdown",
      "metadata": {
        "id": "E1dYkTwpQ7AG"
      },
      "source": [
        "**¿Cual es la probabilidad de obtener un contrato de más de 200 Millones de pesos al seleccionar un contrato al azar?**\n",
        "\n",
        "\n"
      ]
    },
    {
      "cell_type": "code",
      "execution_count": null,
      "metadata": {
        "colab": {
          "base_uri": "https://localhost:8080/"
        },
        "id": "kU-0_yoHbds8",
        "outputId": "11192d86-55e6-4b4d-f8d8-62cd3120766f"
      },
      "outputs": [
        {
          "output_type": "stream",
          "name": "stdout",
          "text": [
            "El número total de registros es: 1359\n",
            "El número total de registros mayores a 200 millones es: 122\n",
            "La probabilidad es: 0.08977189109639441\n"
          ]
        }
      ],
      "source": [
        "#Probabilidad de obtener al azar un contrato de menos de 200 millones de pesos\n",
        "# Cuenta la cantidad de registros en la columna 'Valor del contrato'\n",
        "total_registros = df['Valor del Contrato'].count()\n",
        "print(\"El número total de registros es:\", total_registros)\n",
        "\n",
        "# total_registros mayores a 200 millones\n",
        "registros_mayor_200 = df[df['Valor del Contrato'] >200000000]['Valor del Contrato'].count()\n",
        "print ('El número total de registros mayores a 200 millones es:',registros_mayor_200)\n",
        "\n",
        "# Probabilidad\n",
        "print(\"La probabilidad es:\",registros_mayor_200/total_registros)"
      ]
    },
    {
      "cell_type": "markdown",
      "metadata": {
        "id": "y9AjdVhIsuXb"
      },
      "source": [
        "**¿Cual es la probabilidad de obtener un contrato de más de 200 Millones de pesos al filtrar Modalidad de Contratación, minima cuantía?**"
      ]
    },
    {
      "cell_type": "code",
      "execution_count": null,
      "metadata": {
        "colab": {
          "base_uri": "https://localhost:8080/"
        },
        "id": "hy4LCGUyeTBA",
        "outputId": "8d226850-69f9-4ec7-b5af-d1db21e5d1ae"
      },
      "outputs": [
        {
          "output_type": "stream",
          "name": "stdout",
          "text": [
            "Total registros de menor cuantía: 29\n",
            "Total registros de menor cuantía mayores a 200 millones 14\n",
            "La probabilidad es: 0.4827586206896552\n"
          ]
        }
      ],
      "source": [
        "#Probabilidad de obtener al azar un contrato de más de 200 millones de pesos, cuando sea hace Selección abreviada de Menor Cuantía\n",
        "# Cuenta la cantidad de registros en la columna 'Valor del contrato'\n",
        "total_registros_menorcuantia = df[df['Modalidad de Contratacion'] == \"Selección Abreviada de Menor Cuantía\"]['Valor del Contrato'].count()\n",
        "print('Total registros de menor cuantía:',total_registros_menorcuantia)\n",
        "\n",
        "# total_registros mayores a 200 millones pr\n",
        "contratos_mayor_200_menorcuantia = df.loc[(df['Valor del Contrato'] >200000000) & (df['Modalidad de Contratacion'] == 'Selección Abreviada de Menor Cuantía')]\n",
        "registros_mayor_200_menorcuantia = contratos_mayor_200_menorcuantia['Valor del Contrato'].count()\n",
        "print ('Total registros de menor cuantía mayores a 200 millones',registros_mayor_200_menorcuantia)\n",
        "\n",
        "# Probabilidad\n",
        "print('La probabilidad es:',registros_mayor_200_menorcuantia/total_registros_menorcuantia)"
      ]
    },
    {
      "cell_type": "markdown",
      "metadata": {
        "id": "Xz0K-fxZs35U"
      },
      "source": [
        "Analice los resultados obtenidos"
      ]
    },
    {
      "cell_type": "markdown",
      "metadata": {
        "id": "4cz6OpY1s7Iv"
      },
      "source": [
        "- El número total de registros es: 1359\n",
        "- El número total de registros mayores a 200 millones es: 122\n",
        "- La probabilidad es: 0.08977189109639441\n",
        "\n",
        "Con esta información se deberian estudiar los 122 contratos que superan los 200 millones ya que son valores atipicos, los cuales se deben estudiar para determinar por que los sobrecostos.\n",
        "\n",
        "La modalidad de menor cuantía parece tener un número significativo de contratos en general 29 en total. Además, 14 de estos contratos tienen un valor mayor a 200 millones.\n"
      ]
    },
    {
      "cell_type": "markdown",
      "metadata": {
        "id": "C7MWxqBNdtGC"
      },
      "source": [
        "### Estimadores"
      ]
    },
    {
      "cell_type": "markdown",
      "metadata": {
        "id": "XtnGyr3zVjJE"
      },
      "source": [
        "¿Cual es el valor promedio de los contratos considerando todas las modalidades?\n",
        "¿Cual es la varianza del monto de los contratos?"
      ]
    },
    {
      "cell_type": "code",
      "execution_count": null,
      "metadata": {
        "colab": {
          "base_uri": "https://localhost:8080/",
          "height": 69
        },
        "id": "nN0yhaOldtvh",
        "outputId": "d0ea5a5e-d854-415c-f3b3-9970005abc74"
      },
      "outputs": [
        {
          "output_type": "display_data",
          "data": {
            "text/plain": [
              "175398530.84694627"
            ]
          },
          "metadata": {}
        },
        {
          "output_type": "display_data",
          "data": {
            "text/plain": [
              "9.55602726136502e+17"
            ]
          },
          "metadata": {}
        },
        {
          "output_type": "display_data",
          "data": {
            "text/plain": [
              "977549347.1618208"
            ]
          },
          "metadata": {}
        }
      ],
      "source": [
        "# Estimador puntal del promedio\n",
        "media_contratos = df['Valor del Contrato'].mean()\n",
        "\n",
        "# Estimador puntual de la varianza\n",
        "var_contratos = np.var(df['Valor del Contrato'])\n",
        "\n",
        "# Desviación estándar\n",
        "desv_contratos  = var_contratos** 0.5\n",
        "\n",
        "#\n",
        "display(media_contratos)\n",
        "display(var_contratos)\n",
        "display(desv_contratos)"
      ]
    },
    {
      "cell_type": "markdown",
      "metadata": {
        "id": "4UaEQnf1tCnO"
      },
      "source": [
        "Analice los resultados obtenidos y compare con los resultados obtenidos con la función df.describe() en el análisis de exploración de datos"
      ]
    },
    {
      "cell_type": "markdown",
      "metadata": {
        "id": "VkUMBaEqtFdY"
      },
      "source": [
        "Media de los contratos es de 175,398,530.85. Esto representa el promedio del valor de todos los contratos en el conjunto de datos.\n",
        "\n",
        "Varianza de los contratos es de 9.55602726136502e+17. La varianza mide la dispersión de los valores con respecto a la media, y un valor tan grande indica que los valores están muy dispersos.\n",
        "\n",
        "Desviación estándar de los contratos es de 977,549,347.16 esta es la medida de la dispersión de los valores con respecto a la media. En este caso, la desviación estándar es de aproximadamente 977,549,347.16, lo que confirma que los valores de los contratos tienen una alta dispersión y valores atipicos.\n"
      ]
    },
    {
      "cell_type": "markdown",
      "metadata": {
        "id": "qg0xnBtgdwsN"
      },
      "source": [
        "### Intervalos de confianza"
      ]
    },
    {
      "cell_type": "markdown",
      "metadata": {
        "id": "a2pK2xbuVtNa"
      },
      "source": [
        "Asuma que estos contratos son una muestra aleatoria de los diferentes contratos que se pudo generar. (Tanto la media como la varianza son desconocidas)\n",
        "\n",
        "Determine el intervalo de confianza para el valor promedio de los contratos.\n",
        "\n",
        "Cual sería el intervalo de confianza para el monto promedio de los contratos."
      ]
    },
    {
      "cell_type": "code",
      "execution_count": null,
      "metadata": {
        "colab": {
          "base_uri": "https://localhost:8080/"
        },
        "id": "_HKuhccZRiCX",
        "outputId": "56e2d3e8-e2d5-4a5f-c00e-10e7bfc227b9"
      },
      "outputs": [
        {
          "output_type": "stream",
          "name": "stdout",
          "text": [
            "Intervalo de confianza del 95%: (123379255.3312772, 227417806.36261535)\n",
            "Podemos asegurar con un 95% de confianza que el valor promedio de los contratos para esta entidad está en el rango: (123379255.3312772, 227417806.36261535)\n"
          ]
        }
      ],
      "source": [
        "from scipy.stats import t\n",
        "import numpy as np\n",
        "\n",
        "# Definir la muestra\n",
        "n = len(df['Valor del Contrato'])\n",
        "\n",
        "# Calcular la media muestral y la desviación estándar muestral\n",
        "media = media_contratos\n",
        "s = desv_contratos\n",
        "\n",
        "# Definir el nivel de significancia y los grados de libertad\n",
        "alpha = 0.05\n",
        "gl = n - 1\n",
        "\n",
        "# Calcular el valor crítico de la distribución t\n",
        "t_critico = t.ppf(1 - alpha / 2, gl)\n",
        "\n",
        "# Calcular el intervalo de confianza\n",
        "intervalo = (media - t_critico * s / np.sqrt(n), media + t_critico * s / np.sqrt(n))\n",
        "\n",
        "print(\"Intervalo de confianza del 95%:\", intervalo)\n",
        "print(\"Podemos asegurar con un 95% de confianza que el valor promedio de los contratos para esta entidad está en el rango:\", intervalo)"
      ]
    },
    {
      "cell_type": "markdown",
      "metadata": {
        "id": "NlTKmEX8tvZ6"
      },
      "source": [
        "**Analice los resultados obtenidos**"
      ]
    },
    {
      "cell_type": "markdown",
      "metadata": {
        "id": "HC5-Qz8Ht0XL"
      },
      "source": [
        "El intervalo de confianza del 95% nos brinda una medida de la incertidumbre en torno al valor promedio de los contratos, y con un 95% de confianza, podemos decir que el valor promedio real se encuentra dentro del rango mencionado."
      ]
    },
    {
      "cell_type": "markdown",
      "metadata": {
        "id": "kLWbgYSvGMvD"
      },
      "source": [
        "## Prueba de hipótesis"
      ]
    },
    {
      "cell_type": "markdown",
      "metadata": {
        "id": "awOozgIYGtGf"
      },
      "source": [
        "Con los datos actuales, si se formula la hipótesis nula, el valor promedio de los contratos es igual a 70.000.000, ¿qué podría afirmar?"
      ]
    },
    {
      "cell_type": "code",
      "execution_count": null,
      "metadata": {
        "colab": {
          "base_uri": "https://localhost:8080/"
        },
        "id": "tYgp77gVGMe6",
        "outputId": "5e9676d7-977d-434e-ca18-9ce1d43272a9"
      },
      "outputs": [
        {
          "output_type": "stream",
          "name": "stdout",
          "text": [
            "Se rechaza H0, la media poblacional es diferente de 70000000\n"
          ]
        }
      ],
      "source": [
        "# Definir el valor hipotético de la media poblacional\n",
        "mu0 = 70000000\n",
        "\n",
        "# Calcular el estadístico de prueba t\n",
        "t_est = (media - mu0) / (s / np.sqrt(n))\n",
        "\n",
        "# Calcular los grados de libertad y el valor crítico de t\n",
        "gl = n - 1\n",
        "t_critico = t.ppf(1 - 0.05/2, gl)\n",
        "\n",
        "# Imprimir el resultado de la prueba de hipótesis\n",
        "if t_est > t_critico or t_est < -t_critico:\n",
        "    print(\"Se rechaza H0, la media poblacional es diferente de\", mu0)\n",
        "else:\n",
        "    print(\"No se puede rechazar H0, la media poblacional es igual a\", mu0)"
      ]
    },
    {
      "cell_type": "markdown",
      "metadata": {
        "id": "V7BDPN0IuGFL"
      },
      "source": [
        "**Analice los resultados**\n",
        "\n",
        "Cuando se menciona que se rechaza H0, la media poblacional es diferente de 70000000. En este caso, la hipótesis nula (H0) establece que la media poblacional es igual a 70000000. lo que significa que se ha encontrado evidencia estadística para afirmar que la media poblacional es diferente de de ese valor ya que es de ."
      ]
    },
    {
      "cell_type": "markdown",
      "metadata": {
        "id": "QU7No0Lauhye"
      },
      "source": [
        "## Conclusiones"
      ]
    },
    {
      "cell_type": "markdown",
      "metadata": {
        "id": "yvozxv88ukni"
      },
      "source": [
        "•\tEl valor promedio de los contratos que realiza la alcaldía de Bogotá es de 175.398 millones de pesos.  De manera análoga el percentil 50 o el 50% de los datos de los valores del contrato se encuentran por encima de $38.357 millones de pesos.\n",
        "•\tEste conjunto de datos contiene información sobre cada empresa clasificada como una Pequeña o Mediana Empresa (Pyme) o no. Los datos muestran que la mayoría de las empresas 80.21% no son clasificadas como Pymes, mientras que solo el 19.79% entran en la categoría de Pyme.\n",
        "•\tEste conjunto de datos contiene información sobre si cada empresa forma parte de un grupo o no. Los datos muestran que la mayoría de las empresas con un porcentaje del 98.31% no pertenecen a ningún grupo, mientras que solo el 1.69% son parte de un grupo.\n",
        "•\tEste conjunto de datos proporciona información sobre la distribución de las empresas en diferentes sectores. La mayoría de las empresas se encuentran en el sector de Servicio Público 925 empresas (68.06%), mientras que un número menor se encuentra en el sector de Industria 434 empresas (31,94%).\n",
        "•\tLa distribución representada es asimétrica sesgada a la izquierda debido a los valores de contratos iguales a 0. El sesgo negativo se debe a que los valores extremadamente bajos, en este caso los contratos con valor cero, están desplazando la media hacia la izquierda.\n",
        "•\tEste conjunto de datos ofrece información sobre los tipos de contratos en los que están involucradas las empresas. El tipo de contrato más común es \"Prestación de servicios\", con 1082 empresas utilizando este tipo de contrato. \"Compraventa\" y \"Otro\" también son tipos de contrato relativamente comunes, mientras que otros tienen menos ocurrencias.\n",
        "•\tSe debe evaluar los valores atípicos para cada tipo de contratación y evaluar por que se dieron los sobrecostos, determinando el tipo de contrato y el valor del mismo.\n",
        "•\tSe debe tener en cuenta que las contrataciones de Licitación pública (1.250920%) y directa con ofertas (3.164091%) representan los valores atípicos más elevados de valor de contratos respectivamente.\n",
        "•\tEste conjunto de datos proporciona información sobre el estado actual de los contratos. Modificado es el estado de contrato más común con un 58.27%, seguido de Activo 21.33% y Terminado 15.74%. Los estados Cerrado, Cedido y Suspendido tienen menos ocurrencias\n"
      ]
    },
    {
      "cell_type": "markdown",
      "metadata": {
        "id": "mFrCXIuMup2J"
      },
      "source": []
    }
  ],
  "metadata": {
    "colab": {
      "provenance": [],
      "include_colab_link": true
    },
    "kernelspec": {
      "display_name": "Python 3",
      "name": "python3"
    },
    "language_info": {
      "name": "python"
    }
  },
  "nbformat": 4,
  "nbformat_minor": 0
}