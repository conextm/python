{
  "metadata": {
    "kernelspec": {
      "language": "python",
      "display_name": "Python 3",
      "name": "python3"
    },
    "language_info": {
      "pygments_lexer": "ipython3",
      "nbconvert_exporter": "python",
      "version": "3.6.4",
      "file_extension": ".py",
      "codemirror_mode": {
        "name": "ipython",
        "version": 3
      },
      "name": "python",
      "mimetype": "text/x-python"
    },
    "colab": {
      "provenance": [],
      "include_colab_link": true
    }
  },
  "nbformat_minor": 0,
  "nbformat": 4,
  "cells": [
    {
      "cell_type": "markdown",
      "metadata": {
        "id": "view-in-github",
        "colab_type": "text"
      },
      "source": [
        "<a href=\"https://colab.research.google.com/github/conextm/python/blob/main/Regresio%CC%81n_Lineal_Simple.ipynb\" target=\"_parent\"><img src=\"https://colab.research.google.com/assets/colab-badge.svg\" alt=\"Open In Colab\"/></a>"
      ]
    },
    {
      "cell_type": "markdown",
      "source": [
        "## Formulación de un Modelo Lineal Simple\n",
        "\n",
        "### Caso del negocio:\n",
        "Una empresa requiere determinar cual es la relación que pudiera existir entre el salario de un trabajador y sus años de experiencia.\n",
        "\n",
        "### Planteamiento:\n",
        "* Pregunta a resolver:  Determinar cual es el salario de un trabajador basado en el número de años de experiencia.\n",
        "* Fuente de datos: Se cuenta con una base de datos que tiene información del salario y años de experiencia de 35 trabajadores.\n",
        "* Vamos a plantear un modelo bastante simple de regresión lineal que encuentre la relación entre el salario de un trabajador y sus años de experiencia."
      ],
      "metadata": {
        "id": "scjZ57Hl3l3F"
      }
    },
    {
      "cell_type": "markdown",
      "source": [
        "## Exploración de Datos"
      ],
      "metadata": {
        "id": "0pVRLq213l3G"
      }
    },
    {
      "cell_type": "code",
      "source": [
        "# Librerías para el tratamiento de los datos\n",
        "import numpy as np\n",
        "import pandas as pd\n",
        "\n",
        "# Librerías para entrenamiento y modelado\n",
        "from sklearn.linear_model import LinearRegression\n",
        "from sklearn.model_selection import train_test_split\n",
        "\n",
        "# Librerías para visualización\n",
        "import matplotlib.pyplot as plt\n",
        "import seaborn as sns"
      ],
      "metadata": {
        "execution": {
          "iopub.status.busy": "2022-07-09T23:20:29.417298Z",
          "iopub.execute_input": "2022-07-09T23:20:29.418216Z",
          "iopub.status.idle": "2022-07-09T23:20:31.03264Z",
          "shell.execute_reply.started": "2022-07-09T23:20:29.41812Z",
          "shell.execute_reply": "2022-07-09T23:20:31.031185Z"
        },
        "trusted": true,
        "id": "QOoD8UnX3l3H"
      },
      "execution_count": 1,
      "outputs": []
    },
    {
      "cell_type": "markdown",
      "source": [
        "Cargamos el dataset."
      ],
      "metadata": {
        "id": "5lBh7Ev93l3H"
      }
    },
    {
      "cell_type": "code",
      "source": [
        "salary_data = pd.read_csv('/content/Salario.csv')\n",
        "\n",
        "salary_data.sample(10)\n"
      ],
      "metadata": {
        "execution": {
          "iopub.status.busy": "2022-07-09T23:24:36.618442Z",
          "iopub.execute_input": "2022-07-09T23:24:36.618821Z",
          "iopub.status.idle": "2022-07-09T23:24:36.635453Z",
          "shell.execute_reply.started": "2022-07-09T23:24:36.618792Z",
          "shell.execute_reply": "2022-07-09T23:24:36.634165Z"
        },
        "trusted": true,
        "id": "otoOebgs3l3H",
        "colab": {
          "base_uri": "https://localhost:8080/",
          "height": 363
        },
        "outputId": "85c01285-8ee0-489b-a4b6-2eac7ced7efa"
      },
      "execution_count": 2,
      "outputs": [
        {
          "output_type": "execute_result",
          "data": {
            "text/plain": [
              "       x       y\n",
              "18   5.9   81363\n",
              "6    3.0   60150\n",
              "26   9.5  116969\n",
              "33  12.9  135675\n",
              "22   7.9  101302\n",
              "31  11.5  126756\n",
              "4    2.2   39891\n",
              "0    1.1   39343\n",
              "30  11.2  127345\n",
              "29  10.5  121872"
            ],
            "text/html": [
              "\n",
              "  <div id=\"df-1010f7e1-171c-44ae-9a8a-4e901d81e0ab\" class=\"colab-df-container\">\n",
              "    <div>\n",
              "<style scoped>\n",
              "    .dataframe tbody tr th:only-of-type {\n",
              "        vertical-align: middle;\n",
              "    }\n",
              "\n",
              "    .dataframe tbody tr th {\n",
              "        vertical-align: top;\n",
              "    }\n",
              "\n",
              "    .dataframe thead th {\n",
              "        text-align: right;\n",
              "    }\n",
              "</style>\n",
              "<table border=\"1\" class=\"dataframe\">\n",
              "  <thead>\n",
              "    <tr style=\"text-align: right;\">\n",
              "      <th></th>\n",
              "      <th>x</th>\n",
              "      <th>y</th>\n",
              "    </tr>\n",
              "  </thead>\n",
              "  <tbody>\n",
              "    <tr>\n",
              "      <th>18</th>\n",
              "      <td>5.9</td>\n",
              "      <td>81363</td>\n",
              "    </tr>\n",
              "    <tr>\n",
              "      <th>6</th>\n",
              "      <td>3.0</td>\n",
              "      <td>60150</td>\n",
              "    </tr>\n",
              "    <tr>\n",
              "      <th>26</th>\n",
              "      <td>9.5</td>\n",
              "      <td>116969</td>\n",
              "    </tr>\n",
              "    <tr>\n",
              "      <th>33</th>\n",
              "      <td>12.9</td>\n",
              "      <td>135675</td>\n",
              "    </tr>\n",
              "    <tr>\n",
              "      <th>22</th>\n",
              "      <td>7.9</td>\n",
              "      <td>101302</td>\n",
              "    </tr>\n",
              "    <tr>\n",
              "      <th>31</th>\n",
              "      <td>11.5</td>\n",
              "      <td>126756</td>\n",
              "    </tr>\n",
              "    <tr>\n",
              "      <th>4</th>\n",
              "      <td>2.2</td>\n",
              "      <td>39891</td>\n",
              "    </tr>\n",
              "    <tr>\n",
              "      <th>0</th>\n",
              "      <td>1.1</td>\n",
              "      <td>39343</td>\n",
              "    </tr>\n",
              "    <tr>\n",
              "      <th>30</th>\n",
              "      <td>11.2</td>\n",
              "      <td>127345</td>\n",
              "    </tr>\n",
              "    <tr>\n",
              "      <th>29</th>\n",
              "      <td>10.5</td>\n",
              "      <td>121872</td>\n",
              "    </tr>\n",
              "  </tbody>\n",
              "</table>\n",
              "</div>\n",
              "    <div class=\"colab-df-buttons\">\n",
              "\n",
              "  <div class=\"colab-df-container\">\n",
              "    <button class=\"colab-df-convert\" onclick=\"convertToInteractive('df-1010f7e1-171c-44ae-9a8a-4e901d81e0ab')\"\n",
              "            title=\"Convert this dataframe to an interactive table.\"\n",
              "            style=\"display:none;\">\n",
              "\n",
              "  <svg xmlns=\"http://www.w3.org/2000/svg\" height=\"24px\" viewBox=\"0 -960 960 960\">\n",
              "    <path d=\"M120-120v-720h720v720H120Zm60-500h600v-160H180v160Zm220 220h160v-160H400v160Zm0 220h160v-160H400v160ZM180-400h160v-160H180v160Zm440 0h160v-160H620v160ZM180-180h160v-160H180v160Zm440 0h160v-160H620v160Z\"/>\n",
              "  </svg>\n",
              "    </button>\n",
              "\n",
              "  <style>\n",
              "    .colab-df-container {\n",
              "      display:flex;\n",
              "      gap: 12px;\n",
              "    }\n",
              "\n",
              "    .colab-df-convert {\n",
              "      background-color: #E8F0FE;\n",
              "      border: none;\n",
              "      border-radius: 50%;\n",
              "      cursor: pointer;\n",
              "      display: none;\n",
              "      fill: #1967D2;\n",
              "      height: 32px;\n",
              "      padding: 0 0 0 0;\n",
              "      width: 32px;\n",
              "    }\n",
              "\n",
              "    .colab-df-convert:hover {\n",
              "      background-color: #E2EBFA;\n",
              "      box-shadow: 0px 1px 2px rgba(60, 64, 67, 0.3), 0px 1px 3px 1px rgba(60, 64, 67, 0.15);\n",
              "      fill: #174EA6;\n",
              "    }\n",
              "\n",
              "    .colab-df-buttons div {\n",
              "      margin-bottom: 4px;\n",
              "    }\n",
              "\n",
              "    [theme=dark] .colab-df-convert {\n",
              "      background-color: #3B4455;\n",
              "      fill: #D2E3FC;\n",
              "    }\n",
              "\n",
              "    [theme=dark] .colab-df-convert:hover {\n",
              "      background-color: #434B5C;\n",
              "      box-shadow: 0px 1px 3px 1px rgba(0, 0, 0, 0.15);\n",
              "      filter: drop-shadow(0px 1px 2px rgba(0, 0, 0, 0.3));\n",
              "      fill: #FFFFFF;\n",
              "    }\n",
              "  </style>\n",
              "\n",
              "    <script>\n",
              "      const buttonEl =\n",
              "        document.querySelector('#df-1010f7e1-171c-44ae-9a8a-4e901d81e0ab button.colab-df-convert');\n",
              "      buttonEl.style.display =\n",
              "        google.colab.kernel.accessAllowed ? 'block' : 'none';\n",
              "\n",
              "      async function convertToInteractive(key) {\n",
              "        const element = document.querySelector('#df-1010f7e1-171c-44ae-9a8a-4e901d81e0ab');\n",
              "        const dataTable =\n",
              "          await google.colab.kernel.invokeFunction('convertToInteractive',\n",
              "                                                    [key], {});\n",
              "        if (!dataTable) return;\n",
              "\n",
              "        const docLinkHtml = 'Like what you see? Visit the ' +\n",
              "          '<a target=\"_blank\" href=https://colab.research.google.com/notebooks/data_table.ipynb>data table notebook</a>'\n",
              "          + ' to learn more about interactive tables.';\n",
              "        element.innerHTML = '';\n",
              "        dataTable['output_type'] = 'display_data';\n",
              "        await google.colab.output.renderOutput(dataTable, element);\n",
              "        const docLink = document.createElement('div');\n",
              "        docLink.innerHTML = docLinkHtml;\n",
              "        element.appendChild(docLink);\n",
              "      }\n",
              "    </script>\n",
              "  </div>\n",
              "\n",
              "\n",
              "<div id=\"df-5eac722d-7c36-4387-b467-3fad7fa1ea91\">\n",
              "  <button class=\"colab-df-quickchart\" onclick=\"quickchart('df-5eac722d-7c36-4387-b467-3fad7fa1ea91')\"\n",
              "            title=\"Suggest charts\"\n",
              "            style=\"display:none;\">\n",
              "\n",
              "<svg xmlns=\"http://www.w3.org/2000/svg\" height=\"24px\"viewBox=\"0 0 24 24\"\n",
              "     width=\"24px\">\n",
              "    <g>\n",
              "        <path d=\"M19 3H5c-1.1 0-2 .9-2 2v14c0 1.1.9 2 2 2h14c1.1 0 2-.9 2-2V5c0-1.1-.9-2-2-2zM9 17H7v-7h2v7zm4 0h-2V7h2v10zm4 0h-2v-4h2v4z\"/>\n",
              "    </g>\n",
              "</svg>\n",
              "  </button>\n",
              "\n",
              "<style>\n",
              "  .colab-df-quickchart {\n",
              "      --bg-color: #E8F0FE;\n",
              "      --fill-color: #1967D2;\n",
              "      --hover-bg-color: #E2EBFA;\n",
              "      --hover-fill-color: #174EA6;\n",
              "      --disabled-fill-color: #AAA;\n",
              "      --disabled-bg-color: #DDD;\n",
              "  }\n",
              "\n",
              "  [theme=dark] .colab-df-quickchart {\n",
              "      --bg-color: #3B4455;\n",
              "      --fill-color: #D2E3FC;\n",
              "      --hover-bg-color: #434B5C;\n",
              "      --hover-fill-color: #FFFFFF;\n",
              "      --disabled-bg-color: #3B4455;\n",
              "      --disabled-fill-color: #666;\n",
              "  }\n",
              "\n",
              "  .colab-df-quickchart {\n",
              "    background-color: var(--bg-color);\n",
              "    border: none;\n",
              "    border-radius: 50%;\n",
              "    cursor: pointer;\n",
              "    display: none;\n",
              "    fill: var(--fill-color);\n",
              "    height: 32px;\n",
              "    padding: 0;\n",
              "    width: 32px;\n",
              "  }\n",
              "\n",
              "  .colab-df-quickchart:hover {\n",
              "    background-color: var(--hover-bg-color);\n",
              "    box-shadow: 0 1px 2px rgba(60, 64, 67, 0.3), 0 1px 3px 1px rgba(60, 64, 67, 0.15);\n",
              "    fill: var(--button-hover-fill-color);\n",
              "  }\n",
              "\n",
              "  .colab-df-quickchart-complete:disabled,\n",
              "  .colab-df-quickchart-complete:disabled:hover {\n",
              "    background-color: var(--disabled-bg-color);\n",
              "    fill: var(--disabled-fill-color);\n",
              "    box-shadow: none;\n",
              "  }\n",
              "\n",
              "  .colab-df-spinner {\n",
              "    border: 2px solid var(--fill-color);\n",
              "    border-color: transparent;\n",
              "    border-bottom-color: var(--fill-color);\n",
              "    animation:\n",
              "      spin 1s steps(1) infinite;\n",
              "  }\n",
              "\n",
              "  @keyframes spin {\n",
              "    0% {\n",
              "      border-color: transparent;\n",
              "      border-bottom-color: var(--fill-color);\n",
              "      border-left-color: var(--fill-color);\n",
              "    }\n",
              "    20% {\n",
              "      border-color: transparent;\n",
              "      border-left-color: var(--fill-color);\n",
              "      border-top-color: var(--fill-color);\n",
              "    }\n",
              "    30% {\n",
              "      border-color: transparent;\n",
              "      border-left-color: var(--fill-color);\n",
              "      border-top-color: var(--fill-color);\n",
              "      border-right-color: var(--fill-color);\n",
              "    }\n",
              "    40% {\n",
              "      border-color: transparent;\n",
              "      border-right-color: var(--fill-color);\n",
              "      border-top-color: var(--fill-color);\n",
              "    }\n",
              "    60% {\n",
              "      border-color: transparent;\n",
              "      border-right-color: var(--fill-color);\n",
              "    }\n",
              "    80% {\n",
              "      border-color: transparent;\n",
              "      border-right-color: var(--fill-color);\n",
              "      border-bottom-color: var(--fill-color);\n",
              "    }\n",
              "    90% {\n",
              "      border-color: transparent;\n",
              "      border-bottom-color: var(--fill-color);\n",
              "    }\n",
              "  }\n",
              "</style>\n",
              "\n",
              "  <script>\n",
              "    async function quickchart(key) {\n",
              "      const quickchartButtonEl =\n",
              "        document.querySelector('#' + key + ' button');\n",
              "      quickchartButtonEl.disabled = true;  // To prevent multiple clicks.\n",
              "      quickchartButtonEl.classList.add('colab-df-spinner');\n",
              "      try {\n",
              "        const charts = await google.colab.kernel.invokeFunction(\n",
              "            'suggestCharts', [key], {});\n",
              "      } catch (error) {\n",
              "        console.error('Error during call to suggestCharts:', error);\n",
              "      }\n",
              "      quickchartButtonEl.classList.remove('colab-df-spinner');\n",
              "      quickchartButtonEl.classList.add('colab-df-quickchart-complete');\n",
              "    }\n",
              "    (() => {\n",
              "      let quickchartButtonEl =\n",
              "        document.querySelector('#df-5eac722d-7c36-4387-b467-3fad7fa1ea91 button');\n",
              "      quickchartButtonEl.style.display =\n",
              "        google.colab.kernel.accessAllowed ? 'block' : 'none';\n",
              "    })();\n",
              "  </script>\n",
              "</div>\n",
              "\n",
              "    </div>\n",
              "  </div>\n"
            ],
            "application/vnd.google.colaboratory.intrinsic+json": {
              "type": "dataframe",
              "summary": "{\n  \"name\": \"salary_data\",\n  \"rows\": 10,\n  \"fields\": [\n    {\n      \"column\": \"x\",\n      \"properties\": {\n        \"dtype\": \"number\",\n        \"std\": 4.266419263660492,\n        \"min\": 1.1,\n        \"max\": 12.9,\n        \"num_unique_values\": 10,\n        \"samples\": [\n          11.2,\n          3.0,\n          11.5\n        ],\n        \"semantic_type\": \"\",\n        \"description\": \"\"\n      }\n    },\n    {\n      \"column\": \"y\",\n      \"properties\": {\n        \"dtype\": \"number\",\n        \"std\": 37250,\n        \"min\": 39343,\n        \"max\": 135675,\n        \"num_unique_values\": 10,\n        \"samples\": [\n          127345,\n          60150,\n          126756\n        ],\n        \"semantic_type\": \"\",\n        \"description\": \"\"\n      }\n    }\n  ]\n}"
            }
          },
          "metadata": {},
          "execution_count": 2
        }
      ]
    },
    {
      "cell_type": "markdown",
      "source": [
        "* La primera columna *YearsExperience* representa los años de experiencia de un trabajador individual.\n",
        "* La segunda columna *Salary* representa el salario anual de un trabajador individual.\n"
      ],
      "metadata": {
        "id": "W3RheeUO3l3I"
      }
    },
    {
      "cell_type": "markdown",
      "source": [
        "Vemos cuantos registros y columnas trae nuestro dataset;"
      ],
      "metadata": {
        "id": "fTz3dTDU3l3I"
      }
    },
    {
      "cell_type": "code",
      "source": [
        "salary_data.shape"
      ],
      "metadata": {
        "execution": {
          "iopub.status.busy": "2022-07-09T23:24:44.887488Z",
          "iopub.execute_input": "2022-07-09T23:24:44.888011Z",
          "iopub.status.idle": "2022-07-09T23:24:44.895415Z",
          "shell.execute_reply.started": "2022-07-09T23:24:44.887963Z",
          "shell.execute_reply": "2022-07-09T23:24:44.894525Z"
        },
        "trusted": true,
        "id": "b5d4LbGh3l3I",
        "colab": {
          "base_uri": "https://localhost:8080/"
        },
        "outputId": "02807026-e316-4631-97ad-daac37b090fa"
      },
      "execution_count": 3,
      "outputs": [
        {
          "output_type": "execute_result",
          "data": {
            "text/plain": [
              "(35, 2)"
            ]
          },
          "metadata": {},
          "execution_count": 3
        }
      ]
    },
    {
      "cell_type": "markdown",
      "source": [
        "Tenemos 35 registros y 2 columnas."
      ],
      "metadata": {
        "id": "NXcR83UG3l3J"
      }
    },
    {
      "cell_type": "markdown",
      "source": [
        "Podemos revisar la presencia de valores nulos con la función *info()*:"
      ],
      "metadata": {
        "id": "syKmPkX83l3J"
      }
    },
    {
      "cell_type": "code",
      "source": [
        "salary_data.info()"
      ],
      "metadata": {
        "execution": {
          "iopub.status.busy": "2022-07-09T23:25:06.088736Z",
          "iopub.execute_input": "2022-07-09T23:25:06.089427Z",
          "iopub.status.idle": "2022-07-09T23:25:06.102619Z",
          "shell.execute_reply.started": "2022-07-09T23:25:06.089388Z",
          "shell.execute_reply": "2022-07-09T23:25:06.101372Z"
        },
        "trusted": true,
        "id": "_2ripQA23l3J",
        "colab": {
          "base_uri": "https://localhost:8080/"
        },
        "outputId": "2f1bfb6a-bb9a-494d-bfdc-67b213ea7fdd"
      },
      "execution_count": 4,
      "outputs": [
        {
          "output_type": "stream",
          "name": "stdout",
          "text": [
            "<class 'pandas.core.frame.DataFrame'>\n",
            "RangeIndex: 35 entries, 0 to 34\n",
            "Data columns (total 2 columns):\n",
            " #   Column  Non-Null Count  Dtype  \n",
            "---  ------  --------------  -----  \n",
            " 0   x       35 non-null     float64\n",
            " 1   y       35 non-null     int64  \n",
            "dtypes: float64(1), int64(1)\n",
            "memory usage: 688.0 bytes\n"
          ]
        }
      ]
    },
    {
      "cell_type": "markdown",
      "source": [
        "* El campo *YearsExperience* presenta 35 valores no nulos, es decir, presenta 35-35 = 0 valores nulos\n",
        "* El campo *Salary* presenta 35 valores no nulos, es decir, tampoco presenta valores nulos\n"
      ],
      "metadata": {
        "id": "iqdPXjjq3l3J"
      }
    },
    {
      "cell_type": "markdown",
      "source": [
        "Estadística descriptiva de los datos:"
      ],
      "metadata": {
        "id": "utlu4izd3l3J"
      }
    },
    {
      "cell_type": "code",
      "source": [
        "salary_data.describe()"
      ],
      "metadata": {
        "execution": {
          "iopub.status.busy": "2022-07-09T23:25:34.850775Z",
          "iopub.execute_input": "2022-07-09T23:25:34.851144Z",
          "iopub.status.idle": "2022-07-09T23:25:34.873314Z",
          "shell.execute_reply.started": "2022-07-09T23:25:34.851116Z",
          "shell.execute_reply": "2022-07-09T23:25:34.871179Z"
        },
        "trusted": true,
        "id": "d7b1Rbmq3l3J",
        "colab": {
          "base_uri": "https://localhost:8080/",
          "height": 300
        },
        "outputId": "f2a86b92-28a1-4855-9e28-71cf8e083fcf"
      },
      "execution_count": 5,
      "outputs": [
        {
          "output_type": "execute_result",
          "data": {
            "text/plain": [
              "               x              y\n",
              "count  35.000000      35.000000\n",
              "mean    6.308571   83945.600000\n",
              "std     3.618610   32162.673003\n",
              "min     1.100000   37731.000000\n",
              "25%     3.450000   57019.000000\n",
              "50%     5.300000   81363.000000\n",
              "75%     9.250000  113223.500000\n",
              "max    13.500000  139465.000000"
            ],
            "text/html": [
              "\n",
              "  <div id=\"df-9a7cd22f-f366-4d6a-b078-baadad34b8b0\" class=\"colab-df-container\">\n",
              "    <div>\n",
              "<style scoped>\n",
              "    .dataframe tbody tr th:only-of-type {\n",
              "        vertical-align: middle;\n",
              "    }\n",
              "\n",
              "    .dataframe tbody tr th {\n",
              "        vertical-align: top;\n",
              "    }\n",
              "\n",
              "    .dataframe thead th {\n",
              "        text-align: right;\n",
              "    }\n",
              "</style>\n",
              "<table border=\"1\" class=\"dataframe\">\n",
              "  <thead>\n",
              "    <tr style=\"text-align: right;\">\n",
              "      <th></th>\n",
              "      <th>x</th>\n",
              "      <th>y</th>\n",
              "    </tr>\n",
              "  </thead>\n",
              "  <tbody>\n",
              "    <tr>\n",
              "      <th>count</th>\n",
              "      <td>35.000000</td>\n",
              "      <td>35.000000</td>\n",
              "    </tr>\n",
              "    <tr>\n",
              "      <th>mean</th>\n",
              "      <td>6.308571</td>\n",
              "      <td>83945.600000</td>\n",
              "    </tr>\n",
              "    <tr>\n",
              "      <th>std</th>\n",
              "      <td>3.618610</td>\n",
              "      <td>32162.673003</td>\n",
              "    </tr>\n",
              "    <tr>\n",
              "      <th>min</th>\n",
              "      <td>1.100000</td>\n",
              "      <td>37731.000000</td>\n",
              "    </tr>\n",
              "    <tr>\n",
              "      <th>25%</th>\n",
              "      <td>3.450000</td>\n",
              "      <td>57019.000000</td>\n",
              "    </tr>\n",
              "    <tr>\n",
              "      <th>50%</th>\n",
              "      <td>5.300000</td>\n",
              "      <td>81363.000000</td>\n",
              "    </tr>\n",
              "    <tr>\n",
              "      <th>75%</th>\n",
              "      <td>9.250000</td>\n",
              "      <td>113223.500000</td>\n",
              "    </tr>\n",
              "    <tr>\n",
              "      <th>max</th>\n",
              "      <td>13.500000</td>\n",
              "      <td>139465.000000</td>\n",
              "    </tr>\n",
              "  </tbody>\n",
              "</table>\n",
              "</div>\n",
              "    <div class=\"colab-df-buttons\">\n",
              "\n",
              "  <div class=\"colab-df-container\">\n",
              "    <button class=\"colab-df-convert\" onclick=\"convertToInteractive('df-9a7cd22f-f366-4d6a-b078-baadad34b8b0')\"\n",
              "            title=\"Convert this dataframe to an interactive table.\"\n",
              "            style=\"display:none;\">\n",
              "\n",
              "  <svg xmlns=\"http://www.w3.org/2000/svg\" height=\"24px\" viewBox=\"0 -960 960 960\">\n",
              "    <path d=\"M120-120v-720h720v720H120Zm60-500h600v-160H180v160Zm220 220h160v-160H400v160Zm0 220h160v-160H400v160ZM180-400h160v-160H180v160Zm440 0h160v-160H620v160ZM180-180h160v-160H180v160Zm440 0h160v-160H620v160Z\"/>\n",
              "  </svg>\n",
              "    </button>\n",
              "\n",
              "  <style>\n",
              "    .colab-df-container {\n",
              "      display:flex;\n",
              "      gap: 12px;\n",
              "    }\n",
              "\n",
              "    .colab-df-convert {\n",
              "      background-color: #E8F0FE;\n",
              "      border: none;\n",
              "      border-radius: 50%;\n",
              "      cursor: pointer;\n",
              "      display: none;\n",
              "      fill: #1967D2;\n",
              "      height: 32px;\n",
              "      padding: 0 0 0 0;\n",
              "      width: 32px;\n",
              "    }\n",
              "\n",
              "    .colab-df-convert:hover {\n",
              "      background-color: #E2EBFA;\n",
              "      box-shadow: 0px 1px 2px rgba(60, 64, 67, 0.3), 0px 1px 3px 1px rgba(60, 64, 67, 0.15);\n",
              "      fill: #174EA6;\n",
              "    }\n",
              "\n",
              "    .colab-df-buttons div {\n",
              "      margin-bottom: 4px;\n",
              "    }\n",
              "\n",
              "    [theme=dark] .colab-df-convert {\n",
              "      background-color: #3B4455;\n",
              "      fill: #D2E3FC;\n",
              "    }\n",
              "\n",
              "    [theme=dark] .colab-df-convert:hover {\n",
              "      background-color: #434B5C;\n",
              "      box-shadow: 0px 1px 3px 1px rgba(0, 0, 0, 0.15);\n",
              "      filter: drop-shadow(0px 1px 2px rgba(0, 0, 0, 0.3));\n",
              "      fill: #FFFFFF;\n",
              "    }\n",
              "  </style>\n",
              "\n",
              "    <script>\n",
              "      const buttonEl =\n",
              "        document.querySelector('#df-9a7cd22f-f366-4d6a-b078-baadad34b8b0 button.colab-df-convert');\n",
              "      buttonEl.style.display =\n",
              "        google.colab.kernel.accessAllowed ? 'block' : 'none';\n",
              "\n",
              "      async function convertToInteractive(key) {\n",
              "        const element = document.querySelector('#df-9a7cd22f-f366-4d6a-b078-baadad34b8b0');\n",
              "        const dataTable =\n",
              "          await google.colab.kernel.invokeFunction('convertToInteractive',\n",
              "                                                    [key], {});\n",
              "        if (!dataTable) return;\n",
              "\n",
              "        const docLinkHtml = 'Like what you see? Visit the ' +\n",
              "          '<a target=\"_blank\" href=https://colab.research.google.com/notebooks/data_table.ipynb>data table notebook</a>'\n",
              "          + ' to learn more about interactive tables.';\n",
              "        element.innerHTML = '';\n",
              "        dataTable['output_type'] = 'display_data';\n",
              "        await google.colab.output.renderOutput(dataTable, element);\n",
              "        const docLink = document.createElement('div');\n",
              "        docLink.innerHTML = docLinkHtml;\n",
              "        element.appendChild(docLink);\n",
              "      }\n",
              "    </script>\n",
              "  </div>\n",
              "\n",
              "\n",
              "<div id=\"df-21713d69-59c8-4494-9fe3-268623265af5\">\n",
              "  <button class=\"colab-df-quickchart\" onclick=\"quickchart('df-21713d69-59c8-4494-9fe3-268623265af5')\"\n",
              "            title=\"Suggest charts\"\n",
              "            style=\"display:none;\">\n",
              "\n",
              "<svg xmlns=\"http://www.w3.org/2000/svg\" height=\"24px\"viewBox=\"0 0 24 24\"\n",
              "     width=\"24px\">\n",
              "    <g>\n",
              "        <path d=\"M19 3H5c-1.1 0-2 .9-2 2v14c0 1.1.9 2 2 2h14c1.1 0 2-.9 2-2V5c0-1.1-.9-2-2-2zM9 17H7v-7h2v7zm4 0h-2V7h2v10zm4 0h-2v-4h2v4z\"/>\n",
              "    </g>\n",
              "</svg>\n",
              "  </button>\n",
              "\n",
              "<style>\n",
              "  .colab-df-quickchart {\n",
              "      --bg-color: #E8F0FE;\n",
              "      --fill-color: #1967D2;\n",
              "      --hover-bg-color: #E2EBFA;\n",
              "      --hover-fill-color: #174EA6;\n",
              "      --disabled-fill-color: #AAA;\n",
              "      --disabled-bg-color: #DDD;\n",
              "  }\n",
              "\n",
              "  [theme=dark] .colab-df-quickchart {\n",
              "      --bg-color: #3B4455;\n",
              "      --fill-color: #D2E3FC;\n",
              "      --hover-bg-color: #434B5C;\n",
              "      --hover-fill-color: #FFFFFF;\n",
              "      --disabled-bg-color: #3B4455;\n",
              "      --disabled-fill-color: #666;\n",
              "  }\n",
              "\n",
              "  .colab-df-quickchart {\n",
              "    background-color: var(--bg-color);\n",
              "    border: none;\n",
              "    border-radius: 50%;\n",
              "    cursor: pointer;\n",
              "    display: none;\n",
              "    fill: var(--fill-color);\n",
              "    height: 32px;\n",
              "    padding: 0;\n",
              "    width: 32px;\n",
              "  }\n",
              "\n",
              "  .colab-df-quickchart:hover {\n",
              "    background-color: var(--hover-bg-color);\n",
              "    box-shadow: 0 1px 2px rgba(60, 64, 67, 0.3), 0 1px 3px 1px rgba(60, 64, 67, 0.15);\n",
              "    fill: var(--button-hover-fill-color);\n",
              "  }\n",
              "\n",
              "  .colab-df-quickchart-complete:disabled,\n",
              "  .colab-df-quickchart-complete:disabled:hover {\n",
              "    background-color: var(--disabled-bg-color);\n",
              "    fill: var(--disabled-fill-color);\n",
              "    box-shadow: none;\n",
              "  }\n",
              "\n",
              "  .colab-df-spinner {\n",
              "    border: 2px solid var(--fill-color);\n",
              "    border-color: transparent;\n",
              "    border-bottom-color: var(--fill-color);\n",
              "    animation:\n",
              "      spin 1s steps(1) infinite;\n",
              "  }\n",
              "\n",
              "  @keyframes spin {\n",
              "    0% {\n",
              "      border-color: transparent;\n",
              "      border-bottom-color: var(--fill-color);\n",
              "      border-left-color: var(--fill-color);\n",
              "    }\n",
              "    20% {\n",
              "      border-color: transparent;\n",
              "      border-left-color: var(--fill-color);\n",
              "      border-top-color: var(--fill-color);\n",
              "    }\n",
              "    30% {\n",
              "      border-color: transparent;\n",
              "      border-left-color: var(--fill-color);\n",
              "      border-top-color: var(--fill-color);\n",
              "      border-right-color: var(--fill-color);\n",
              "    }\n",
              "    40% {\n",
              "      border-color: transparent;\n",
              "      border-right-color: var(--fill-color);\n",
              "      border-top-color: var(--fill-color);\n",
              "    }\n",
              "    60% {\n",
              "      border-color: transparent;\n",
              "      border-right-color: var(--fill-color);\n",
              "    }\n",
              "    80% {\n",
              "      border-color: transparent;\n",
              "      border-right-color: var(--fill-color);\n",
              "      border-bottom-color: var(--fill-color);\n",
              "    }\n",
              "    90% {\n",
              "      border-color: transparent;\n",
              "      border-bottom-color: var(--fill-color);\n",
              "    }\n",
              "  }\n",
              "</style>\n",
              "\n",
              "  <script>\n",
              "    async function quickchart(key) {\n",
              "      const quickchartButtonEl =\n",
              "        document.querySelector('#' + key + ' button');\n",
              "      quickchartButtonEl.disabled = true;  // To prevent multiple clicks.\n",
              "      quickchartButtonEl.classList.add('colab-df-spinner');\n",
              "      try {\n",
              "        const charts = await google.colab.kernel.invokeFunction(\n",
              "            'suggestCharts', [key], {});\n",
              "      } catch (error) {\n",
              "        console.error('Error during call to suggestCharts:', error);\n",
              "      }\n",
              "      quickchartButtonEl.classList.remove('colab-df-spinner');\n",
              "      quickchartButtonEl.classList.add('colab-df-quickchart-complete');\n",
              "    }\n",
              "    (() => {\n",
              "      let quickchartButtonEl =\n",
              "        document.querySelector('#df-21713d69-59c8-4494-9fe3-268623265af5 button');\n",
              "      quickchartButtonEl.style.display =\n",
              "        google.colab.kernel.accessAllowed ? 'block' : 'none';\n",
              "    })();\n",
              "  </script>\n",
              "</div>\n",
              "\n",
              "    </div>\n",
              "  </div>\n"
            ],
            "application/vnd.google.colaboratory.intrinsic+json": {
              "type": "dataframe",
              "summary": "{\n  \"name\": \"salary_data\",\n  \"rows\": 8,\n  \"fields\": [\n    {\n      \"column\": \"x\",\n      \"properties\": {\n        \"dtype\": \"number\",\n        \"std\": 10.925719544509692,\n        \"min\": 1.1,\n        \"max\": 35.0,\n        \"num_unique_values\": 8,\n        \"samples\": [\n          6.30857142857143,\n          5.3,\n          35.0\n        ],\n        \"semantic_type\": \"\",\n        \"description\": \"\"\n      }\n    },\n    {\n      \"column\": \"y\",\n      \"properties\": {\n        \"dtype\": \"number\",\n        \"std\": 45552.92288626562,\n        \"min\": 35.0,\n        \"max\": 139465.0,\n        \"num_unique_values\": 8,\n        \"samples\": [\n          83945.6,\n          81363.0,\n          35.0\n        ],\n        \"semantic_type\": \"\",\n        \"description\": \"\"\n      }\n    }\n  ]\n}"
            }
          },
          "metadata": {},
          "execution_count": 5
        }
      ]
    },
    {
      "cell_type": "markdown",
      "source": [
        "* El promedio de numero de años de experiencia que tiene un individuo en este dataset es de 6.3 años.\n",
        "* El salario (en dólares) promedio de un individuo en este dataset es de $83,945.6\n"
      ],
      "metadata": {
        "id": "SMffkI7v3l3K"
      }
    },
    {
      "cell_type": "markdown",
      "source": [
        "Podemos examinar la presencia de *outliers* revisando la presencia de sesgos en los datos."
      ],
      "metadata": {
        "id": "ws4b7iCk3l3K"
      }
    },
    {
      "cell_type": "code",
      "source": [
        "salary_data.skew()"
      ],
      "metadata": {
        "execution": {
          "iopub.status.busy": "2022-07-09T23:26:44.992965Z",
          "iopub.execute_input": "2022-07-09T23:26:44.99338Z",
          "iopub.status.idle": "2022-07-09T23:26:45.002837Z",
          "shell.execute_reply.started": "2022-07-09T23:26:44.993345Z",
          "shell.execute_reply": "2022-07-09T23:26:45.002011Z"
        },
        "trusted": true,
        "id": "hCaLLCeU3l3K",
        "colab": {
          "base_uri": "https://localhost:8080/"
        },
        "outputId": "dfbe08da-d901-4310-8fa0-3cd63e17dd01"
      },
      "execution_count": 6,
      "outputs": [
        {
          "output_type": "execute_result",
          "data": {
            "text/plain": [
              "x    0.420163\n",
              "y    0.209005\n",
              "dtype: float64"
            ]
          },
          "metadata": {},
          "execution_count": 6
        }
      ]
    },
    {
      "cell_type": "markdown",
      "source": [
        "* El sesgo para *YearsExperience* se aproxima a cero, esto parece indicar valores asimétricos distantes de la media son poco probables\n",
        "* El sesgo para *Salary* se aproxima a cero también, esto es otra indicación que no existen *outliers* en los datos de *Salary*"
      ],
      "metadata": {
        "id": "xjOYUU-R3l3K"
      }
    },
    {
      "cell_type": "markdown",
      "source": [
        "Revisamos de manera visual como esta distribuida la data:\n",
        "\n",
        "\n",
        "Desplegamos un histograma para *YearsExperience*, y vemos que la distribución esta ligeramente sesgada hacia la derecha."
      ],
      "metadata": {
        "id": "9pD0Dz5j3l3K"
      }
    },
    {
      "cell_type": "code",
      "source": [
        "plt.figure(figsize = (12, 6))\n",
        "\n",
        "sns.histplot(x = salary_data['x'], bins = 20, kde = True, color = 'orange')"
      ],
      "metadata": {
        "execution": {
          "iopub.status.busy": "2022-07-09T23:27:44.11302Z",
          "iopub.execute_input": "2022-07-09T23:27:44.113418Z",
          "iopub.status.idle": "2022-07-09T23:27:44.404406Z",
          "shell.execute_reply.started": "2022-07-09T23:27:44.113387Z",
          "shell.execute_reply": "2022-07-09T23:27:44.403016Z"
        },
        "trusted": true,
        "id": "6x-8pESg3l3K",
        "colab": {
          "base_uri": "https://localhost:8080/",
          "height": 559
        },
        "outputId": "473ba877-f703-41be-be69-496beacfe56e"
      },
      "execution_count": 7,
      "outputs": [
        {
          "output_type": "execute_result",
          "data": {
            "text/plain": [
              "<Axes: xlabel='x', ylabel='Count'>"
            ]
          },
          "metadata": {},
          "execution_count": 7
        },
        {
          "output_type": "display_data",
          "data": {
            "text/plain": [
              "<Figure size 1200x600 with 1 Axes>"
            ],
            "image/png": "[encoded data removed]"
          },
          "metadata": {}
        }
      ]
    },
    {
      "cell_type": "markdown",
      "source": [
        "* Vemos que no hay una forma clara de la distribución de *YearsExperience*, pero también podemos ver que no hay valores extremos (no hay *outliers*)\n",
        "* *YearsExperience* siempre esta en el rango aprox. de 1 años a 13 años"
      ],
      "metadata": {
        "id": "wWs8z_7l3l3K"
      }
    },
    {
      "cell_type": "markdown",
      "source": [
        "Ahora revisamos la columna *Salary*.  Realizamos un histograma para visualizar su distribución."
      ],
      "metadata": {
        "id": "SgYgwSCl3l3L"
      }
    },
    {
      "cell_type": "code",
      "source": [
        "plt.figure(figsize = (12, 6))\n",
        "\n",
        "sns.histplot(x = salary_data['y'], bins = 30, kde = True, color = 'green')"
      ],
      "metadata": {
        "execution": {
          "iopub.status.busy": "2022-07-09T23:28:38.021093Z",
          "iopub.execute_input": "2022-07-09T23:28:38.021574Z",
          "iopub.status.idle": "2022-07-09T23:28:38.281689Z",
          "shell.execute_reply.started": "2022-07-09T23:28:38.021536Z",
          "shell.execute_reply": "2022-07-09T23:28:38.280683Z"
        },
        "trusted": true,
        "id": "XkRiCGlI3l3L",
        "colab": {
          "base_uri": "https://localhost:8080/",
          "height": 559
        },
        "outputId": "7e2feaf4-2a1b-48fd-89c2-c51a0f999458"
      },
      "execution_count": 8,
      "outputs": [
        {
          "output_type": "execute_result",
          "data": {
            "text/plain": [
              "<Axes: xlabel='y', ylabel='Count'>"
            ]
          },
          "metadata": {},
          "execution_count": 8
        },
        {
          "output_type": "display_data",
          "data": {
            "text/plain": [
              "<Figure size 1200x600 with 1 Axes>"
            ],
            "image/png": "[encoded data removed]"
          },
          "metadata": {}
        }
      ]
    },
    {
      "cell_type": "markdown",
      "source": [
        "* Podemos observar que *Salary* tampoco tiene una distribución clara, pero de igual manera no presenta *outliers*\n",
        "* La mayoría de la información de *Salary* se encuentra en el rango entre aprox. de 40,000 dólares y 114,000 dólares\n",
        "* *Salary* tiene un ligero sesgo hacia la derecha."
      ],
      "metadata": {
        "id": "uVIlp2bp3l3L"
      }
    },
    {
      "cell_type": "markdown",
      "source": [
        "Revisamos la representación Box Plot de *YearsExperience* para revisar cualquier *outlier*:\n",
        "* El Box Plot nos da un resumen general de las estadísticas\n",
        "    * La linea central del Box Plot, la *mediana* de la columna Experiencia (en años), es aprox. de 5 años.\n",
        "    * La caja representa el rango intercuartil\n",
        "        * El valor en el percentil 75 esta en el borde superior de la caja\n",
        "        * El valor en el percentil 25 esta en el borde inferior de la caja\n",
        "        * El rango intercuartil va desde los 3 años hacia los 9.5 años\n",
        "* No existen *outliers* visibles en *YearsExperience*"
      ],
      "metadata": {
        "id": "57m9yHIo3l3L"
      }
    },
    {
      "cell_type": "code",
      "source": [
        "plt.figure(figsize = (12, 8))\n",
        "\n",
        "sns.boxplot(y = salary_data['x'], color = 'azure')"
      ],
      "metadata": {
        "execution": {
          "iopub.status.busy": "2022-07-09T23:35:02.674768Z",
          "iopub.execute_input": "2022-07-09T23:35:02.675187Z",
          "iopub.status.idle": "2022-07-09T23:35:02.848772Z",
          "shell.execute_reply.started": "2022-07-09T23:35:02.675154Z",
          "shell.execute_reply": "2022-07-09T23:35:02.847632Z"
        },
        "trusted": true,
        "id": "TTJomVlX3l3L",
        "colab": {
          "base_uri": "https://localhost:8080/",
          "height": 674
        },
        "outputId": "9a7f6d77-2b2c-4ed1-93ed-78e13f47f326"
      },
      "execution_count": 9,
      "outputs": [
        {
          "output_type": "execute_result",
          "data": {
            "text/plain": [
              "<Axes: ylabel='x'>"
            ]
          },
          "metadata": {},
          "execution_count": 9
        },
        {
          "output_type": "display_data",
          "data": {
            "text/plain": [
              "<Figure size 1200x800 with 1 Axes>"
            ],
            "image/png": "[encoded data removed]"
          },
          "metadata": {}
        }
      ]
    },
    {
      "cell_type": "markdown",
      "source": [
        "Veamos ahora el Box Plot para *Salary*:\n",
        "* Tampoco presenta *outliers* visibles\n",
        "* La mediana para *Salary* es aprox. de 81,000 dólares"
      ],
      "metadata": {
        "id": "xrf7WxTK3l3L"
      }
    },
    {
      "cell_type": "code",
      "source": [
        "plt.figure(figsize = (12, 8))\n",
        "\n",
        "sns.boxplot(y = salary_data['y'], color = 'maroon')"
      ],
      "metadata": {
        "execution": {
          "iopub.status.busy": "2022-07-09T23:36:23.650653Z",
          "iopub.execute_input": "2022-07-09T23:36:23.651041Z",
          "iopub.status.idle": "2022-07-09T23:36:23.820193Z",
          "shell.execute_reply.started": "2022-07-09T23:36:23.651009Z",
          "shell.execute_reply": "2022-07-09T23:36:23.81908Z"
        },
        "trusted": true,
        "id": "RyToDUtK3l3L",
        "colab": {
          "base_uri": "https://localhost:8080/",
          "height": 674
        },
        "outputId": "705ed3d6-c5c6-49af-f114-51fcc2147a4f"
      },
      "execution_count": 10,
      "outputs": [
        {
          "output_type": "execute_result",
          "data": {
            "text/plain": [
              "<Axes: ylabel='y'>"
            ]
          },
          "metadata": {},
          "execution_count": 10
        },
        {
          "output_type": "display_data",
          "data": {
            "text/plain": [
              "<Figure size 1200x800 with 1 Axes>"
            ],
            "image/png": "[encoded data removed]"
          },
          "metadata": {}
        }
      ]
    },
    {
      "cell_type": "markdown",
      "source": [
        "## Tratamiento de *outliers* y valores faltantes"
      ],
      "metadata": {
        "id": "jQVVmKNb3l3M"
      }
    },
    {
      "cell_type": "markdown",
      "source": [
        "* A pesar que en nuestro análisis grafico anterior no tuvimos indicación que existan *outliers*, ahora vamos a proceder hacer un análisis un poco más numérico.\n",
        "* No podemos trabajar con datos faltantes o con *outliers* en nuestros análisis de regresión, por lo que necesitamos realizar el pre-procesamiento de los datos y tratar los valores faltantes y los valores atípicos (*outliers*)."
      ],
      "metadata": {
        "id": "gR3o8Wy13l3M"
      }
    },
    {
      "cell_type": "markdown",
      "source": [
        "### Outliers"
      ],
      "metadata": {
        "id": "ybYEyLok3l3M"
      }
    },
    {
      "cell_type": "markdown",
      "source": [
        "Primero vamos a calcular el rango intercuartil.  Para ello es necesario calcular el primer cuartil y el tercer cuartil:"
      ],
      "metadata": {
        "id": "4chD2kUm3l3M"
      }
    },
    {
      "cell_type": "code",
      "source": [
        "Q1 = salary_data.quantile(0.25, axis=0)\n",
        "\n",
        "print('Primer Cuartil:')\n",
        "print(Q1)"
      ],
      "metadata": {
        "execution": {
          "iopub.status.busy": "2022-07-09T23:38:21.415121Z",
          "iopub.execute_input": "2022-07-09T23:38:21.415529Z",
          "iopub.status.idle": "2022-07-09T23:38:21.424944Z",
          "shell.execute_reply.started": "2022-07-09T23:38:21.415499Z",
          "shell.execute_reply": "2022-07-09T23:38:21.423718Z"
        },
        "trusted": true,
        "id": "gQrumTaA3l3M",
        "colab": {
          "base_uri": "https://localhost:8080/"
        },
        "outputId": "eb4b0cba-9e2f-4d0b-f49f-3ac9f6be42a1"
      },
      "execution_count": 11,
      "outputs": [
        {
          "output_type": "stream",
          "name": "stdout",
          "text": [
            "Primer Cuartil:\n",
            "x        3.45\n",
            "y    57019.00\n",
            "Name: 0.25, dtype: float64\n"
          ]
        }
      ]
    },
    {
      "cell_type": "markdown",
      "source": [
        "Tenemos un primer cuartil de 3.45 años para *YearsExperience* y aproximadamente $57,000 para *Salary*"
      ],
      "metadata": {
        "id": "GLLebI-03l3M"
      }
    },
    {
      "cell_type": "code",
      "source": [
        "Q3 = salary_data.quantile(0.75, axis = 0)\n",
        "\n",
        "print('Tercer Cuartil:')\n",
        "print(Q3)"
      ],
      "metadata": {
        "execution": {
          "iopub.status.busy": "2022-07-09T23:38:24.32737Z",
          "iopub.execute_input": "2022-07-09T23:38:24.328389Z",
          "iopub.status.idle": "2022-07-09T23:38:24.33712Z",
          "shell.execute_reply.started": "2022-07-09T23:38:24.328348Z",
          "shell.execute_reply": "2022-07-09T23:38:24.335998Z"
        },
        "trusted": true,
        "id": "6QWtoT8l3l3M",
        "colab": {
          "base_uri": "https://localhost:8080/"
        },
        "outputId": "f739e3b2-be8e-49fa-ec38-aff14db9fdd7"
      },
      "execution_count": 12,
      "outputs": [
        {
          "output_type": "stream",
          "name": "stdout",
          "text": [
            "Tercer Cuartil:\n",
            "x         9.25\n",
            "y    113223.50\n",
            "Name: 0.75, dtype: float64\n"
          ]
        }
      ]
    },
    {
      "cell_type": "markdown",
      "source": [
        "Tenemos que el tercer cuartil cae en 9.25 años para *YearsExperience* y aproximadamente $113,223 para *Salary*"
      ],
      "metadata": {
        "id": "AWfhchKd3l3N"
      }
    },
    {
      "cell_type": "markdown",
      "source": [
        "Calculamos ahora el rango intercuartil (IQR) a partir de Q1 y Q3:"
      ],
      "metadata": {
        "id": "hqcNZqBH3l3N"
      }
    },
    {
      "cell_type": "code",
      "source": [
        "IQR = Q3 - Q1\n",
        "\n",
        "print('Rango intercuartil:')\n",
        "print(IQR)"
      ],
      "metadata": {
        "execution": {
          "iopub.status.busy": "2022-07-09T23:43:38.169109Z",
          "iopub.execute_input": "2022-07-09T23:43:38.16948Z",
          "iopub.status.idle": "2022-07-09T23:43:38.176952Z",
          "shell.execute_reply.started": "2022-07-09T23:43:38.169452Z",
          "shell.execute_reply": "2022-07-09T23:43:38.175907Z"
        },
        "trusted": true,
        "id": "-2eKsDrf3l3N",
        "colab": {
          "base_uri": "https://localhost:8080/"
        },
        "outputId": "5b410f1e-6a00-42cc-d77f-15bc814d28f4"
      },
      "execution_count": 13,
      "outputs": [
        {
          "output_type": "stream",
          "name": "stdout",
          "text": [
            "Rango intercuartil:\n",
            "x        5.8\n",
            "y    56204.5\n",
            "dtype: float64\n"
          ]
        }
      ]
    },
    {
      "cell_type": "markdown",
      "source": [
        "Tenemos que el intercuartil para *YearsExperience* es de 5.8 años y para *Salary* es de aproximadamente $56,204."
      ],
      "metadata": {
        "id": "yLB_tg-g3l3W"
      }
    },
    {
      "cell_type": "markdown",
      "source": [
        "Vamos a utilizar los valores del primer y tercer cuartil asi como el valor del rango intercuartil para ayudarnos a identificar los *outliers* en nuestros datos."
      ],
      "metadata": {
        "id": "Or5SLt7Z3l3W"
      }
    },
    {
      "cell_type": "markdown",
      "source": [
        "Los *outliers* son detectados utilizado el método IQR, con este método, un *Outlier* es un punto que está 1.5 veces el valor del rango intercuartil arriba del tercer cuartil o abajo del primer cuartil.\n",
        "\n",
        "Mostramos solamente las filas que son *outliers*:"
      ],
      "metadata": {
        "id": "3NQmWdsW3l3W"
      }
    },
    {
      "cell_type": "code",
      "source": [
        "salary_data_outliers = salary_data[((salary_data < (Q1 - 1.5 * IQR)) |\\\n",
        "                                    (salary_data > (Q3 + 1.5 * IQR))).any(axis = 1)]\n",
        "\n",
        "salary_data_outliers"
      ],
      "metadata": {
        "execution": {
          "iopub.status.busy": "2022-07-09T23:44:05.234768Z",
          "iopub.execute_input": "2022-07-09T23:44:05.235164Z",
          "iopub.status.idle": "2022-07-09T23:44:05.249879Z",
          "shell.execute_reply.started": "2022-07-09T23:44:05.235131Z",
          "shell.execute_reply": "2022-07-09T23:44:05.248577Z"
        },
        "trusted": true,
        "id": "jsOJMZZR3l3W",
        "colab": {
          "base_uri": "https://localhost:8080/",
          "height": 89
        },
        "outputId": "f462e7cf-2bbe-43eb-b188-7503be7fe501"
      },
      "execution_count": 14,
      "outputs": [
        {
          "output_type": "execute_result",
          "data": {
            "text/plain": [
              "Empty DataFrame\n",
              "Columns: [x, y]\n",
              "Index: []"
            ],
            "text/html": [
              "\n",
              "  <div id=\"df-47ba94da-4f84-4f8d-80c6-d037f82fbfa4\" class=\"colab-df-container\">\n",
              "    <div>\n",
              "<style scoped>\n",
              "    .dataframe tbody tr th:only-of-type {\n",
              "        vertical-align: middle;\n",
              "    }\n",
              "\n",
              "    .dataframe tbody tr th {\n",
              "        vertical-align: top;\n",
              "    }\n",
              "\n",
              "    .dataframe thead th {\n",
              "        text-align: right;\n",
              "    }\n",
              "</style>\n",
              "<table border=\"1\" class=\"dataframe\">\n",
              "  <thead>\n",
              "    <tr style=\"text-align: right;\">\n",
              "      <th></th>\n",
              "      <th>x</th>\n",
              "      <th>y</th>\n",
              "    </tr>\n",
              "  </thead>\n",
              "  <tbody>\n",
              "  </tbody>\n",
              "</table>\n",
              "</div>\n",
              "    <div class=\"colab-df-buttons\">\n",
              "\n",
              "  <div class=\"colab-df-container\">\n",
              "    <button class=\"colab-df-convert\" onclick=\"convertToInteractive('df-47ba94da-4f84-4f8d-80c6-d037f82fbfa4')\"\n",
              "            title=\"Convert this dataframe to an interactive table.\"\n",
              "            style=\"display:none;\">\n",
              "\n",
              "  <svg xmlns=\"http://www.w3.org/2000/svg\" height=\"24px\" viewBox=\"0 -960 960 960\">\n",
              "    <path d=\"M120-120v-720h720v720H120Zm60-500h600v-160H180v160Zm220 220h160v-160H400v160Zm0 220h160v-160H400v160ZM180-400h160v-160H180v160Zm440 0h160v-160H620v160ZM180-180h160v-160H180v160Zm440 0h160v-160H620v160Z\"/>\n",
              "  </svg>\n",
              "    </button>\n",
              "\n",
              "  <style>\n",
              "    .colab-df-container {\n",
              "      display:flex;\n",
              "      gap: 12px;\n",
              "    }\n",
              "\n",
              "    .colab-df-convert {\n",
              "      background-color: #E8F0FE;\n",
              "      border: none;\n",
              "      border-radius: 50%;\n",
              "      cursor: pointer;\n",
              "      display: none;\n",
              "      fill: #1967D2;\n",
              "      height: 32px;\n",
              "      padding: 0 0 0 0;\n",
              "      width: 32px;\n",
              "    }\n",
              "\n",
              "    .colab-df-convert:hover {\n",
              "      background-color: #E2EBFA;\n",
              "      box-shadow: 0px 1px 2px rgba(60, 64, 67, 0.3), 0px 1px 3px 1px rgba(60, 64, 67, 0.15);\n",
              "      fill: #174EA6;\n",
              "    }\n",
              "\n",
              "    .colab-df-buttons div {\n",
              "      margin-bottom: 4px;\n",
              "    }\n",
              "\n",
              "    [theme=dark] .colab-df-convert {\n",
              "      background-color: #3B4455;\n",
              "      fill: #D2E3FC;\n",
              "    }\n",
              "\n",
              "    [theme=dark] .colab-df-convert:hover {\n",
              "      background-color: #434B5C;\n",
              "      box-shadow: 0px 1px 3px 1px rgba(0, 0, 0, 0.15);\n",
              "      filter: drop-shadow(0px 1px 2px rgba(0, 0, 0, 0.3));\n",
              "      fill: #FFFFFF;\n",
              "    }\n",
              "  </style>\n",
              "\n",
              "    <script>\n",
              "      const buttonEl =\n",
              "        document.querySelector('#df-47ba94da-4f84-4f8d-80c6-d037f82fbfa4 button.colab-df-convert');\n",
              "      buttonEl.style.display =\n",
              "        google.colab.kernel.accessAllowed ? 'block' : 'none';\n",
              "\n",
              "      async function convertToInteractive(key) {\n",
              "        const element = document.querySelector('#df-47ba94da-4f84-4f8d-80c6-d037f82fbfa4');\n",
              "        const dataTable =\n",
              "          await google.colab.kernel.invokeFunction('convertToInteractive',\n",
              "                                                    [key], {});\n",
              "        if (!dataTable) return;\n",
              "\n",
              "        const docLinkHtml = 'Like what you see? Visit the ' +\n",
              "          '<a target=\"_blank\" href=https://colab.research.google.com/notebooks/data_table.ipynb>data table notebook</a>'\n",
              "          + ' to learn more about interactive tables.';\n",
              "        element.innerHTML = '';\n",
              "        dataTable['output_type'] = 'display_data';\n",
              "        await google.colab.output.renderOutput(dataTable, element);\n",
              "        const docLink = document.createElement('div');\n",
              "        docLink.innerHTML = docLinkHtml;\n",
              "        element.appendChild(docLink);\n",
              "      }\n",
              "    </script>\n",
              "  </div>\n",
              "\n",
              "\n",
              "  <div id=\"id_6aa7811c-7cb1-43c3-989d-f399b540082a\">\n",
              "    <style>\n",
              "      .colab-df-generate {\n",
              "        background-color: #E8F0FE;\n",
              "        border: none;\n",
              "        border-radius: 50%;\n",
              "        cursor: pointer;\n",
              "        display: none;\n",
              "        fill: #1967D2;\n",
              "        height: 32px;\n",
              "        padding: 0 0 0 0;\n",
              "        width: 32px;\n",
              "      }\n",
              "\n",
              "      .colab-df-generate:hover {\n",
              "        background-color: #E2EBFA;\n",
              "        box-shadow: 0px 1px 2px rgba(60, 64, 67, 0.3), 0px 1px 3px 1px rgba(60, 64, 67, 0.15);\n",
              "        fill: #174EA6;\n",
              "      }\n",
              "\n",
              "      [theme=dark] .colab-df-generate {\n",
              "        background-color: #3B4455;\n",
              "        fill: #D2E3FC;\n",
              "      }\n",
              "\n",
              "      [theme=dark] .colab-df-generate:hover {\n",
              "        background-color: #434B5C;\n",
              "        box-shadow: 0px 1px 3px 1px rgba(0, 0, 0, 0.15);\n",
              "        filter: drop-shadow(0px 1px 2px rgba(0, 0, 0, 0.3));\n",
              "        fill: #FFFFFF;\n",
              "      }\n",
              "    </style>\n",
              "    <button class=\"colab-df-generate\" onclick=\"generateWithVariable('salary_data_outliers')\"\n",
              "            title=\"Generate code using this dataframe.\"\n",
              "            style=\"display:none;\">\n",
              "\n",
              "  <svg xmlns=\"http://www.w3.org/2000/svg\" height=\"24px\"viewBox=\"0 0 24 24\"\n",
              "       width=\"24px\">\n",
              "    <path d=\"M7,19H8.4L18.45,9,17,7.55,7,17.6ZM5,21V16.75L18.45,3.32a2,2,0,0,1,2.83,0l1.4,1.43a1.91,1.91,0,0,1,.58,1.4,1.91,1.91,0,0,1-.58,1.4L9.25,21ZM18.45,9,17,7.55Zm-12,3A5.31,5.31,0,0,0,4.9,8.1,5.31,5.31,0,0,0,1,6.5,5.31,5.31,0,0,0,4.9,4.9,5.31,5.31,0,0,0,6.5,1,5.31,5.31,0,0,0,8.1,4.9,5.31,5.31,0,0,0,12,6.5,5.46,5.46,0,0,0,6.5,12Z\"/>\n",
              "  </svg>\n",
              "    </button>\n",
              "    <script>\n",
              "      (() => {\n",
              "      const buttonEl =\n",
              "        document.querySelector('#id_6aa7811c-7cb1-43c3-989d-f399b540082a button.colab-df-generate');\n",
              "      buttonEl.style.display =\n",
              "        google.colab.kernel.accessAllowed ? 'block' : 'none';\n",
              "\n",
              "      buttonEl.onclick = () => {\n",
              "        google.colab.notebook.generateWithVariable('salary_data_outliers');\n",
              "      }\n",
              "      })();\n",
              "    </script>\n",
              "  </div>\n",
              "\n",
              "    </div>\n",
              "  </div>\n"
            ],
            "application/vnd.google.colaboratory.intrinsic+json": {
              "type": "dataframe",
              "variable_name": "salary_data_outliers",
              "summary": "{\n  \"name\": \"salary_data_outliers\",\n  \"rows\": 0,\n  \"fields\": [\n    {\n      \"column\": \"x\",\n      \"properties\": {\n        \"dtype\": \"number\",\n        \"std\": null,\n        \"min\": null,\n        \"max\": null,\n        \"num_unique_values\": 0,\n        \"samples\": [],\n        \"semantic_type\": \"\",\n        \"description\": \"\"\n      }\n    },\n    {\n      \"column\": \"y\",\n      \"properties\": {\n        \"dtype\": \"number\",\n        \"std\": null,\n        \"min\": null,\n        \"max\": null,\n        \"num_unique_values\": 0,\n        \"samples\": [],\n        \"semantic_type\": \"\",\n        \"description\": \"\"\n      }\n    }\n  ]\n}"
            }
          },
          "metadata": {},
          "execution_count": 14
        }
      ]
    },
    {
      "cell_type": "markdown",
      "source": [
        "* Podemos ver que no existen *outliers* en nuestros datos, para ninguna de las columnas.\n",
        "* Si fuera el caso de que efectivamente existieran *outliers*, entonces al dataframe que vamos a utilizar para entrenar nuestro modelo le deberíamos de quitar los *outliers* definidos anteriormente de la siguiente manera:"
      ],
      "metadata": {
        "id": "THQA7GgH3l3W"
      }
    },
    {
      "cell_type": "code",
      "source": [
        "salary_data = salary_data[~((salary_data < (Q1 - 1.5 * IQR)) |\\\n",
        "                            (salary_data > (Q3 + 1.5 * IQR))).any(axis = 1)]\n",
        "\n",
        "salary_data.shape"
      ],
      "metadata": {
        "execution": {
          "iopub.status.busy": "2022-07-09T23:45:29.733314Z",
          "iopub.execute_input": "2022-07-09T23:45:29.733715Z",
          "iopub.status.idle": "2022-07-09T23:45:29.745823Z",
          "shell.execute_reply.started": "2022-07-09T23:45:29.733685Z",
          "shell.execute_reply": "2022-07-09T23:45:29.744689Z"
        },
        "trusted": true,
        "id": "y7CDQiPB3l3W",
        "colab": {
          "base_uri": "https://localhost:8080/"
        },
        "outputId": "d35e2a18-b76c-4de5-84eb-7458d64ee45c"
      },
      "execution_count": 15,
      "outputs": [
        {
          "output_type": "execute_result",
          "data": {
            "text/plain": [
              "(35, 2)"
            ]
          },
          "metadata": {},
          "execution_count": 15
        }
      ]
    },
    {
      "cell_type": "markdown",
      "source": [
        "* Vemos que permanecemos con los 35 registros, ya que no hay *outliers* que eliminar."
      ],
      "metadata": {
        "id": "tEB8GIp_3l3W"
      }
    },
    {
      "cell_type": "markdown",
      "source": [
        "### Valores faltantes"
      ],
      "metadata": {
        "id": "7Krts7Eg3l3W"
      }
    },
    {
      "cell_type": "markdown",
      "source": [
        "* Sabemos que no hay valores faltantes, pero si fuera el caso contrario podriamos utilizar alguna técnica de imputación (media, mediana, etc.)\n"
      ],
      "metadata": {
        "id": "3ZGYjT1g3l3X"
      }
    },
    {
      "cell_type": "markdown",
      "source": [
        "## Regresión Lineal"
      ],
      "metadata": {
        "id": "4kcnNxCH3l3Y"
      }
    },
    {
      "cell_type": "markdown",
      "source": [
        "### Relación entre variables"
      ],
      "metadata": {
        "id": "Xj7rcX9r3l3Y"
      }
    },
    {
      "cell_type": "markdown",
      "source": [
        "Antes de realizar el modelo de regresión lineal, veamos la relación entre las variables *'YearsExperience'* y *'Salary'*"
      ],
      "metadata": {
        "id": "ewtdPQJr3l3Y"
      }
    },
    {
      "cell_type": "code",
      "source": [
        "plt.figure(figsize = (12, 8))\n",
        "\n",
        "sns.scatterplot(x = 'x', y = 'y',\n",
        "                s = 400, color = 'purple',\n",
        "                data = salary_data)\n",
        "\n",
        "plt.xlabel('Years of Experience')\n",
        "plt.ylabel('Salary')"
      ],
      "metadata": {
        "execution": {
          "iopub.status.busy": "2022-07-09T23:56:54.728957Z",
          "iopub.execute_input": "2022-07-09T23:56:54.729393Z",
          "iopub.status.idle": "2022-07-09T23:56:54.93015Z",
          "shell.execute_reply.started": "2022-07-09T23:56:54.729358Z",
          "shell.execute_reply": "2022-07-09T23:56:54.92886Z"
        },
        "trusted": true,
        "id": "_didSZK43l3Z",
        "colab": {
          "base_uri": "https://localhost:8080/",
          "height": 713
        },
        "outputId": "4b8901a6-5b35-4d13-ae79-af8114c1630d"
      },
      "execution_count": 16,
      "outputs": [
        {
          "output_type": "execute_result",
          "data": {
            "text/plain": [
              "Text(0, 0.5, 'Salary')"
            ]
          },
          "metadata": {},
          "execution_count": 16
        },
        {
          "output_type": "display_data",
          "data": {
            "text/plain": [
              "<Figure size 1200x800 with 1 Axes>"
            ],
            "image/png": "[encoded data removed]"
          },
          "metadata": {}
        }
      ]
    },
    {
      "cell_type": "markdown",
      "source": [
        "* Podemos observar que hay una correlación alta entre *YearsExperience* y *Salary*:   \n",
        "    * Entre más años de experiencia tenga un individuo más alto sera su salario.  "
      ],
      "metadata": {
        "id": "_xaycp8m3l3Z"
      }
    },
    {
      "cell_type": "markdown",
      "source": [
        "### Datasets de entrenamiento y de pruebas"
      ],
      "metadata": {
        "id": "aekmdb5x3l3Z"
      }
    },
    {
      "cell_type": "markdown",
      "source": [
        "Nuestro dataset vamos a dividirlo en datasets de entrenamiento y un dataset de pruebas:"
      ],
      "metadata": {
        "id": "qiJ4v46P3l3Z"
      }
    },
    {
      "cell_type": "markdown",
      "source": [
        "* Utilizamos la función *train_test_split* para configurar la partición de datos que vamos a realizar\n",
        "* Con el parámetro *random_state = 42*, estamos indicando a sklearn que barajee los datos asi evitamos que las particiones sigan algún tipo de patron.\n",
        "* Con el parámetro *test_size = 0.3*, Estamos indicando a sklearn que utilice el 30% de nuestros datos para pruebas (para evaluar nuestro modelo).\n",
        "    * 70% de los datos serán utilizados para entrenar nuestro modelo\n",
        "    * 30% de los datos serán utilizados para probar nuestro modelo"
      ],
      "metadata": {
        "id": "54-ViGeq3l3a"
      }
    },
    {
      "cell_type": "code",
      "source": [
        "# Dataset con las variables predictoras\n",
        "X = salary_data['x']\n",
        "\n",
        "# Dataset con la variable target\n",
        "y = salary_data['y']\n",
        "\n",
        "# Dividimos nuestro dataset en datos de entrenamiento y datos de prueba\n",
        "X_train, X_test, y_train, y_test = train_test_split(X, y, test_size = 0.3, random_state = 42)"
      ],
      "metadata": {
        "execution": {
          "iopub.status.busy": "2022-07-09T23:57:22.96153Z",
          "iopub.execute_input": "2022-07-09T23:57:22.961903Z",
          "iopub.status.idle": "2022-07-09T23:57:22.969178Z",
          "shell.execute_reply.started": "2022-07-09T23:57:22.961872Z",
          "shell.execute_reply": "2022-07-09T23:57:22.968177Z"
        },
        "trusted": true,
        "id": "Xu_Jwja73l3a"
      },
      "execution_count": 17,
      "outputs": []
    },
    {
      "cell_type": "markdown",
      "source": [
        "Vemos el número de registros de variables predictoras para los datasets de entrenamiento y de pruebas:"
      ],
      "metadata": {
        "id": "KEF0Rb5F3l3a"
      }
    },
    {
      "cell_type": "code",
      "source": [
        "X_train.shape, X_test.shape"
      ],
      "metadata": {
        "execution": {
          "iopub.status.busy": "2022-07-09T23:57:28.133084Z",
          "iopub.execute_input": "2022-07-09T23:57:28.133549Z",
          "iopub.status.idle": "2022-07-09T23:57:28.141241Z",
          "shell.execute_reply.started": "2022-07-09T23:57:28.133514Z",
          "shell.execute_reply": "2022-07-09T23:57:28.1399Z"
        },
        "trusted": true,
        "id": "yP-qzzWg3l3b",
        "colab": {
          "base_uri": "https://localhost:8080/"
        },
        "outputId": "2becabba-f9d1-47fa-c4dd-a9e1a468c255"
      },
      "execution_count": 18,
      "outputs": [
        {
          "output_type": "execute_result",
          "data": {
            "text/plain": [
              "((24,), (11,))"
            ]
          },
          "metadata": {},
          "execution_count": 18
        }
      ]
    },
    {
      "cell_type": "markdown",
      "source": [
        "Vemos el número de registros de la variable target para los datasets de entrenamiento y de pruebas:"
      ],
      "metadata": {
        "id": "uABME3gV3l3b"
      }
    },
    {
      "cell_type": "code",
      "source": [
        "y_train.shape, y_test.shape"
      ],
      "metadata": {
        "execution": {
          "iopub.status.busy": "2022-07-09T23:57:32.238144Z",
          "iopub.execute_input": "2022-07-09T23:57:32.238845Z",
          "iopub.status.idle": "2022-07-09T23:57:32.245686Z",
          "shell.execute_reply.started": "2022-07-09T23:57:32.238791Z",
          "shell.execute_reply": "2022-07-09T23:57:32.244765Z"
        },
        "trusted": true,
        "id": "vtrP8_Hy3l3b",
        "colab": {
          "base_uri": "https://localhost:8080/"
        },
        "outputId": "3396cdff-b4d0-47d2-8cdd-bdc18e8b7850"
      },
      "execution_count": 19,
      "outputs": [
        {
          "output_type": "execute_result",
          "data": {
            "text/plain": [
              "((24,), (11,))"
            ]
          },
          "metadata": {},
          "execution_count": 19
        }
      ]
    },
    {
      "cell_type": "markdown",
      "source": [
        "### Modelo de Regresión Lineal"
      ],
      "metadata": {
        "id": "rWKSxsKc3l3b"
      }
    },
    {
      "cell_type": "markdown",
      "source": [
        "* Vamos a utilizar el modelo de regresión lineal en *scikit-learn*, para entrenar nuestro modelo de regresión lineal simple.\n",
        "* El modelo de *scikit-learn* espera como entrada que los datos de entrenamiento estén en un array multidimensional, por lo tanto, en nuestro caso\n",
        "  necesitamos hacer un *reshape* (remodelar) a nuestros datos.  \n",
        "    * Para nuestro modelo lineal simple necesitamos un arreglo de n filas (24 filas en nuestro caso) y 1 columna"
      ],
      "metadata": {
        "id": "qR7idTMu3l3b"
      }
    },
    {
      "cell_type": "markdown",
      "source": [
        "#### Reshape de los datos"
      ],
      "metadata": {
        "id": "MKHdf0z43l3c"
      }
    },
    {
      "cell_type": "code",
      "source": [
        "# Convertimos los datos de entrenamiento a un array de numpy\n",
        "# y luego remodelamos los datos de entrenamiento para asegurarnos que sea un arreglo multidimensional que conste de n filas y 1 columna\n",
        "\n",
        "# Los datos de entrada de la variable predictora para el entrenamiento\n",
        "X_train = X_train.to_numpy()\n",
        "X_train = X_train.reshape((-1, 1))\n",
        "\n",
        "# Los datos de entrada de la variable target para el entrenamiento\n",
        "y_train = y_train.to_numpy()\n",
        "y_train = y_train.reshape((-1, 1))\n",
        "\n",
        "X_train.shape, y_train.shape"
      ],
      "metadata": {
        "execution": {
          "iopub.status.busy": "2022-07-09T23:58:23.468199Z",
          "iopub.execute_input": "2022-07-09T23:58:23.468588Z",
          "iopub.status.idle": "2022-07-09T23:58:23.477556Z",
          "shell.execute_reply.started": "2022-07-09T23:58:23.468558Z",
          "shell.execute_reply": "2022-07-09T23:58:23.476432Z"
        },
        "trusted": true,
        "id": "tsPPx5Xy3l3c",
        "colab": {
          "base_uri": "https://localhost:8080/"
        },
        "outputId": "27931354-be31-4ab9-f217-326b774bfc2d"
      },
      "execution_count": 20,
      "outputs": [
        {
          "output_type": "execute_result",
          "data": {
            "text/plain": [
              "((24, 1), (24, 1))"
            ]
          },
          "metadata": {},
          "execution_count": 20
        }
      ]
    },
    {
      "cell_type": "markdown",
      "source": [
        "* De la misma manera procedemos con los datos de pruebas para pasarlos a un arreglo de dos dimensiones de n filas (11 filas en nuestro caso) y 1 columna"
      ],
      "metadata": {
        "id": "CCeUAwPv3l3c"
      }
    },
    {
      "cell_type": "code",
      "source": [
        "# Convertimos los datos para pruebas a un array de numpy\n",
        "# y luego remodelamos los datos para pruebas y asegurarnos que sea un arreglo multidimensional que conste de n filas y 1 columna\n",
        "\n",
        "# Los datos de entrada de la variable predictora para las pruebas\n",
        "X_test = X_test.to_numpy()\n",
        "X_test = X_test.reshape((-1, 1))\n",
        "\n",
        "# Los datos de entrada de la variable target para las pruebas\n",
        "y_test = y_test.to_numpy()\n",
        "y_test = y_test.reshape((-1, 1))\n",
        "\n",
        "X_test.shape, y_test.shape"
      ],
      "metadata": {
        "execution": {
          "iopub.status.busy": "2022-07-09T23:58:33.212078Z",
          "iopub.execute_input": "2022-07-09T23:58:33.212493Z",
          "iopub.status.idle": "2022-07-09T23:58:33.221163Z",
          "shell.execute_reply.started": "2022-07-09T23:58:33.21246Z",
          "shell.execute_reply": "2022-07-09T23:58:33.220068Z"
        },
        "trusted": true,
        "id": "ocWN-KCr3l3c",
        "colab": {
          "base_uri": "https://localhost:8080/"
        },
        "outputId": "301171db-105d-4f4f-ca7f-d533f5703707"
      },
      "execution_count": 21,
      "outputs": [
        {
          "output_type": "execute_result",
          "data": {
            "text/plain": [
              "((11, 1), (11, 1))"
            ]
          },
          "metadata": {},
          "execution_count": 21
        }
      ]
    },
    {
      "cell_type": "markdown",
      "source": [
        "#### Entrando el modelo"
      ],
      "metadata": {
        "id": "Ot9HdWvU3l3c"
      }
    },
    {
      "cell_type": "markdown",
      "source": [
        "Con los datos de entrenamiento, creamos el modelo de regresión y lo entrenamos:"
      ],
      "metadata": {
        "id": "z5xrOBOR3l3c"
      }
    },
    {
      "cell_type": "code",
      "source": [
        "# Instanciamos un modelo de regresión lineal de scikit-learn\n",
        "lr = LinearRegression()\n",
        "\n",
        "# Entrenamos (ajustamos) nuestro modelo de regresión lineal con los datos de entrenamiento\n",
        "linear_reg_model = lr.fit(X_train, y_train)"
      ],
      "metadata": {
        "execution": {
          "iopub.status.busy": "2022-07-09T23:58:38.179628Z",
          "iopub.execute_input": "2022-07-09T23:58:38.179995Z",
          "iopub.status.idle": "2022-07-09T23:58:38.194861Z",
          "shell.execute_reply.started": "2022-07-09T23:58:38.179966Z",
          "shell.execute_reply": "2022-07-09T23:58:38.19369Z"
        },
        "trusted": true,
        "id": "ZWTxEHB73l3c"
      },
      "execution_count": 22,
      "outputs": []
    },
    {
      "cell_type": "markdown",
      "source": [
        "Vemos los *Coeficientes* e *Interceptos* obtenidos después del entrenamiento del modelo:\n",
        "\n",
        "Nota: estos coeficientes e interceptos son los mismos que podemos obtener utilizando el método *statsmodels*\n"
      ],
      "metadata": {
        "id": "2H72lrjm3l3d"
      }
    },
    {
      "cell_type": "code",
      "source": [
        "# Coeficientes del modelo de regresión lineal\n",
        "linear_reg_model.coef_"
      ],
      "metadata": {
        "execution": {
          "iopub.status.busy": "2022-07-09T23:58:40.947245Z",
          "iopub.execute_input": "2022-07-09T23:58:40.947665Z",
          "iopub.status.idle": "2022-07-09T23:58:40.954608Z",
          "shell.execute_reply.started": "2022-07-09T23:58:40.947632Z",
          "shell.execute_reply": "2022-07-09T23:58:40.953655Z"
        },
        "trusted": true,
        "id": "hmQspSe63l3d",
        "colab": {
          "base_uri": "https://localhost:8080/"
        },
        "outputId": "3989c2ff-a084-4aeb-d03b-37e5cbde6dd5"
      },
      "execution_count": 23,
      "outputs": [
        {
          "output_type": "execute_result",
          "data": {
            "text/plain": [
              "array([[8555.33918938]])"
            ]
          },
          "metadata": {},
          "execution_count": 23
        }
      ]
    },
    {
      "cell_type": "markdown",
      "source": [
        "* Tenemos solamente un coeficiente y corresponde al predictor *YearsExperience*.\n",
        "* El hecho de que este coeficiente sea positivo indica que existe una correlación positiva entre los años de experiencia (*YearsExperience*) y el salario (*Salary*)\n",
        "    * Entre más alto sea el número de años de experiencia (*YearsExperience*) más alto será el salario (*Salary*)\n",
        "* Este coeficiente nos indica la taza de cambio entre el salario y los años de experiencia.\n",
        "    * Por cada unidad aumentada o disminuida en la variable predictora, nos indica el aumento o disminución correspondiente en el target\n",
        "    * En nuestro caso, por cada año mas de experiencia, el salario aumenta aprox. $8,555"
      ],
      "metadata": {
        "id": "RZqqXVxO3l3d"
      }
    },
    {
      "cell_type": "code",
      "source": [
        "# Interceptos del modelo de regresión lineal\n",
        "linear_reg_model.intercept_"
      ],
      "metadata": {
        "execution": {
          "iopub.status.busy": "2022-07-09T23:59:11.726186Z",
          "iopub.execute_input": "2022-07-09T23:59:11.726614Z",
          "iopub.status.idle": "2022-07-09T23:59:11.734071Z",
          "shell.execute_reply.started": "2022-07-09T23:59:11.726579Z",
          "shell.execute_reply": "2022-07-09T23:59:11.733164Z"
        },
        "trusted": true,
        "id": "uB0Iay9Y3l3d",
        "colab": {
          "base_uri": "https://localhost:8080/"
        },
        "outputId": "75929e6e-4410-4ad3-93bc-46770e85f8cf"
      },
      "execution_count": 24,
      "outputs": [
        {
          "output_type": "execute_result",
          "data": {
            "text/plain": [
              "array([29602.07353482])"
            ]
          },
          "metadata": {},
          "execution_count": 24
        }
      ]
    },
    {
      "cell_type": "markdown",
      "source": [
        "* Tenemos el intercepto y nos indica el valor del salario (target *Salary*) cuando se tiene 0 años de experiencia (predictor *YearsExperience*=0)\n",
        "* Vemos que el intercepto también es un valor positivo."
      ],
      "metadata": {
        "id": "R33gAaGP3l3d"
      }
    },
    {
      "cell_type": "markdown",
      "source": [
        "#### Probando y Evaluando el modelo"
      ],
      "metadata": {
        "id": "eJCzx-4b3l3e"
      }
    },
    {
      "cell_type": "markdown",
      "source": [
        "Ahora con nuestro modelo ya ajustado, lo probamos haciendo predicciones sobre nuestros datos de prueba:"
      ],
      "metadata": {
        "id": "_aD0FliL3l3e"
      }
    },
    {
      "cell_type": "code",
      "source": [
        "# Realizamos predicciones con nuestro modelo de regresión utilizando los datos de prueba\n",
        "y_pred = linear_reg_model.predict(X_test)\n",
        "\n",
        "# Mostramos las primeras cinco estimaciones obtenidas\n",
        "y_pred[:5]"
      ],
      "metadata": {
        "execution": {
          "iopub.status.busy": "2022-07-09T23:59:30.950817Z",
          "iopub.execute_input": "2022-07-09T23:59:30.95118Z",
          "iopub.status.idle": "2022-07-09T23:59:30.958814Z",
          "shell.execute_reply.started": "2022-07-09T23:59:30.951151Z",
          "shell.execute_reply": "2022-07-09T23:59:30.9576Z"
        },
        "trusted": true,
        "id": "zqGZ8tfI3l3e",
        "colab": {
          "base_uri": "https://localhost:8080/"
        },
        "outputId": "b757222d-f05f-4b38-85c9-3686223b6a42"
      },
      "execution_count": 25,
      "outputs": [
        {
          "output_type": "execute_result",
          "data": {
            "text/plain": [
              "array([[110877.79583392],\n",
              "       [ 64678.96421127],\n",
              "       [104033.52448241],\n",
              "       [ 90344.98177941],\n",
              "       [ 71523.23556278]])"
            ]
          },
          "metadata": {},
          "execution_count": 25
        }
      ]
    },
    {
      "cell_type": "markdown",
      "source": [
        "Evaluamos el puntaje (*score*) de nuestro modelo sobre los datos de entrenamiento:"
      ],
      "metadata": {
        "id": "_ZM-xhAA3l3e"
      }
    },
    {
      "cell_type": "code",
      "source": [
        "print('Puntaje del modelo de regresión sobre los datos de entrenamiento: ', linear_reg_model.score(X_train, y_train))"
      ],
      "metadata": {
        "execution": {
          "iopub.status.busy": "2022-07-09T23:59:36.787417Z",
          "iopub.execute_input": "2022-07-09T23:59:36.78783Z",
          "iopub.status.idle": "2022-07-09T23:59:36.794886Z",
          "shell.execute_reply.started": "2022-07-09T23:59:36.787797Z",
          "shell.execute_reply": "2022-07-09T23:59:36.793914Z"
        },
        "trusted": true,
        "id": "yg5QImA_3l3e",
        "colab": {
          "base_uri": "https://localhost:8080/"
        },
        "outputId": "2d3134c0-2395-4ae3-98c6-3ec9a59ca452"
      },
      "execution_count": 26,
      "outputs": [
        {
          "output_type": "stream",
          "name": "stdout",
          "text": [
            "Puntaje del modelo de regresión sobre los datos de entrenamiento:  0.9755630578296774\n"
          ]
        }
      ]
    },
    {
      "cell_type": "markdown",
      "source": [
        "* Vemos un puntaje alto cerca del 97%.   \n",
        "    * Es decir, nuestro modelo explica cerca del 97% de la varianza en nuestros datos.\n",
        "* El puntaje es el valor de la *métrica R-Cuadrado* (*R-Square*) de nuestro modelo de regresión lineal sobre los datos de entrenamiento"
      ],
      "metadata": {
        "id": "gUmF12XG3l3e"
      }
    },
    {
      "cell_type": "markdown",
      "source": [
        "Ahora, Evaluamos el puntaje de nuestro modelo sobre los datos de pruebas:"
      ],
      "metadata": {
        "id": "gSQaJsYJ3l3f"
      }
    },
    {
      "cell_type": "code",
      "source": [
        "print('Puntaje del modelo de regresión sobre los datos de pruebas: ', linear_reg_model.score(X_test, y_test))"
      ],
      "metadata": {
        "execution": {
          "iopub.status.busy": "2022-07-10T00:00:01.390186Z",
          "iopub.execute_input": "2022-07-10T00:00:01.391255Z",
          "iopub.status.idle": "2022-07-10T00:00:01.39893Z",
          "shell.execute_reply.started": "2022-07-10T00:00:01.391194Z",
          "shell.execute_reply": "2022-07-10T00:00:01.397505Z"
        },
        "trusted": true,
        "id": "wMR2h4T93l3f",
        "colab": {
          "base_uri": "https://localhost:8080/"
        },
        "outputId": "dab5a5a9-18ee-4c16-aa44-fe34b86bb36a"
      },
      "execution_count": 27,
      "outputs": [
        {
          "output_type": "stream",
          "name": "stdout",
          "text": [
            "Puntaje del modelo de regresión sobre los datos de pruebas:  0.9171426108885095\n"
          ]
        }
      ]
    },
    {
      "cell_type": "markdown",
      "source": [
        "* Vemos un puntaje (R-Cuadrado) alto cerca del 91%.  Un poco más bajo que el que obtuvimos con los datos de entrenamiento, y esto es normal.\n",
        "* Este puntaje nos indica el desempeño de nuestro modelo sobre datos nuevos que nunca ha visto.\n"
      ],
      "metadata": {
        "id": "3bdFi1ES3l3f"
      }
    },
    {
      "cell_type": "markdown",
      "source": [
        "Ahora realizamos un gráfico del modelo de regresión lineal que fue ajustado/entrenado sobre los datos de entrenamiento:\n",
        "* Vamos a graficar un scatter plot de los puntos de datos de entrenamiento en color naranja\n",
        "* Y luego graficamos un linea ajustada (tambien sobre los datos de entrenamiento) que represente nuestro modelo de regresión lineal: Y = coef*X + intercept"
      ],
      "metadata": {
        "id": "1VcxYCYh3l3f"
      }
    },
    {
      "cell_type": "code",
      "source": [
        "f, ax = plt.subplots(figsize = (12, 8))\n",
        "\n",
        "# graficamos los puntos de datos de entrenamiento en color naranja\n",
        "plt.plot(X_train, y_train, 'o', markersize = 20, color = 'orange')\n",
        "# graficamos una linea utilizando nuestro modelo de regresión lineal sobre los datos predictores de entrenamiento\n",
        "plt.plot(X_train , linear_reg_model.coef_ * X_train + linear_reg_model.intercept_)"
      ],
      "metadata": {
        "execution": {
          "iopub.status.busy": "2022-07-10T00:00:41.78421Z",
          "iopub.execute_input": "2022-07-10T00:00:41.784626Z",
          "iopub.status.idle": "2022-07-10T00:00:41.936552Z",
          "shell.execute_reply.started": "2022-07-10T00:00:41.784595Z",
          "shell.execute_reply": "2022-07-10T00:00:41.935373Z"
        },
        "trusted": true,
        "id": "By0ULYwi3l3f",
        "colab": {
          "base_uri": "https://localhost:8080/",
          "height": 693
        },
        "outputId": "2f4accc5-dfa1-472f-916f-1ef9dbfedc2b"
      },
      "execution_count": 28,
      "outputs": [
        {
          "output_type": "execute_result",
          "data": {
            "text/plain": [
              "[<matplotlib.lines.Line2D at 0x7c9cad1eefe0>]"
            ]
          },
          "metadata": {},
          "execution_count": 28
        },
        {
          "output_type": "display_data",
          "data": {
            "text/plain": [
              "<Figure size 1200x800 with 1 Axes>"
            ],
            "image/png": "[encoded data removed]"
          },
          "metadata": {}
        }
      ]
    },
    {
      "cell_type": "markdown",
      "source": [
        "Podemos ver que la linea se ajusta bastante bien a los puntos."
      ],
      "metadata": {
        "id": "Ub9lfG4Y3l3g"
      }
    },
    {
      "cell_type": "markdown",
      "source": [
        "Realizamos un gráfico del modelo de regresión lineal que fue ajustado/entrenado pero ahora sobre los datos de pruebas:"
      ],
      "metadata": {
        "id": "OSdcHl-k3l3g"
      }
    },
    {
      "cell_type": "code",
      "source": [
        "f, ax = plt.subplots(figsize = (12, 8))\n",
        "\n",
        "# graficamos los puntos de datos de pruebas en color verde\n",
        "plt.plot(X_test, y_test, 'o', markersize = 20, color = 'green')\n",
        "# graficamos una linea utilizando nuestro modelo de regresión lineal sobre los datos predictores de pruebas\n",
        "plt.plot(X_test , linear_reg_model.coef_ * X_test + linear_reg_model.intercept_)"
      ],
      "metadata": {
        "execution": {
          "iopub.status.busy": "2022-07-10T00:00:50.64679Z",
          "iopub.execute_input": "2022-07-10T00:00:50.647192Z",
          "iopub.status.idle": "2022-07-10T00:00:50.813754Z",
          "shell.execute_reply.started": "2022-07-10T00:00:50.647159Z",
          "shell.execute_reply": "2022-07-10T00:00:50.812421Z"
        },
        "trusted": true,
        "id": "F6dwHI4Y3l3g",
        "colab": {
          "base_uri": "https://localhost:8080/",
          "height": 693
        },
        "outputId": "c9b2d454-5c7f-4848-beed-c89ce85f2849"
      },
      "execution_count": 29,
      "outputs": [
        {
          "output_type": "execute_result",
          "data": {
            "text/plain": [
              "[<matplotlib.lines.Line2D at 0x7c9cad28c1c0>]"
            ]
          },
          "metadata": {},
          "execution_count": 29
        },
        {
          "output_type": "display_data",
          "data": {
            "text/plain": [
              "<Figure size 1200x800 with 1 Axes>"
            ],
            "image/png": "[encoded data removed]"
          },
          "metadata": {}
        }
      ]
    },
    {
      "cell_type": "markdown",
      "source": [
        "Podemos ver que acá la linea tambien se ajusta muy bien a los datos."
      ],
      "metadata": {
        "id": "JCWNpzv-3l3g"
      }
    }
  ]
}