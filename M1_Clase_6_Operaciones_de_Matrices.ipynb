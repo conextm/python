{
  "cells": [
    {
      "cell_type": "markdown",
      "metadata": {
        "id": "view-in-github",
        "colab_type": "text"
      },
      "source": [
        "<a href=\"https://colab.research.google.com/github/conextm/python/blob/main/M1_Clase_6_Operaciones_de_Matrices.ipynb\" target=\"_parent\"><img src=\"https://colab.research.google.com/assets/colab-badge.svg\" alt=\"Open In Colab\"/></a>"
      ]
    },
    {
      "cell_type": "markdown",
      "metadata": {
        "id": "XpXLqw5avJca"
      },
      "source": [
        "# Universidad de los Andes"
      ]
    },
    {
      "cell_type": "code",
      "execution_count": null,
      "metadata": {
        "id": "MkVwXBNmvJce"
      },
      "outputs": [],
      "source": [
        "from sympy import *\n",
        "init_printing()\n",
        "from fractions import Fraction"
      ]
    },
    {
      "cell_type": "markdown",
      "metadata": {
        "id": "aP2uza6VvJch"
      },
      "source": [
        "- Con la siguiente función creamos matrices identidad"
      ]
    },
    {
      "cell_type": "code",
      "execution_count": null,
      "metadata": {
        "colab": {
          "base_uri": "https://localhost:8080/",
          "height": 78
        },
        "id": "7AKUi4U7vJci",
        "outputId": "10388ec4-9b1b-457f-e6b5-422d03de8fda"
      },
      "outputs": [
        {
          "output_type": "execute_result",
          "data": {
            "text/plain": [
              "⎡1  0  0⎤\n",
              "⎢       ⎥\n",
              "⎢0  1  0⎥\n",
              "⎢       ⎥\n",
              "⎣0  0  1⎦"
            ],
            "text/latex": "$\\displaystyle \\left[\\begin{matrix}1 & 0 & 0\\\\0 & 1 & 0\\\\0 & 0 & 1\\end{matrix}\\right]$"
          },
          "metadata": {},
          "execution_count": 2
        }
      ],
      "source": [
        "eye(3)"
      ]
    },
    {
      "cell_type": "markdown",
      "metadata": {
        "id": "XDh7KhjMvJck"
      },
      "source": [
        "- Con la siguiente función calculamos el determinante de una matriz"
      ]
    },
    {
      "cell_type": "code",
      "execution_count": null,
      "metadata": {
        "scrolled": true,
        "colab": {
          "base_uri": "https://localhost:8080/",
          "height": 37
        },
        "id": "cwpirLvGvJcl",
        "outputId": "d14a0657-15ce-4e2b-94f8-dca4d987fbc3"
      },
      "outputs": [
        {
          "output_type": "execute_result",
          "data": {
            "text/plain": [
              "1"
            ],
            "text/latex": "$\\displaystyle 1$"
          },
          "metadata": {},
          "execution_count": 3
        }
      ],
      "source": [
        "det(eye(4))"
      ]
    },
    {
      "cell_type": "markdown",
      "metadata": {
        "id": "hUJFIZp1vJcl"
      },
      "source": [
        "**Punto 1**\n",
        "![Captura%20de%20pantalla%202023-03-27%20203826.png](attachment:Captura%20de%20pantalla%202023-03-27%20203826.png)"
      ]
    },
    {
      "cell_type": "markdown",
      "metadata": {
        "id": "qQ3tiAFGvJcm"
      },
      "source": [
        "![Captura%20de%20pantalla%202023-03-27%20203846.png](attachment:Captura%20de%20pantalla%202023-03-27%20203846.png)"
      ]
    },
    {
      "cell_type": "code",
      "execution_count": null,
      "metadata": {
        "id": "e6PrrK4nvJcm"
      },
      "outputs": [],
      "source": []
    },
    {
      "cell_type": "code",
      "execution_count": null,
      "metadata": {
        "id": "PkSO8wJevJcn"
      },
      "outputs": [],
      "source": [
        "###Consideremos las siguientes matrices y vectores\n",
        "A = Matrix([[1,-2,3],[-4,5,-6],[7,-8,9]])\n",
        "B = Matrix([[1,1,1],[1,2,2],[1,2,3]])\n",
        "C = Matrix([[2,3],[4,1],[2,-1]])\n",
        "D = Matrix([[2,1,1],[1,1,2]])\n",
        "E = Matrix([[2,-1],[2,2]])\n",
        "F = Matrix([[4,3],[2,1]])\n",
        "\n",
        "w = Matrix([[2,3,-1]])\n",
        "v = Matrix(([[1],[-1],[3]]))\n",
        "x = Matrix([[1,-1]])\n",
        "y = Matrix(([[2],[-1]]))"
      ]
    },
    {
      "cell_type": "code",
      "execution_count": null,
      "metadata": {
        "colab": {
          "base_uri": "https://localhost:8080/",
          "height": 78
        },
        "id": "GpRa2vRFvJcn",
        "outputId": "2b3fec1f-51aa-43f9-a530-aec5e242751d"
      },
      "outputs": [
        {
          "output_type": "execute_result",
          "data": {
            "text/plain": [
              "⎛⎡1   -2  3 ⎤  ⎡1  1  1⎤  ⎡2  3 ⎤                            ⎞\n",
              "⎜⎢          ⎥  ⎢       ⎥  ⎢     ⎥  ⎡2  1  1⎤  ⎡2  -1⎤  ⎡4  3⎤⎟\n",
              "⎜⎢-4  5   -6⎥, ⎢1  2  2⎥, ⎢4  1 ⎥, ⎢       ⎥, ⎢     ⎥, ⎢    ⎥⎟\n",
              "⎜⎢          ⎥  ⎢       ⎥  ⎢     ⎥  ⎣1  1  2⎦  ⎣2  2 ⎦  ⎣2  1⎦⎟\n",
              "⎝⎣7   -8  9 ⎦  ⎣1  2  3⎦  ⎣2  -1⎦                            ⎠"
            ],
            "text/latex": "$\\displaystyle \\left( \\left[\\begin{matrix}1 & -2 & 3\\\\-4 & 5 & -6\\\\7 & -8 & 9\\end{matrix}\\right], \\  \\left[\\begin{matrix}1 & 1 & 1\\\\1 & 2 & 2\\\\1 & 2 & 3\\end{matrix}\\right], \\  \\left[\\begin{matrix}2 & 3\\\\4 & 1\\\\2 & -1\\end{matrix}\\right], \\  \\left[\\begin{matrix}2 & 1 & 1\\\\1 & 1 & 2\\end{matrix}\\right], \\  \\left[\\begin{matrix}2 & -1\\\\2 & 2\\end{matrix}\\right], \\  \\left[\\begin{matrix}4 & 3\\\\2 & 1\\end{matrix}\\right]\\right)$"
          },
          "metadata": {},
          "execution_count": 5
        }
      ],
      "source": [
        "A,B,C,D,E,F"
      ]
    },
    {
      "cell_type": "code",
      "execution_count": null,
      "metadata": {
        "scrolled": false,
        "colab": {
          "base_uri": "https://localhost:8080/",
          "height": 78
        },
        "id": "xASsUGjUvJco",
        "outputId": "fd455aa4-ca2c-4810-ebef-765fd76c689d"
      },
      "outputs": [
        {
          "output_type": "execute_result",
          "data": {
            "text/plain": [
              "⎛            ⎡1 ⎤               ⎞\n",
              "⎜            ⎢  ⎥           ⎡2 ⎤⎟\n",
              "⎜[2  3  -1], ⎢-1⎥, [1  -1], ⎢  ⎥⎟\n",
              "⎜            ⎢  ⎥           ⎣-1⎦⎟\n",
              "⎝            ⎣3 ⎦               ⎠"
            ],
            "text/latex": "$\\displaystyle \\left( \\left[\\begin{matrix}2 & 3 & -1\\end{matrix}\\right], \\  \\left[\\begin{matrix}1\\\\-1\\\\3\\end{matrix}\\right], \\  \\left[\\begin{matrix}1 & -1\\end{matrix}\\right], \\  \\left[\\begin{matrix}2\\\\-1\\end{matrix}\\right]\\right)$"
          },
          "metadata": {},
          "execution_count": 6
        }
      ],
      "source": [
        "w,v,x,y"
      ]
    },
    {
      "cell_type": "markdown",
      "metadata": {
        "id": "wT7BFZLdvJcp"
      },
      "source": [
        "## Solución"
      ]
    },
    {
      "cell_type": "markdown",
      "metadata": {
        "id": "8I2eGaHDvJcp"
      },
      "source": [
        "\n",
        "**a) 3A -2B**"
      ]
    },
    {
      "cell_type": "code",
      "execution_count": null,
      "metadata": {
        "colab": {
          "base_uri": "https://localhost:8080/",
          "height": 78
        },
        "id": "atetl65KvJcp",
        "outputId": "8f3df4e5-3f5d-4636-d1a2-1f57c0157b6c"
      },
      "outputs": [
        {
          "output_type": "execute_result",
          "data": {
            "text/plain": [
              "⎡ 1   -8    7 ⎤\n",
              "⎢             ⎥\n",
              "⎢-14  11   -22⎥\n",
              "⎢             ⎥\n",
              "⎣19   -28  21 ⎦"
            ],
            "text/latex": "$\\displaystyle \\left[\\begin{matrix}1 & -8 & 7\\\\-14 & 11 & -22\\\\19 & -28 & 21\\end{matrix}\\right]$"
          },
          "metadata": {},
          "execution_count": 7
        }
      ],
      "source": [
        "3*A-2*B"
      ]
    },
    {
      "cell_type": "markdown",
      "metadata": {
        "id": "i_smzANXvJcp"
      },
      "source": [
        "**b) AB + CD**"
      ]
    },
    {
      "cell_type": "code",
      "execution_count": null,
      "metadata": {
        "colab": {
          "base_uri": "https://localhost:8080/",
          "height": 78
        },
        "id": "hvGbfWw0vJcq",
        "outputId": "cf72b69b-6181-46c7-eab6-2459b1fd2375"
      },
      "outputs": [
        {
          "output_type": "execute_result",
          "data": {
            "text/plain": [
              "⎡9   8   14⎤\n",
              "⎢          ⎥\n",
              "⎢4   -1  -6⎥\n",
              "⎢          ⎥\n",
              "⎣11  10  18⎦"
            ],
            "text/latex": "$\\displaystyle \\left[\\begin{matrix}9 & 8 & 14\\\\4 & -1 & -6\\\\11 & 10 & 18\\end{matrix}\\right]$"
          },
          "metadata": {},
          "execution_count": 8
        }
      ],
      "source": [
        "(A*B) + (C*D)"
      ]
    },
    {
      "cell_type": "markdown",
      "metadata": {
        "id": "aXIqET4TvJcq"
      },
      "source": [
        "**c) DBA**"
      ]
    },
    {
      "cell_type": "code",
      "execution_count": null,
      "metadata": {
        "scrolled": true,
        "colab": {
          "base_uri": "https://localhost:8080/",
          "height": 58
        },
        "id": "IBLY6aUevJcq",
        "outputId": "0cd328ed-6b4d-484f-fac1-62480dfb8cb3"
      },
      "outputs": [
        {
          "output_type": "execute_result",
          "data": {
            "text/plain": [
              "⎡29  -34  39⎤\n",
              "⎢           ⎥\n",
              "⎣39  -45  51⎦"
            ],
            "text/latex": "$\\displaystyle \\left[\\begin{matrix}29 & -34 & 39\\\\39 & -45 & 51\\end{matrix}\\right]$"
          },
          "metadata": {},
          "execution_count": 9
        }
      ],
      "source": [
        "D*B*A"
      ]
    },
    {
      "cell_type": "markdown",
      "metadata": {
        "id": "oFCvgvYZvJcr"
      },
      "source": [
        "**d)wABv**"
      ]
    },
    {
      "cell_type": "code",
      "execution_count": null,
      "metadata": {
        "colab": {
          "base_uri": "https://localhost:8080/",
          "height": 39
        },
        "id": "khPTY4iLvJcr",
        "outputId": "0a9639b1-680a-4605-df1a-109d42f64719"
      },
      "outputs": [
        {
          "output_type": "execute_result",
          "data": {
            "text/plain": [
              "[-124]"
            ],
            "text/latex": "$\\displaystyle \\left[\\begin{matrix}-124\\end{matrix}\\right]$"
          },
          "metadata": {},
          "execution_count": 10
        }
      ],
      "source": [
        "w*A*B*v"
      ]
    },
    {
      "cell_type": "markdown",
      "metadata": {
        "id": "vgVEQTqUvJcs"
      },
      "source": [
        "**e) (Columna 1 de A x la Fila 2 de B) + BA**"
      ]
    },
    {
      "cell_type": "code",
      "execution_count": null,
      "metadata": {
        "colab": {
          "base_uri": "https://localhost:8080/",
          "height": 78
        },
        "id": "x2CelLWZvJcs",
        "outputId": "e4cd286a-13c6-49e6-8566-19310987e60d"
      },
      "outputs": [
        {
          "output_type": "execute_result",
          "data": {
            "text/plain": [
              "⎡5   -3   8 ⎤\n",
              "⎢           ⎥\n",
              "⎢3   -16  1 ⎥\n",
              "⎢           ⎥\n",
              "⎣21  -2   32⎦"
            ],
            "text/latex": "$\\displaystyle \\left[\\begin{matrix}5 & -3 & 8\\\\3 & -16 & 1\\\\21 & -2 & 32\\end{matrix}\\right]$"
          },
          "metadata": {},
          "execution_count": 11
        }
      ],
      "source": [
        "(A[:,0])*(B[1,:])+(B*A)"
      ]
    },
    {
      "cell_type": "markdown",
      "metadata": {
        "id": "6x097pJxvJct"
      },
      "source": [
        "**f) Av**"
      ]
    },
    {
      "cell_type": "code",
      "execution_count": null,
      "metadata": {
        "id": "W2nmYzi0vJct",
        "outputId": "d1377960-7742-4800-be38-55b3c21132b0"
      },
      "outputs": [
        {
          "data": {
            "text/latex": [
              "$\\displaystyle \\left[\\begin{matrix}12\\\\-27\\\\42\\end{matrix}\\right]$"
            ],
            "text/plain": [
              "⎡12 ⎤\n",
              "⎢   ⎥\n",
              "⎢-27⎥\n",
              "⎢   ⎥\n",
              "⎣42 ⎦"
            ]
          },
          "execution_count": 12,
          "metadata": {},
          "output_type": "execute_result"
        }
      ],
      "source": [
        "A*v"
      ]
    },
    {
      "cell_type": "markdown",
      "metadata": {
        "id": "ZFhtFebtvJct"
      },
      "source": [
        "**g) (Posicion 1 del vector v x Columna 1 de la matriz A) + (Posicion 2 del vector v x Columna 2 de la matriz A) + (Posicion 3 del vector v x Columna 3 de la matriz A)**"
      ]
    },
    {
      "cell_type": "code",
      "execution_count": null,
      "metadata": {
        "scrolled": true,
        "id": "qMM1OD9qvJct",
        "outputId": "1fb92fab-3849-408d-e251-957d8d2bf7da"
      },
      "outputs": [
        {
          "data": {
            "text/latex": [
              "$\\displaystyle \\left[\\begin{matrix}12\\\\-27\\\\42\\end{matrix}\\right]$"
            ],
            "text/plain": [
              "⎡12 ⎤\n",
              "⎢   ⎥\n",
              "⎢-27⎥\n",
              "⎢   ⎥\n",
              "⎣42 ⎦"
            ]
          },
          "execution_count": 13,
          "metadata": {},
          "output_type": "execute_result"
        }
      ],
      "source": [
        "(v[0]*A[:,0])+(v[1]*A[:,1])+(v[2]*A[:,2])"
      ]
    },
    {
      "cell_type": "markdown",
      "metadata": {
        "id": "twts4V5LvJcu"
      },
      "source": [
        "**h) B^(4) + (CD)^3**"
      ]
    },
    {
      "cell_type": "code",
      "execution_count": null,
      "metadata": {
        "colab": {
          "base_uri": "https://localhost:8080/",
          "height": 78
        },
        "id": "T6aajxCxvJcu",
        "outputId": "301163d1-de7a-4b8b-8d83-cfaf5d71898c"
      },
      "outputs": [
        {
          "output_type": "execute_result",
          "data": {
            "text/plain": [
              "⎡1766  1142  1509⎤\n",
              "⎢                ⎥\n",
              "⎢1998  1339  1747⎥\n",
              "⎢                ⎥\n",
              "⎣637   563   713 ⎦"
            ],
            "text/latex": "$\\displaystyle \\left[\\begin{matrix}1766 & 1142 & 1509\\\\1998 & 1339 & 1747\\\\637 & 563 & 713\\end{matrix}\\right]$"
          },
          "metadata": {},
          "execution_count": 12
        }
      ],
      "source": [
        "(B**(4))+((C*D)**(3))"
      ]
    },
    {
      "cell_type": "markdown",
      "metadata": {
        "id": "XaN6kyi9vJcu"
      },
      "source": [
        "**i) xEDABCFy**"
      ]
    },
    {
      "cell_type": "code",
      "execution_count": null,
      "metadata": {
        "id": "n_Q_6E2-vJcu",
        "outputId": "ad943e0a-8ef3-4f7d-88d7-852ed755a869"
      },
      "outputs": [
        {
          "data": {
            "text/latex": [
              "$\\displaystyle \\left[\\begin{matrix}-2406\\end{matrix}\\right]$"
            ],
            "text/plain": [
              "[-2406]"
            ]
          },
          "execution_count": 15,
          "metadata": {},
          "output_type": "execute_result"
        }
      ],
      "source": [
        "x*E*D*A*B*C*F*y"
      ]
    },
    {
      "cell_type": "markdown",
      "metadata": {
        "id": "VC0bKzktvJcv"
      },
      "source": [
        "**Punto 2.** Cierta compañıa dispone diariamente de 235 libras de materia prima para sus cuatros P1, P2, P3, P4 y de un espacio de almacenamiento de 255 pies^2.\n",
        "Los productos deben pasar por una maquina en la que se trabaja 6 horas 40 minutos por dıa. En la matriz siguiente se indican los requerimientos de materia prima por unidad de producto, el espacio necesario de almacenamiento, las tasas de produccion (unidades/hora) y la utilidad por producto en cientos de pesos:"
      ]
    },
    {
      "cell_type": "markdown",
      "metadata": {
        "id": "lB_fN9JGvJcv"
      },
      "source": [
        "$$\\begin{pmatrix}MateriaPrima(Lbs/Unidad)\\\\Espacio(pies^2/Unidad)\\\\TasadeProducción(Unidades/Hora)\\\\Utilidad(cientosdepesos)\\end{pmatrix}=\\begin{pmatrix}2 & 2 & 1.5 & 4\\\\ 2 & 2.5 & 2 & 1.5\\\\15 & 30 & 10 & 15 \\\\5 & 6.5 & 5 & 3.5\\end{pmatrix}$$\n",
        "\n",
        "Si la compañıa esta interesada en obtener una utilidad diaria de $65.000, ¿Cuantos artıculos debe producir cada uno si debe utilizar plenamente los recursos?."
      ]
    },
    {
      "cell_type": "code",
      "execution_count": null,
      "metadata": {
        "id": "H5HSW_E-vJcv"
      },
      "outputs": [],
      "source": [
        "### Libras de materia prima : 235\n",
        "### Almacenamiento : 255 pies^2\n",
        "### Horas : 6 horas 40 minutos por día\n",
        "### Utilidad 65000"
      ]
    },
    {
      "cell_type": "code",
      "execution_count": null,
      "metadata": {
        "colab": {
          "base_uri": "https://localhost:8080/"
        },
        "id": "R-n3hg5KvJcv",
        "outputId": "059087ff-da4e-4f4c-a2fc-1d5eb2c89412"
      },
      "outputs": [
        {
          "output_type": "stream",
          "name": "stdout",
          "text": [
            "20/3\n"
          ]
        }
      ],
      "source": [
        "### Hora/Unidad\n",
        "print(Fraction((6*60)+40)/60)"
      ]
    },
    {
      "cell_type": "code",
      "execution_count": null,
      "metadata": {
        "colab": {
          "base_uri": "https://localhost:8080/",
          "height": 99
        },
        "id": "3U_pD26JvJcw",
        "outputId": "d03580e3-88eb-4a40-8a9b-0442642bf05f"
      },
      "outputs": [
        {
          "output_type": "execute_result",
          "data": {
            "text/plain": [
              "⎡ 2     2    1.5    4    235 ⎤\n",
              "⎢                            ⎥\n",
              "⎢ 2    2.5    2    1.5   255 ⎥\n",
              "⎢                            ⎥\n",
              "⎢1/15  1/30  1/10  1/15  20/3⎥\n",
              "⎢                            ⎥\n",
              "⎣ 5    6.5    5    3.5   650 ⎦"
            ],
            "text/latex": "$\\displaystyle \\left[\\begin{matrix}2 & 2 & 1.5 & 4 & 235\\\\2 & 2.5 & 2 & 1.5 & 255\\\\\\frac{1}{15} & \\frac{1}{30} & \\frac{1}{10} & \\frac{1}{15} & \\frac{20}{3}\\\\5 & 6.5 & 5 & 3.5 & 650\\end{matrix}\\right]$"
          },
          "metadata": {},
          "execution_count": 14
        }
      ],
      "source": [
        "M6 = Matrix([[2,2,1.5,4,235],[2,2.5,2,1.5,255],[Fraction(1,15),Fraction(1,30),Fraction(1,10),Fraction(1,15),Fraction(400,60)],[5,6.5,5,3.5,650]])\n",
        "M6"
      ]
    },
    {
      "cell_type": "code",
      "execution_count": null,
      "metadata": {
        "id": "41aqXkiPvJcw",
        "outputId": "fac01184-37c8-4131-f5c6-e0fbb27e6880"
      },
      "outputs": [
        {
          "data": {
            "text/latex": [
              "$\\displaystyle \\left( \\left[\\begin{matrix}1 & 0 & 0 & 0 & 15.0\\\\0 & 1 & 0 & 0 & 60.0\\\\0 & 0 & 1 & 0 & 30.0\\\\0 & 0 & 0 & 1 & 10.0\\end{matrix}\\right], \\  \\left( 0, \\  1, \\  2, \\  3\\right)\\right)$"
            ],
            "text/plain": [
              "⎛⎡1  0  0  0  15.0⎤              ⎞\n",
              "⎜⎢                ⎥              ⎟\n",
              "⎜⎢0  1  0  0  60.0⎥              ⎟\n",
              "⎜⎢                ⎥, (0, 1, 2, 3)⎟\n",
              "⎜⎢0  0  1  0  30.0⎥              ⎟\n",
              "⎜⎢                ⎥              ⎟\n",
              "⎝⎣0  0  0  1  10.0⎦              ⎠"
            ]
          },
          "execution_count": 19,
          "metadata": {},
          "output_type": "execute_result"
        }
      ],
      "source": [
        "M6.rref()"
      ]
    },
    {
      "cell_type": "markdown",
      "metadata": {
        "id": "VGsApFdzvJcw"
      },
      "source": [
        "$$\\begin{pmatrix}P_1\\\\P_2\\\\P_3\\\\P_4\\end{pmatrix}=\\begin{pmatrix}15\\\\60\\\\30\\\\10\\end{pmatrix}$$"
      ]
    },
    {
      "cell_type": "markdown",
      "metadata": {
        "id": "ab1IDMOpvJcw"
      },
      "source": [
        "**Punto 3.** Resolver cada uno de los siguientes sistemas de ecuaciones, expresando la solución de forma vectorial como una solución particular mas la solución del sistema homogéneo (puede usar el comando rref())"
      ]
    },
    {
      "cell_type": "markdown",
      "metadata": {
        "id": "nWV2wsZvvJdK"
      },
      "source": [
        "**a**\n",
        "\n",
        "$$ x + y + z + w = 6 $$\n",
        "$$ x + 2y + 2z + 2w = 8 $$\n",
        "$$ x + 2y + 3z + 3w = -2 $$\n",
        "$$ x + 2y + 3z + 4w = 6 $$"
      ]
    },
    {
      "cell_type": "code",
      "execution_count": null,
      "metadata": {
        "id": "pDxBd6ykvJdL",
        "outputId": "9d3a1cc9-b7e8-47ae-afab-2171bbc1c425"
      },
      "outputs": [
        {
          "data": {
            "text/latex": [
              "$\\displaystyle \\left[\\begin{matrix}1 & 1 & 1 & 1 & 6\\\\1 & 2 & 2 & 2 & 8\\\\1 & 2 & 3 & 3 & -2\\\\1 & 2 & 3 & 4 & 6\\end{matrix}\\right]$"
            ],
            "text/plain": [
              "⎡1  1  1  1  6 ⎤\n",
              "⎢              ⎥\n",
              "⎢1  2  2  2  8 ⎥\n",
              "⎢              ⎥\n",
              "⎢1  2  3  3  -2⎥\n",
              "⎢              ⎥\n",
              "⎣1  2  3  4  6 ⎦"
            ]
          },
          "execution_count": 20,
          "metadata": {},
          "output_type": "execute_result"
        }
      ],
      "source": [
        "A1 = Matrix([[1,1,1,1,6],[1,2,2,2,8],[1,2,3,3,-2],[1,2,3,4,6]])\n",
        "A1"
      ]
    },
    {
      "cell_type": "code",
      "execution_count": null,
      "metadata": {
        "id": "x9U1D59dvJdL",
        "outputId": "8ca657f7-d22f-48dc-b93a-af7237d4251d"
      },
      "outputs": [
        {
          "data": {
            "text/latex": [
              "$\\displaystyle \\left( \\left[\\begin{matrix}1 & 0 & 0 & 0 & 4\\\\0 & 1 & 0 & 0 & 12\\\\0 & 0 & 1 & 0 & -18\\\\0 & 0 & 0 & 1 & 8\\end{matrix}\\right], \\  \\left( 0, \\  1, \\  2, \\  3\\right)\\right)$"
            ],
            "text/plain": [
              "⎛⎡1  0  0  0   4 ⎤              ⎞\n",
              "⎜⎢               ⎥              ⎟\n",
              "⎜⎢0  1  0  0  12 ⎥              ⎟\n",
              "⎜⎢               ⎥, (0, 1, 2, 3)⎟\n",
              "⎜⎢0  0  1  0  -18⎥              ⎟\n",
              "⎜⎢               ⎥              ⎟\n",
              "⎝⎣0  0  0  1   8 ⎦              ⎠"
            ]
          },
          "execution_count": 21,
          "metadata": {},
          "output_type": "execute_result"
        }
      ],
      "source": [
        "A1.rref()"
      ]
    },
    {
      "cell_type": "markdown",
      "metadata": {
        "id": "QoRGDeoXvJdL"
      },
      "source": [
        "$$\\begin{pmatrix}x\\\\y\\\\z\\\\w\\end{pmatrix}=\\begin{pmatrix}4\\\\12\\\\-18\\\\8\\end{pmatrix}$$"
      ]
    },
    {
      "cell_type": "markdown",
      "metadata": {
        "id": "AtdcmnlZvJdM"
      },
      "source": [
        "El sistema tiene solución única debido a que el número de pivotes es igual al número de columnas en su parte no aumentada.\n",
        "\n",
        "$$ 4 + 12 + (-18) + 8 = 6 $$\n",
        "$$ 4 + 2(12) + 2(-18) + 2(8) = 8 $$\n",
        "$$ 4 + 2(12) + 3(-18) + 3(8) = -2 $$\n",
        "$$ 4 + 2(12) + 3(-18) + 4(8) = 6 $$"
      ]
    },
    {
      "cell_type": "markdown",
      "metadata": {
        "id": "5y6XAMa4vJdN"
      },
      "source": [
        "**b**\n",
        "\n",
        "$$ x - 2y + 3z - 4w = 5 $$\n",
        "$$ -6x + 7y - 8z + 9w = -10 $$\n",
        "$$ 11x - 12y - 14z + 13w = 15 $$\n",
        "$$ -16x + 17y - 18z + 19w = -20 $$"
      ]
    },
    {
      "cell_type": "code",
      "execution_count": null,
      "metadata": {
        "id": "Rk8lVwRjvJdN",
        "outputId": "ad343973-f3a8-469d-e3b3-3bb8d086f787"
      },
      "outputs": [
        {
          "data": {
            "text/latex": [
              "$\\displaystyle \\left[\\begin{matrix}1 & -2 & 3 & -4 & 5\\\\-6 & 7 & -8 & 9 & -10\\\\11 & -12 & -14 & 13 & 15\\\\-16 & 17 & -18 & 19 & -20\\end{matrix}\\right]$"
            ],
            "text/plain": [
              "⎡ 1   -2    3   -4   5 ⎤\n",
              "⎢                      ⎥\n",
              "⎢-6    7   -8   9   -10⎥\n",
              "⎢                      ⎥\n",
              "⎢11   -12  -14  13  15 ⎥\n",
              "⎢                      ⎥\n",
              "⎣-16  17   -18  19  -20⎦"
            ]
          },
          "execution_count": 22,
          "metadata": {},
          "output_type": "execute_result"
        }
      ],
      "source": [
        "B1 = Matrix([[1,-2,3,-4,5],[-6,7,-8,9,-10],[11,-12,-14,13,15],[-16,17,-18,19,-20]])\n",
        "B1"
      ]
    },
    {
      "cell_type": "code",
      "execution_count": null,
      "metadata": {
        "id": "3nGzN0FtvJdO",
        "outputId": "792c116a-4dee-4d64-f10f-f4bbbb5149ef"
      },
      "outputs": [
        {
          "data": {
            "text/latex": [
              "$\\displaystyle \\left( \\left[\\begin{matrix}1 & 0 & 0 & 1 & -3\\\\0 & 1 & 0 & 1 & -4\\\\0 & 0 & 1 & -1 & 0\\\\0 & 0 & 0 & 0 & 0\\end{matrix}\\right], \\  \\left( 0, \\  1, \\  2\\right)\\right)$"
            ],
            "text/plain": [
              "⎛⎡1  0  0  1   -3⎤           ⎞\n",
              "⎜⎢               ⎥           ⎟\n",
              "⎜⎢0  1  0  1   -4⎥           ⎟\n",
              "⎜⎢               ⎥, (0, 1, 2)⎟\n",
              "⎜⎢0  0  1  -1  0 ⎥           ⎟\n",
              "⎜⎢               ⎥           ⎟\n",
              "⎝⎣0  0  0  0   0 ⎦           ⎠"
            ]
          },
          "execution_count": 23,
          "metadata": {},
          "output_type": "execute_result"
        }
      ],
      "source": [
        "B1.rref()"
      ]
    },
    {
      "cell_type": "markdown",
      "metadata": {
        "id": "P_kX5HxovJdO"
      },
      "source": [
        "El sistema tiene infinitas soluciones\n",
        "\n",
        "$$ x + w = -3 $$\n",
        "$$ y + w = -4 $$\n",
        "$$ z - w =  0 $$\n",
        "\n",
        "$$ x = -3 - w $$\n",
        "$$ y = -4 - w $$\n",
        "$$ z =  0 + w $$\n",
        "$$ w = w $$"
      ]
    },
    {
      "cell_type": "markdown",
      "metadata": {
        "id": "OsXpzvkcvJdO"
      },
      "source": [
        "**c.**\n",
        "\n",
        "$$ x + 2y + z + 2w = 3 $$\n",
        "$$ 2x + 4y + z + 3w = 4 $$\n",
        "$$ 3x + 6y + z + 4w = 5 $$"
      ]
    },
    {
      "cell_type": "code",
      "execution_count": null,
      "metadata": {
        "id": "M8Oz2zWkvJdO",
        "outputId": "c388ad4f-2933-4fc2-8339-12eed0f8a7b6"
      },
      "outputs": [
        {
          "data": {
            "text/latex": [
              "$\\displaystyle \\left[\\begin{matrix}1 & 2 & 1 & 2 & 3\\\\2 & 4 & 1 & 3 & 4\\\\3 & 6 & 1 & 4 & 5\\end{matrix}\\right]$"
            ],
            "text/plain": [
              "⎡1  2  1  2  3⎤\n",
              "⎢             ⎥\n",
              "⎢2  4  1  3  4⎥\n",
              "⎢             ⎥\n",
              "⎣3  6  1  4  5⎦"
            ]
          },
          "execution_count": 24,
          "metadata": {},
          "output_type": "execute_result"
        }
      ],
      "source": [
        "C1 = Matrix([[1,2,1,2,3],[2,4,1,3,4],[3,6,1,4,5]])\n",
        "C1"
      ]
    },
    {
      "cell_type": "code",
      "execution_count": null,
      "metadata": {
        "id": "yi323kZbvJdP",
        "outputId": "4e3013b4-2735-4bad-e063-bd60b3592eaa"
      },
      "outputs": [
        {
          "data": {
            "text/latex": [
              "$\\displaystyle \\left( \\left[\\begin{matrix}1 & 2 & 0 & 1 & 1\\\\0 & 0 & 1 & 1 & 2\\\\0 & 0 & 0 & 0 & 0\\end{matrix}\\right], \\  \\left( 0, \\  2\\right)\\right)$"
            ],
            "text/plain": [
              "⎛⎡1  2  0  1  1⎤        ⎞\n",
              "⎜⎢             ⎥        ⎟\n",
              "⎜⎢0  0  1  1  2⎥, (0, 2)⎟\n",
              "⎜⎢             ⎥        ⎟\n",
              "⎝⎣0  0  0  0  0⎦        ⎠"
            ]
          },
          "execution_count": 25,
          "metadata": {},
          "output_type": "execute_result"
        }
      ],
      "source": [
        "C1.rref()"
      ]
    },
    {
      "cell_type": "markdown",
      "metadata": {
        "id": "YYJ7my72vJdP"
      },
      "source": [
        "El sistema tiene infinitas soluciones, pues tiene una fila nula y el número de pivotes es menor al número de columnas.\n",
        "\n",
        "$$ x + 2y + w = 1 $$\n",
        "$$ z + w = 2 $$\n",
        "\n",
        "$$ x = 1 -2y -w$$\n",
        "$$ y = y $$\n",
        "$$ z = 2 - w $$\n",
        "$$ w = w $$"
      ]
    },
    {
      "cell_type": "markdown",
      "metadata": {
        "id": "hIvozAT-vJdQ"
      },
      "source": [
        "**Punto 4.** Hallar x,y,z y w si:\n",
        "\n",
        "$$3\\begin{pmatrix}x & y\\\\z & w\\end{pmatrix} = \\begin{pmatrix}x & 6\\\\-1 & 2w\\end{pmatrix} + \\begin{pmatrix}4 & x + y\\\\z + w & 3\\end{pmatrix}$$"
      ]
    },
    {
      "cell_type": "markdown",
      "metadata": {
        "id": "ycdTIkVAvJdQ"
      },
      "source": [
        "Planteamos el ejercicio:\n",
        "\n",
        "$$3x = x + 4$$\n",
        "$$3y = 6 + x + y$$\n",
        "$$3z = -1 + z + w$$\n",
        "$$3w = 2w + 3$$\n",
        "\n",
        "De otra forma:\n",
        "\n",
        "$$3x - x = 4$$\n",
        "$$-x -y + 3y = 6$$\n",
        "$$3z - z - w = -1$$\n",
        "$$3w - 2w = 3$$\n",
        "\n",
        "Solucionando términos, las ecuaciones para encontrar la incógnita serían:\n",
        "\n",
        "$$2x = 4$$\n",
        "$$-x + 2y = 6$$\n",
        "$$2z - w = -1$$\n",
        "$$w = 3$$\n",
        "\n",
        "Y en forma matricial :"
      ]
    },
    {
      "cell_type": "code",
      "execution_count": null,
      "metadata": {
        "id": "RNmY4VCtvJdR",
        "outputId": "0d6a2609-6074-486f-ba33-f1e0398c0e4f"
      },
      "outputs": [
        {
          "data": {
            "text/latex": [
              "$\\displaystyle \\left[\\begin{matrix}2 & 0 & 0 & 0 & 4\\\\-1 & 2 & 0 & 0 & 6\\\\0 & 0 & 2 & -1 & -1\\\\0 & 0 & 0 & 1 & 3\\end{matrix}\\right]$"
            ],
            "text/plain": [
              "⎡2   0  0  0   4 ⎤\n",
              "⎢                ⎥\n",
              "⎢-1  2  0  0   6 ⎥\n",
              "⎢                ⎥\n",
              "⎢0   0  2  -1  -1⎥\n",
              "⎢                ⎥\n",
              "⎣0   0  0  1   3 ⎦"
            ]
          },
          "execution_count": 26,
          "metadata": {},
          "output_type": "execute_result"
        }
      ],
      "source": [
        "M2 = Matrix([[2,0,0,0,4],[-1,2,0,0,6],[0,0,2,-1,-1],[0,0,0,1,3]])\n",
        "M2"
      ]
    },
    {
      "cell_type": "code",
      "execution_count": null,
      "metadata": {
        "id": "eSg1MJjJvJdS",
        "outputId": "ee902a48-0d1b-4e33-e975-ecd19d7fabd3"
      },
      "outputs": [
        {
          "data": {
            "text/latex": [
              "$\\displaystyle \\left( \\left[\\begin{matrix}1 & 0 & 0 & 0 & 2\\\\0 & 1 & 0 & 0 & 4\\\\0 & 0 & 1 & 0 & 1\\\\0 & 0 & 0 & 1 & 3\\end{matrix}\\right], \\  \\left( 0, \\  1, \\  2, \\  3\\right)\\right)$"
            ],
            "text/plain": [
              "⎛⎡1  0  0  0  2⎤              ⎞\n",
              "⎜⎢             ⎥              ⎟\n",
              "⎜⎢0  1  0  0  4⎥              ⎟\n",
              "⎜⎢             ⎥, (0, 1, 2, 3)⎟\n",
              "⎜⎢0  0  1  0  1⎥              ⎟\n",
              "⎜⎢             ⎥              ⎟\n",
              "⎝⎣0  0  0  1  3⎦              ⎠"
            ]
          },
          "execution_count": 27,
          "metadata": {},
          "output_type": "execute_result"
        }
      ],
      "source": [
        "M2.rref()"
      ]
    },
    {
      "cell_type": "markdown",
      "metadata": {
        "id": "VIPMGthNvJdS"
      },
      "source": [
        "$$\\begin{pmatrix}x\\\\y\\\\z\\\\w\\end{pmatrix}=\\begin{pmatrix}2\\\\4\\\\1\\\\3\\end{pmatrix}$$"
      ]
    },
    {
      "cell_type": "markdown",
      "metadata": {
        "id": "K--34gS1vJdT"
      },
      "source": [
        "**Punto 5** Solucione:"
      ]
    },
    {
      "cell_type": "markdown",
      "metadata": {
        "id": "e4GMM5GAvJdU"
      },
      "source": [
        "![Captura%20de%20pantalla%202023-03-27%20205958.png](attachment:Captura%20de%20pantalla%202023-03-27%20205958.png)"
      ]
    },
    {
      "cell_type": "code",
      "execution_count": null,
      "metadata": {
        "id": "j-CKeEKYvJdV"
      },
      "outputs": [],
      "source": []
    }
  ],
  "metadata": {
    "kernelspec": {
      "display_name": "Python 3",
      "language": "python",
      "name": "python3"
    },
    "language_info": {
      "codemirror_mode": {
        "name": "ipython",
        "version": 3
      },
      "file_extension": ".py",
      "mimetype": "text/x-python",
      "name": "python",
      "nbconvert_exporter": "python",
      "pygments_lexer": "ipython3",
      "version": "3.8.5"
    },
    "colab": {
      "provenance": [],
      "include_colab_link": true
    }
  },
  "nbformat": 4,
  "nbformat_minor": 0
}