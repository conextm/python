{
  "cells": [
    {
      "cell_type": "markdown",
      "metadata": {
        "id": "view-in-github",
        "colab_type": "text"
      },
      "source": [
        "<a href=\"https://colab.research.google.com/github/conextm/python/blob/main/xgboost_example.ipynb\" target=\"_parent\"><img src=\"https://colab.research.google.com/assets/colab-badge.svg\" alt=\"Open In Colab\"/></a>"
      ]
    },
    {
      "cell_type": "code",
      "execution_count": 1,
      "metadata": {
        "colab": {
          "base_uri": "https://localhost:8080/"
        },
        "id": "Y7ZzeHEG7Xqz",
        "outputId": "7227445f-5bea-42e8-c6a9-93db03212803"
      },
      "outputs": [
        {
          "output_type": "stream",
          "name": "stdout",
          "text": [
            "Collecting optuna\n",
            "  Downloading optuna-3.6.1-py3-none-any.whl (380 kB)\n",
            "\u001b[2K     \u001b[90m━━━━━━━━━━━━━━━━━━━━━━━━━━━━━━━━━━━━━━━━\u001b[0m \u001b[32m380.1/380.1 kB\u001b[0m \u001b[31m6.2 MB/s\u001b[0m eta \u001b[36m0:00:00\u001b[0m\n",
            "\u001b[?25hCollecting alembic>=1.5.0 (from optuna)\n",
            "  Downloading alembic-1.13.1-py3-none-any.whl (233 kB)\n",
            "\u001b[2K     \u001b[90m━━━━━━━━━━━━━━━━━━━━━━━━━━━━━━━━━━━━━━━━\u001b[0m \u001b[32m233.4/233.4 kB\u001b[0m \u001b[31m9.3 MB/s\u001b[0m eta \u001b[36m0:00:00\u001b[0m\n",
            "\u001b[?25hCollecting colorlog (from optuna)\n",
            "  Downloading colorlog-6.8.2-py3-none-any.whl (11 kB)\n",
            "Requirement already satisfied: numpy in /usr/local/lib/python3.10/dist-packages (from optuna) (1.25.2)\n",
            "Requirement already satisfied: packaging>=20.0 in /usr/local/lib/python3.10/dist-packages (from optuna) (24.0)\n",
            "Requirement already satisfied: sqlalchemy>=1.3.0 in /usr/local/lib/python3.10/dist-packages (from optuna) (2.0.29)\n",
            "Requirement already satisfied: tqdm in /usr/local/lib/python3.10/dist-packages (from optuna) (4.66.2)\n",
            "Requirement already satisfied: PyYAML in /usr/local/lib/python3.10/dist-packages (from optuna) (6.0.1)\n",
            "Collecting Mako (from alembic>=1.5.0->optuna)\n",
            "  Downloading Mako-1.3.3-py3-none-any.whl (78 kB)\n",
            "\u001b[2K     \u001b[90m━━━━━━━━━━━━━━━━━━━━━━━━━━━━━━━━━━━━━━━━\u001b[0m \u001b[32m78.8/78.8 kB\u001b[0m \u001b[31m8.3 MB/s\u001b[0m eta \u001b[36m0:00:00\u001b[0m\n",
            "\u001b[?25hRequirement already satisfied: typing-extensions>=4 in /usr/local/lib/python3.10/dist-packages (from alembic>=1.5.0->optuna) (4.11.0)\n",
            "Requirement already satisfied: greenlet!=0.4.17 in /usr/local/lib/python3.10/dist-packages (from sqlalchemy>=1.3.0->optuna) (3.0.3)\n",
            "Requirement already satisfied: MarkupSafe>=0.9.2 in /usr/local/lib/python3.10/dist-packages (from Mako->alembic>=1.5.0->optuna) (2.1.5)\n",
            "Installing collected packages: Mako, colorlog, alembic, optuna\n",
            "Successfully installed Mako-1.3.3 alembic-1.13.1 colorlog-6.8.2 optuna-3.6.1\n"
          ]
        }
      ],
      "source": [
        "!pip install optuna"
      ]
    },
    {
      "cell_type": "code",
      "execution_count": 2,
      "metadata": {
        "id": "dq5Ao4Aj7MxU"
      },
      "outputs": [],
      "source": [
        "import pandas as pd\n",
        "from sklearn.model_selection import train_test_split\n",
        "\n",
        "url = \"https://archive.ics.uci.edu/ml/machine-learning-databases/wine-quality/winequality-red.csv\"\n",
        "data = pd.read_csv(url, delimiter=\";\")\n",
        "\n",
        "X = data.drop(\"quality\", axis=1)\n",
        "y = data[\"quality\"]\n",
        "\n",
        "X_train, X_val, y_train, y_val = train_test_split(X, y, test_size=0.2, random_state=42)"
      ]
    },
    {
      "cell_type": "code",
      "execution_count": 3,
      "metadata": {
        "id": "iXD95Qg97LbD"
      },
      "outputs": [],
      "source": [
        "import xgboost as xgb\n",
        "from sklearn.metrics import mean_squared_error\n",
        "import optuna\n",
        "\n",
        "def objective(trial):\n",
        "    params = {\n",
        "        \"objective\": \"reg:squarederror\",\n",
        "        \"n_estimators\": 1000,\n",
        "        \"verbosity\": 0,\n",
        "        \"learning_rate\": trial.suggest_float(\"learning_rate\", 1e-3, 0.1, log=True),\n",
        "        \"max_depth\": trial.suggest_int(\"max_depth\", 1, 10),\n",
        "        \"subsample\": trial.suggest_float(\"subsample\", 0.05, 1.0),\n",
        "        \"colsample_bytree\": trial.suggest_float(\"colsample_bytree\", 0.05, 1.0),\n",
        "        \"min_child_weight\": trial.suggest_int(\"min_child_weight\", 1, 20),\n",
        "    }\n",
        "\n",
        "    model = xgb.XGBRegressor(**params)\n",
        "    model.fit(X_train, y_train, verbose=False)\n",
        "    predictions = model.predict(X_val)\n",
        "    rmse = mean_squared_error(y_val, predictions, squared=False)\n",
        "    return rmse"
      ]
    },
    {
      "cell_type": "code",
      "execution_count": 4,
      "metadata": {
        "colab": {
          "base_uri": "https://localhost:8080/"
        },
        "id": "ebM_U5IL7V1g",
        "outputId": "86ef7be8-27ec-4a21-fc7a-af956f579b7b"
      },
      "outputs": [
        {
          "output_type": "stream",
          "name": "stderr",
          "text": [
            "[I 2024-04-26 23:50:42,912] A new study created in memory with name: no-name-6e737fc1-9b31-4b2d-8ac5-64c02f4c7d51\n",
            "[I 2024-04-26 23:50:51,377] Trial 0 finished with value: 0.5727919647451677 and parameters: {'learning_rate': 0.002387534462548318, 'max_depth': 7, 'subsample': 0.7650579559521575, 'colsample_bytree': 0.7460968824295521, 'min_child_weight': 4}. Best is trial 0 with value: 0.5727919647451677.\n",
            "[I 2024-04-26 23:50:56,040] Trial 1 finished with value: 0.5526415868668064 and parameters: {'learning_rate': 0.007252837899345206, 'max_depth': 8, 'subsample': 0.7064108026841609, 'colsample_bytree': 0.9974557615508874, 'min_child_weight': 15}. Best is trial 1 with value: 0.5526415868668064.\n",
            "[I 2024-04-26 23:50:57,179] Trial 2 finished with value: 0.5450127064055098 and parameters: {'learning_rate': 0.08215271837615362, 'max_depth': 8, 'subsample': 0.8466360244798069, 'colsample_bytree': 0.797669087406835, 'min_child_weight': 8}. Best is trial 2 with value: 0.5450127064055098.\n",
            "[I 2024-04-26 23:50:59,273] Trial 3 finished with value: 0.5624933222222841 and parameters: {'learning_rate': 0.04166635351508717, 'max_depth': 8, 'subsample': 0.5431869720657734, 'colsample_bytree': 0.30145648384843304, 'min_child_weight': 14}. Best is trial 2 with value: 0.5450127064055098.\n",
            "[I 2024-04-26 23:50:59,872] Trial 4 finished with value: 0.6233302792453139 and parameters: {'learning_rate': 0.00961696719665892, 'max_depth': 1, 'subsample': 0.31809897045367874, 'colsample_bytree': 0.5767563264093922, 'min_child_weight': 9}. Best is trial 2 with value: 0.5450127064055098.\n",
            "[I 2024-04-26 23:51:00,475] Trial 5 finished with value: 0.5755708773474888 and parameters: {'learning_rate': 0.032547770465212615, 'max_depth': 9, 'subsample': 0.5653033803834848, 'colsample_bytree': 0.2495890678670762, 'min_child_weight': 20}. Best is trial 2 with value: 0.5450127064055098.\n",
            "[I 2024-04-26 23:51:01,082] Trial 6 finished with value: 0.568484515500051 and parameters: {'learning_rate': 0.033662924551390826, 'max_depth': 8, 'subsample': 0.16310846732877265, 'colsample_bytree': 0.6737216520071675, 'min_child_weight': 10}. Best is trial 2 with value: 0.5450127064055098.\n",
            "[I 2024-04-26 23:51:02,107] Trial 7 finished with value: 0.5550374086679748 and parameters: {'learning_rate': 0.005143175910074272, 'max_depth': 9, 'subsample': 0.31974878927601863, 'colsample_bytree': 0.5372689800184446, 'min_child_weight': 5}. Best is trial 2 with value: 0.5450127064055098.\n",
            "[I 2024-04-26 23:51:02,791] Trial 8 finished with value: 0.6384818059235594 and parameters: {'learning_rate': 0.0012488413734942018, 'max_depth': 5, 'subsample': 0.5092773277401972, 'colsample_bytree': 0.6325142198317228, 'min_child_weight': 5}. Best is trial 2 with value: 0.5450127064055098.\n",
            "[I 2024-04-26 23:51:03,555] Trial 9 finished with value: 0.5543225485558986 and parameters: {'learning_rate': 0.008298362670094012, 'max_depth': 10, 'subsample': 0.544763513438166, 'colsample_bytree': 0.5100756936867262, 'min_child_weight': 19}. Best is trial 2 with value: 0.5450127064055098.\n",
            "[I 2024-04-26 23:51:04,207] Trial 10 finished with value: 0.6048891530050261 and parameters: {'learning_rate': 0.09188997395743033, 'max_depth': 4, 'subsample': 0.9960742350221721, 'colsample_bytree': 0.9555426315961373, 'min_child_weight': 1}. Best is trial 2 with value: 0.5450127064055098.\n",
            "[I 2024-04-26 23:51:05,012] Trial 11 finished with value: 0.5531036893107937 and parameters: {'learning_rate': 0.017517236664592196, 'max_depth': 6, 'subsample': 0.823064863138665, 'colsample_bytree': 0.9286437128325593, 'min_child_weight': 14}. Best is trial 2 with value: 0.5450127064055098.\n",
            "[I 2024-04-26 23:51:05,469] Trial 12 finished with value: 0.6025539270234535 and parameters: {'learning_rate': 0.004042762526033476, 'max_depth': 3, 'subsample': 0.7816804374692938, 'colsample_bytree': 0.826856582525356, 'min_child_weight': 15}. Best is trial 2 with value: 0.5450127064055098.\n",
            "[I 2024-04-26 23:51:06,544] Trial 13 finished with value: 0.5696721661540264 and parameters: {'learning_rate': 0.07661061015966696, 'max_depth': 7, 'subsample': 0.9900129353883343, 'colsample_bytree': 0.9899551145879419, 'min_child_weight': 8}. Best is trial 2 with value: 0.5450127064055098.\n",
            "[I 2024-04-26 23:51:07,614] Trial 14 finished with value: 0.5399706353272449 and parameters: {'learning_rate': 0.017002159619919792, 'max_depth': 10, 'subsample': 0.7122837800623951, 'colsample_bytree': 0.8244386555671335, 'min_child_weight': 17}. Best is trial 14 with value: 0.5399706353272449.\n",
            "[I 2024-04-26 23:51:08,278] Trial 15 finished with value: 0.6568339769949917 and parameters: {'learning_rate': 0.01862062881116867, 'max_depth': 10, 'subsample': 0.8769279059941043, 'colsample_bytree': 0.07740238474363104, 'min_child_weight': 17}. Best is trial 14 with value: 0.5399706353272449.\n",
            "[I 2024-04-26 23:51:09,420] Trial 16 finished with value: 0.5394016621908936 and parameters: {'learning_rate': 0.01739706163919491, 'max_depth': 10, 'subsample': 0.649408569321605, 'colsample_bytree': 0.8096964085572826, 'min_child_weight': 12}. Best is trial 16 with value: 0.5394016621908936.\n",
            "[I 2024-04-26 23:51:12,044] Trial 17 finished with value: 0.5398008166585492 and parameters: {'learning_rate': 0.016213274994500936, 'max_depth': 10, 'subsample': 0.6557251667373819, 'colsample_bytree': 0.4092183079485615, 'min_child_weight': 13}. Best is trial 16 with value: 0.5394016621908936.\n",
            "[I 2024-04-26 23:51:12,869] Trial 18 finished with value: 0.5974296255178907 and parameters: {'learning_rate': 0.014962501592075964, 'max_depth': 2, 'subsample': 0.6360242962541167, 'colsample_bytree': 0.37060357594765625, 'min_child_weight': 11}. Best is trial 16 with value: 0.5394016621908936.\n",
            "[I 2024-04-26 23:51:13,435] Trial 19 finished with value: 0.563135681067661 and parameters: {'learning_rate': 0.04159638838098696, 'max_depth': 6, 'subsample': 0.4002833023817387, 'colsample_bytree': 0.42488359426937233, 'min_child_weight': 12}. Best is trial 16 with value: 0.5394016621908936.\n",
            "[I 2024-04-26 23:51:14,053] Trial 20 finished with value: 0.6567640439349974 and parameters: {'learning_rate': 0.02408840491524433, 'max_depth': 9, 'subsample': 0.42350004855914425, 'colsample_bytree': 0.14557410696560025, 'min_child_weight': 12}. Best is trial 16 with value: 0.5394016621908936.\n",
            "[I 2024-04-26 23:51:15,148] Trial 21 finished with value: 0.548283815975435 and parameters: {'learning_rate': 0.013275388601063656, 'max_depth': 10, 'subsample': 0.6725933348501094, 'colsample_bytree': 0.8607881781501631, 'min_child_weight': 17}. Best is trial 16 with value: 0.5394016621908936.\n",
            "[I 2024-04-26 23:51:16,092] Trial 22 finished with value: 0.5480021840236977 and parameters: {'learning_rate': 0.023520265660817434, 'max_depth': 10, 'subsample': 0.6560277123426651, 'colsample_bytree': 0.6926885373314569, 'min_child_weight': 18}. Best is trial 16 with value: 0.5394016621908936.\n",
            "[I 2024-04-26 23:51:17,004] Trial 23 finished with value: 0.5407861209574119 and parameters: {'learning_rate': 0.013023616742901303, 'max_depth': 9, 'subsample': 0.7211617884908849, 'colsample_bytree': 0.45881175554687953, 'min_child_weight': 13}. Best is trial 16 with value: 0.5394016621908936.\n",
            "[I 2024-04-26 23:51:18,122] Trial 24 finished with value: 0.5585952367967493 and parameters: {'learning_rate': 0.004528927428215428, 'max_depth': 10, 'subsample': 0.6125020862441007, 'colsample_bytree': 0.8938398850865227, 'min_child_weight': 16}. Best is trial 16 with value: 0.5394016621908936.\n",
            "[I 2024-04-26 23:51:19,034] Trial 25 finished with value: 0.5514997659996058 and parameters: {'learning_rate': 0.0062705069602286174, 'max_depth': 7, 'subsample': 0.9179145748492663, 'colsample_bytree': 0.5929669290171269, 'min_child_weight': 11}. Best is trial 16 with value: 0.5394016621908936.\n",
            "[I 2024-04-26 23:51:19,949] Trial 26 finished with value: 0.566418633699008 and parameters: {'learning_rate': 0.059540936574364475, 'max_depth': 9, 'subsample': 0.4541056135226729, 'colsample_bytree': 0.7529696700662805, 'min_child_weight': 13}. Best is trial 16 with value: 0.5394016621908936.\n",
            "[I 2024-04-26 23:51:20,760] Trial 27 finished with value: 0.5558008040213184 and parameters: {'learning_rate': 0.010950186901562622, 'max_depth': 10, 'subsample': 0.7444240557883783, 'colsample_bytree': 0.33349379574428956, 'min_child_weight': 16}. Best is trial 16 with value: 0.5394016621908936.\n",
            "[I 2024-04-26 23:51:21,266] Trial 28 finished with value: 0.5769084060938254 and parameters: {'learning_rate': 0.025600086622932446, 'max_depth': 9, 'subsample': 0.17707179225974717, 'colsample_bytree': 0.7823563497791628, 'min_child_weight': 20}. Best is trial 16 with value: 0.5394016621908936.\n",
            "[I 2024-04-26 23:51:23,219] Trial 29 finished with value: 0.5673083783190263 and parameters: {'learning_rate': 0.0027388686321238205, 'max_depth': 7, 'subsample': 0.7991658797246624, 'colsample_bytree': 0.7051281071439286, 'min_child_weight': 7}. Best is trial 16 with value: 0.5394016621908936.\n"
          ]
        }
      ],
      "source": [
        "study = optuna.create_study(direction='minimize')\n",
        "study.optimize(objective, n_trials=30)"
      ]
    },
    {
      "cell_type": "code",
      "execution_count": 5,
      "metadata": {
        "colab": {
          "base_uri": "https://localhost:8080/"
        },
        "id": "CxJZRLdg7dwx",
        "outputId": "d3b3f860-3d6c-44ce-fd8d-5cf1da3e297c"
      },
      "outputs": [
        {
          "output_type": "stream",
          "name": "stdout",
          "text": [
            "Best hyperparameters: {'learning_rate': 0.01739706163919491, 'max_depth': 10, 'subsample': 0.649408569321605, 'colsample_bytree': 0.8096964085572826, 'min_child_weight': 12}\n",
            "Best RMSE: 0.5394016621908936\n"
          ]
        }
      ],
      "source": [
        "print('Best hyperparameters:', study.best_params)\n",
        "print('Best RMSE:', study.best_value)\n",
        "\n"
      ]
    }
  ],
  "metadata": {
    "colab": {
      "provenance": [],
      "include_colab_link": true
    },
    "kernelspec": {
      "display_name": "Python 3",
      "name": "python3"
    },
    "language_info": {
      "name": "python"
    }
  },
  "nbformat": 4,
  "nbformat_minor": 0
}