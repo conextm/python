{
  "nbformat": 4,
  "nbformat_minor": 0,
  "metadata": {
    "colab": {
      "provenance": [],
      "include_colab_link": true
    },
    "kernelspec": {
      "name": "python3",
      "display_name": "Python 3"
    },
    "language_info": {
      "name": "python"
    }
  },
  "cells": [
    {
      "cell_type": "markdown",
      "metadata": {
        "id": "view-in-github",
        "colab_type": "text"
      },
      "source": [
        "<a href=\"https://colab.research.google.com/github/conextm/python/blob/main/Validacion_cruzada.ipynb\" target=\"_parent\"><img src=\"https://colab.research.google.com/assets/colab-badge.svg\" alt=\"Open In Colab\"/></a>"
      ]
    },
    {
      "cell_type": "code",
      "source": [
        "import pandas as pd\n",
        "import numpy as np\n",
        "from sklearn.model_selection import cross_val_score\n",
        "from sklearn.preprocessing import StandardScaler, OneHotEncoder\n",
        "from sklearn.compose import ColumnTransformer\n",
        "from sklearn.pipeline import Pipeline\n",
        "from sklearn.linear_model import LogisticRegression\n",
        "from sklearn.tree import DecisionTreeClassifier\n",
        "from sklearn.feature_selection import SelectKBest, f_classif"
      ],
      "metadata": {
        "id": "15L_8zsFhUCL"
      },
      "execution_count": null,
      "outputs": []
    },
    {
      "cell_type": "markdown",
      "source": [
        "**Predicción de la Intención de Compra de Usuarios en Amazon**\n",
        "\n",
        "Amazon quiere mejorar la precisión con la que predice si un usuario, después de navegar por el sitio, realizará una compra dentro de las próximas 24 horas. Esto permitirá a Amazon ofrecer ofertas personalizadas a tiempo o hacer recomendaciones específicas para incentivar la compra.\n",
        "\n",
        "**Características del Dataset:** Historial de navegación, categorías de productos visitados, tiempo en el sitio, historial de compras previas, frecuencia de visitas en el último mes, reviews realizadas, entre otras.\n",
        "\n",
        "**Variable Objetivo**: Compra (1 si el usuario compra dentro de las próximas 24 horas, 0 en caso contrario)."
      ],
      "metadata": {
        "id": "g5XgE_flt8pa"
      }
    },
    {
      "cell_type": "code",
      "source": [
        "df = pd.read_csv('fictional_amazon_products.csv')"
      ],
      "metadata": {
        "id": "6nuvNFJqhdk1"
      },
      "execution_count": null,
      "outputs": []
    },
    {
      "cell_type": "code",
      "source": [
        "df.head(1)"
      ],
      "metadata": {
        "colab": {
          "base_uri": "https://localhost:8080/",
          "height": 118
        },
        "id": "ZTWNHpucuyPV",
        "outputId": "ab864c92-f290-47a3-80b6-9a04d98d8bfa"
      },
      "execution_count": null,
      "outputs": [
        {
          "output_type": "execute_result",
          "data": {
            "text/plain": [
              "   Unnamed: 0  historial_navegacion  tiempo_en_sitio  visitas_ultimo_mes  \\\n",
              "0           0                    52        30.377761                   7   \n",
              "\n",
              "  categoria_producto historial_compras   reviews  edad  membresia_prime  \\\n",
              "0             libros              baja  positiva    32                1   \n",
              "\n",
              "   dias_desde_ult_compra  Compra  \n",
              "0                     39       1  "
            ],
            "text/html": [
              "\n",
              "  <div id=\"df-36b92ebe-ffe3-490d-b6e8-3ce186dd83be\" class=\"colab-df-container\">\n",
              "    <div>\n",
              "<style scoped>\n",
              "    .dataframe tbody tr th:only-of-type {\n",
              "        vertical-align: middle;\n",
              "    }\n",
              "\n",
              "    .dataframe tbody tr th {\n",
              "        vertical-align: top;\n",
              "    }\n",
              "\n",
              "    .dataframe thead th {\n",
              "        text-align: right;\n",
              "    }\n",
              "</style>\n",
              "<table border=\"1\" class=\"dataframe\">\n",
              "  <thead>\n",
              "    <tr style=\"text-align: right;\">\n",
              "      <th></th>\n",
              "      <th>Unnamed: 0</th>\n",
              "      <th>historial_navegacion</th>\n",
              "      <th>tiempo_en_sitio</th>\n",
              "      <th>visitas_ultimo_mes</th>\n",
              "      <th>categoria_producto</th>\n",
              "      <th>historial_compras</th>\n",
              "      <th>reviews</th>\n",
              "      <th>edad</th>\n",
              "      <th>membresia_prime</th>\n",
              "      <th>dias_desde_ult_compra</th>\n",
              "      <th>Compra</th>\n",
              "    </tr>\n",
              "  </thead>\n",
              "  <tbody>\n",
              "    <tr>\n",
              "      <th>0</th>\n",
              "      <td>0</td>\n",
              "      <td>52</td>\n",
              "      <td>30.377761</td>\n",
              "      <td>7</td>\n",
              "      <td>libros</td>\n",
              "      <td>baja</td>\n",
              "      <td>positiva</td>\n",
              "      <td>32</td>\n",
              "      <td>1</td>\n",
              "      <td>39</td>\n",
              "      <td>1</td>\n",
              "    </tr>\n",
              "  </tbody>\n",
              "</table>\n",
              "</div>\n",
              "    <div class=\"colab-df-buttons\">\n",
              "\n",
              "  <div class=\"colab-df-container\">\n",
              "    <button class=\"colab-df-convert\" onclick=\"convertToInteractive('df-36b92ebe-ffe3-490d-b6e8-3ce186dd83be')\"\n",
              "            title=\"Convert this dataframe to an interactive table.\"\n",
              "            style=\"display:none;\">\n",
              "\n",
              "  <svg xmlns=\"http://www.w3.org/2000/svg\" height=\"24px\" viewBox=\"0 -960 960 960\">\n",
              "    <path d=\"M120-120v-720h720v720H120Zm60-500h600v-160H180v160Zm220 220h160v-160H400v160Zm0 220h160v-160H400v160ZM180-400h160v-160H180v160Zm440 0h160v-160H620v160ZM180-180h160v-160H180v160Zm440 0h160v-160H620v160Z\"/>\n",
              "  </svg>\n",
              "    </button>\n",
              "\n",
              "  <style>\n",
              "    .colab-df-container {\n",
              "      display:flex;\n",
              "      gap: 12px;\n",
              "    }\n",
              "\n",
              "    .colab-df-convert {\n",
              "      background-color: #E8F0FE;\n",
              "      border: none;\n",
              "      border-radius: 50%;\n",
              "      cursor: pointer;\n",
              "      display: none;\n",
              "      fill: #1967D2;\n",
              "      height: 32px;\n",
              "      padding: 0 0 0 0;\n",
              "      width: 32px;\n",
              "    }\n",
              "\n",
              "    .colab-df-convert:hover {\n",
              "      background-color: #E2EBFA;\n",
              "      box-shadow: 0px 1px 2px rgba(60, 64, 67, 0.3), 0px 1px 3px 1px rgba(60, 64, 67, 0.15);\n",
              "      fill: #174EA6;\n",
              "    }\n",
              "\n",
              "    .colab-df-buttons div {\n",
              "      margin-bottom: 4px;\n",
              "    }\n",
              "\n",
              "    [theme=dark] .colab-df-convert {\n",
              "      background-color: #3B4455;\n",
              "      fill: #D2E3FC;\n",
              "    }\n",
              "\n",
              "    [theme=dark] .colab-df-convert:hover {\n",
              "      background-color: #434B5C;\n",
              "      box-shadow: 0px 1px 3px 1px rgba(0, 0, 0, 0.15);\n",
              "      filter: drop-shadow(0px 1px 2px rgba(0, 0, 0, 0.3));\n",
              "      fill: #FFFFFF;\n",
              "    }\n",
              "  </style>\n",
              "\n",
              "    <script>\n",
              "      const buttonEl =\n",
              "        document.querySelector('#df-36b92ebe-ffe3-490d-b6e8-3ce186dd83be button.colab-df-convert');\n",
              "      buttonEl.style.display =\n",
              "        google.colab.kernel.accessAllowed ? 'block' : 'none';\n",
              "\n",
              "      async function convertToInteractive(key) {\n",
              "        const element = document.querySelector('#df-36b92ebe-ffe3-490d-b6e8-3ce186dd83be');\n",
              "        const dataTable =\n",
              "          await google.colab.kernel.invokeFunction('convertToInteractive',\n",
              "                                                    [key], {});\n",
              "        if (!dataTable) return;\n",
              "\n",
              "        const docLinkHtml = 'Like what you see? Visit the ' +\n",
              "          '<a target=\"_blank\" href=https://colab.research.google.com/notebooks/data_table.ipynb>data table notebook</a>'\n",
              "          + ' to learn more about interactive tables.';\n",
              "        element.innerHTML = '';\n",
              "        dataTable['output_type'] = 'display_data';\n",
              "        await google.colab.output.renderOutput(dataTable, element);\n",
              "        const docLink = document.createElement('div');\n",
              "        docLink.innerHTML = docLinkHtml;\n",
              "        element.appendChild(docLink);\n",
              "      }\n",
              "    </script>\n",
              "  </div>\n",
              "\n",
              "    </div>\n",
              "  </div>\n"
            ]
          },
          "metadata": {},
          "execution_count": 12
        }
      ]
    },
    {
      "cell_type": "code",
      "source": [
        "# --- Preprocesamiento y Modelado ---\n",
        "X = df.drop('Compra', axis=1)\n",
        "y = df['Compra']\n",
        "\n",
        "num_features = ['historial_navegacion', 'tiempo_en_sitio', 'visitas_ultimo_mes', 'edad', 'membresia_prime', 'dias_desde_ult_compra']\n",
        "cat_features = ['categoria_producto', 'historial_compras', 'reviews']\n",
        "\n",
        "preprocessor = ColumnTransformer(\n",
        "    transformers=[\n",
        "        ('num', StandardScaler(), num_features),\n",
        "        ('cat', OneHotEncoder(), cat_features)\n",
        "    ])\n",
        "\n",
        "kbest = SelectKBest(f_classif, k=5)  # Selecciona las 5 mejores características, pero puedes ajustar 'k' según lo necesites\n",
        "\n",
        "# Modelo Logístico\n",
        "logistic_pipeline = Pipeline([\n",
        "    ('preprocessor', preprocessor),\n",
        "    ('feature_selector', kbest),\n",
        "    ('classifier', LogisticRegression())\n",
        "])\n",
        "\n",
        "# Árbol de Decisión\n",
        "tree_pipeline = Pipeline([\n",
        "    ('preprocessor', preprocessor),\n",
        "    ('feature_selector', kbest),\n",
        "    ('classifier', DecisionTreeClassifier())\n",
        "])"
      ],
      "metadata": {
        "id": "8ytktxZicuiJ"
      },
      "execution_count": null,
      "outputs": []
    },
    {
      "cell_type": "code",
      "source": [
        "# Validación cruzada con 10 folds\n",
        "logistic_scores = cross_val_score(logistic_pipeline, X, y, cv=10, scoring='accuracy')\n",
        "tree_scores = cross_val_score(tree_pipeline, X, y, cv=10, scoring='accuracy')\n",
        "\n",
        "print(f\"Exactitud promedio con Regresión Logística y SelectKBest: {logistic_scores.mean():.3f}\")\n",
        "print(f\"Exactitud promedio con Árboles de Decisión y SelectKBest: {tree_scores.mean():.3f}\")"
      ],
      "metadata": {
        "colab": {
          "base_uri": "https://localhost:8080/"
        },
        "id": "OrjEobz_iC3j",
        "outputId": "5e7245e7-b686-4226-aa7b-60b8c5da9b4d"
      },
      "execution_count": null,
      "outputs": [
        {
          "output_type": "stream",
          "name": "stdout",
          "text": [
            "Exactitud promedio con Regresión Logística y SelectKBest: 0.866\n",
            "Exactitud promedio con Árboles de Decisión y SelectKBest: 0.997\n"
          ]
        }
      ]
    },
    {
      "cell_type": "code",
      "source": [],
      "metadata": {
        "id": "C55f5nu1iHed"
      },
      "execution_count": null,
      "outputs": []
    }
  ]
}